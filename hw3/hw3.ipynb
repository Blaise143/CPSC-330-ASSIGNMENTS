{
 "cells": [
  {
   "cell_type": "markdown",
   "metadata": {},
   "source": [
    "# CPSC 330 - Applied Machine Learning \n",
    "\n",
    "## Homework 3: Preprocessing \n",
    "### Associated lectures: [Lectures 4, 5, 6](https://ubc-cs.github.io/cpsc330/README.html) \n",
    "\n",
    "**Due date: Wednesday, Feb 01, 2023 at 11:59pm**"
   ]
  },
  {
   "cell_type": "markdown",
   "metadata": {},
   "source": [
    "## Table of Contents\n",
    "\n",
    "- [Instructions](#si)\n",
    "- [Introduction](#in)\n",
    "- [Exercise 1: Introducing the dataset](#1)\n",
    "- [Exercise 2: Exploratory data analysis (EDA)](#2)\n",
    "- [Exercise 3: Preprocessing](#3)\n",
    "- [Exercise 4: Building models](#4)\n",
    "- [Exercise 5: Evaluating on the test set](#5)"
   ]
  },
  {
   "cell_type": "markdown",
   "metadata": {},
   "source": [
    "## Imports "
   ]
  },
  {
   "cell_type": "code",
   "execution_count": 1,
   "metadata": {
    "ExecuteTime": {
     "end_time": "2023-02-01T03:32:36.445087Z",
     "start_time": "2023-02-01T03:32:36.438322Z"
    }
   },
   "outputs": [],
   "source": [
    "import matplotlib.pyplot as plt\n",
    "import numpy as np\n",
    "import pandas as pd\n",
    "from sklearn.compose import ColumnTransformer, make_column_transformer\n",
    "from sklearn.dummy import DummyClassifier\n",
    "from sklearn.impute import SimpleImputer\n",
    "from sklearn.model_selection import cross_val_score, cross_validate, train_test_split\n",
    "from sklearn.neighbors import KNeighborsClassifier\n",
    "from sklearn.pipeline import Pipeline, make_pipeline\n",
    "from sklearn.preprocessing import OneHotEncoder, StandardScaler\n",
    "from sklearn.svm import SVC\n",
    "from sklearn.tree import DecisionTreeClassifier"
   ]
  },
  {
   "cell_type": "markdown",
   "metadata": {},
   "source": [
    "## Instructions <a name=\"si\"></a>\n",
    "<hr>\n",
    "rubric={points:6}\n",
    "\n",
    "Follow the [homework submission instructions](https://github.com/UBC-CS/cpsc330-2022W2/blob/main/docs/homework_instructions.md). \n",
    "\n",
    "**You may work with a partner on this homework (maximum group size: 2).** \n",
    "\n",
    "_Note: The assignments will get gradually more open-ended as we progress through the course. In many cases, there won't be a single correct solution. Sometimes you will have to make your own choices and your own decisions (for example, on what parameter values to use when they are not explicitly provided in the instructions). Use your own judgment in such cases and justify your choices, if necessary._"
   ]
  },
  {
   "cell_type": "markdown",
   "metadata": {
    "nbgrader": {
     "grade": false,
     "grade_id": "cell-3247a4b883a670c7",
     "locked": true,
     "schema_version": 3,
     "solution": false,
     "task": false
    },
    "tags": []
   },
   "source": [
    "## Introduction <a name=\"in\"></a>\n",
    "<hr>\n",
    "\n",
    "A crucial step when using machine learning algorithms on real-world datasets is preprocessing. This homework will give you some practice of data preprocessing and building a supervised machine learning pipeline on a real-world dataset. "
   ]
  },
  {
   "cell_type": "markdown",
   "metadata": {},
   "source": [
    "<br><br>"
   ]
  },
  {
   "cell_type": "markdown",
   "metadata": {},
   "source": [
    "## Exercise 1: Introducing the dataset <a name=\"1\"></a>\n",
    "<hr>\n",
    "\n",
    "In this lab, you will be working on [the adult census dataset](https://www.kaggle.com/uciml/adult-census-income#). Download the CSV and save it as `adult.csv` locally in this homework folder. \n",
    "\n",
    "This is a classification dataset and the classification task is to predict whether income exceeds 50K per year or not based on the census data. You can find more information on the dataset and features [here](http://archive.ics.uci.edu/ml/datasets/Adult).\n",
    "\n",
    "The starter code below loads the data CSV (assuming that it is saved as `adult.csv` in this folder). \n",
    "\n",
    "_Note that many popular datasets have sex as a feature where the possible values are male and female. This representation reflects how the data were collected and is not meant to imply that, for example, gender is binary._"
   ]
  },
  {
   "cell_type": "code",
   "execution_count": 2,
   "metadata": {
    "ExecuteTime": {
     "end_time": "2023-02-01T03:32:58.397835Z",
     "start_time": "2023-02-01T03:32:58.317472Z"
    },
    "slideshow": {
     "slide_type": "slide"
    }
   },
   "outputs": [
    {
     "data": {
      "text/plain": "(32561, 15)"
     },
     "execution_count": 2,
     "metadata": {},
     "output_type": "execute_result"
    }
   ],
   "source": [
    "census_df = pd.read_csv(\"./adult.csv\")\n",
    "census_df.shape"
   ]
  },
  {
   "cell_type": "markdown",
   "metadata": {},
   "source": [
    "<br><br>"
   ]
  },
  {
   "cell_type": "markdown",
   "metadata": {},
   "source": [
    "### 1.1 Data splitting \n",
    "rubric={points:4}\n",
    "\n",
    "In order to avoid violation of the golden rule, the first step before we do anything is splitting the data. \n",
    "\n",
    "**Your tasks:**\n",
    "\n",
    "1. Split the data into `train_df` (60%) and `test_df` (40%) with `random_state = 42`. Keep the target column (`income`) in the splits so that we can use it in the exploratory data analysis.  \n",
    "\n",
    "_Usually having more data for training is a good idea. But here we're using a 60%/40% split because this is kind of a big dataset for a modest laptop. A smaller training set means that it won't take too long to train the model on your laptop. A side advantage of this would be that with a bigger test split, we'll have a more reliable estimate of the deployment performance!_"
   ]
  },
  {
   "cell_type": "code",
   "execution_count": 3,
   "metadata": {
    "ExecuteTime": {
     "end_time": "2023-02-01T03:34:07.960026Z",
     "start_time": "2023-02-01T03:34:07.926416Z"
    },
    "slideshow": {
     "slide_type": "slide"
    }
   },
   "outputs": [
    {
     "name": "stdout",
     "output_type": "stream",
     "text": [
      "Sample Train Data\n"
     ]
    },
    {
     "data": {
      "text/plain": "       age  workclass  fnlwgt  education  education.num      marital.status  \\\n25823   36    Private  245521    7th-8th              4  Married-civ-spouse   \n10274   26    Private  134287  Assoc-voc             11       Never-married   \n27652   25  Local-gov  109526    HS-grad              9  Married-civ-spouse   \n13941   23    Private  131275    HS-grad              9       Never-married   \n31384   27    Private  193122    HS-grad              9  Married-civ-spouse   \n\n              occupation relationship                race     sex  \\\n25823    Farming-fishing      Husband               White    Male   \n10274              Sales    Own-child               White  Female   \n27652       Craft-repair      Husband               White    Male   \n13941       Craft-repair    Own-child  Amer-Indian-Eskimo    Male   \n31384  Machine-op-inspct      Husband               White    Male   \n\n       capital.gain  capital.loss  hours.per.week native.country income  \n25823             0             0              35         Mexico  <=50K  \n10274             0             0              35  United-States  <=50K  \n27652             0             0              38  United-States  <=50K  \n13941             0             0              40  United-States  <=50K  \n31384             0             0              40  United-States  <=50K  ",
      "text/html": "<div>\n<style scoped>\n    .dataframe tbody tr th:only-of-type {\n        vertical-align: middle;\n    }\n\n    .dataframe tbody tr th {\n        vertical-align: top;\n    }\n\n    .dataframe thead th {\n        text-align: right;\n    }\n</style>\n<table border=\"1\" class=\"dataframe\">\n  <thead>\n    <tr style=\"text-align: right;\">\n      <th></th>\n      <th>age</th>\n      <th>workclass</th>\n      <th>fnlwgt</th>\n      <th>education</th>\n      <th>education.num</th>\n      <th>marital.status</th>\n      <th>occupation</th>\n      <th>relationship</th>\n      <th>race</th>\n      <th>sex</th>\n      <th>capital.gain</th>\n      <th>capital.loss</th>\n      <th>hours.per.week</th>\n      <th>native.country</th>\n      <th>income</th>\n    </tr>\n  </thead>\n  <tbody>\n    <tr>\n      <th>25823</th>\n      <td>36</td>\n      <td>Private</td>\n      <td>245521</td>\n      <td>7th-8th</td>\n      <td>4</td>\n      <td>Married-civ-spouse</td>\n      <td>Farming-fishing</td>\n      <td>Husband</td>\n      <td>White</td>\n      <td>Male</td>\n      <td>0</td>\n      <td>0</td>\n      <td>35</td>\n      <td>Mexico</td>\n      <td>&lt;=50K</td>\n    </tr>\n    <tr>\n      <th>10274</th>\n      <td>26</td>\n      <td>Private</td>\n      <td>134287</td>\n      <td>Assoc-voc</td>\n      <td>11</td>\n      <td>Never-married</td>\n      <td>Sales</td>\n      <td>Own-child</td>\n      <td>White</td>\n      <td>Female</td>\n      <td>0</td>\n      <td>0</td>\n      <td>35</td>\n      <td>United-States</td>\n      <td>&lt;=50K</td>\n    </tr>\n    <tr>\n      <th>27652</th>\n      <td>25</td>\n      <td>Local-gov</td>\n      <td>109526</td>\n      <td>HS-grad</td>\n      <td>9</td>\n      <td>Married-civ-spouse</td>\n      <td>Craft-repair</td>\n      <td>Husband</td>\n      <td>White</td>\n      <td>Male</td>\n      <td>0</td>\n      <td>0</td>\n      <td>38</td>\n      <td>United-States</td>\n      <td>&lt;=50K</td>\n    </tr>\n    <tr>\n      <th>13941</th>\n      <td>23</td>\n      <td>Private</td>\n      <td>131275</td>\n      <td>HS-grad</td>\n      <td>9</td>\n      <td>Never-married</td>\n      <td>Craft-repair</td>\n      <td>Own-child</td>\n      <td>Amer-Indian-Eskimo</td>\n      <td>Male</td>\n      <td>0</td>\n      <td>0</td>\n      <td>40</td>\n      <td>United-States</td>\n      <td>&lt;=50K</td>\n    </tr>\n    <tr>\n      <th>31384</th>\n      <td>27</td>\n      <td>Private</td>\n      <td>193122</td>\n      <td>HS-grad</td>\n      <td>9</td>\n      <td>Married-civ-spouse</td>\n      <td>Machine-op-inspct</td>\n      <td>Husband</td>\n      <td>White</td>\n      <td>Male</td>\n      <td>0</td>\n      <td>0</td>\n      <td>40</td>\n      <td>United-States</td>\n      <td>&lt;=50K</td>\n    </tr>\n  </tbody>\n</table>\n</div>"
     },
     "metadata": {},
     "output_type": "display_data"
    }
   ],
   "source": [
    "train_df, test_df = train_test_split(census_df, train_size=0.6, random_state=42)\n",
    "print(\"Sample Train Data\")\n",
    "display(train_df.head())"
   ]
  },
  {
   "cell_type": "markdown",
   "metadata": {},
   "source": [
    "<br><br>"
   ]
  },
  {
   "cell_type": "markdown",
   "metadata": {
    "slideshow": {
     "slide_type": "slide"
    }
   },
   "source": [
    "## Exercise 2: Exploratory data analysis (EDA) <a name=\"2\"></a> \n",
    "<hr>"
   ]
  },
  {
   "cell_type": "markdown",
   "metadata": {},
   "source": [
    "Let's examine our `train_df`. "
   ]
  },
  {
   "cell_type": "code",
   "execution_count": 4,
   "metadata": {
    "ExecuteTime": {
     "end_time": "2023-02-01T03:34:35.031441Z",
     "start_time": "2023-02-01T03:34:34.976920Z"
    }
   },
   "outputs": [
    {
     "data": {
      "text/plain": "       age workclass  fnlwgt     education  education.num      marital.status  \\\n0       90         ?   77053       HS-grad              9             Widowed   \n1       82   Private  132870       HS-grad              9             Widowed   \n2       66         ?  186061  Some-college             10             Widowed   \n5       34   Private  216864       HS-grad              9            Divorced   \n9       41   Private   70037  Some-college             10       Never-married   \n...    ...       ...     ...           ...            ...                 ...   \n32553   43   Private   84661     Assoc-voc             11  Married-civ-spouse   \n32554   32   Private  116138       Masters             14       Never-married   \n32555   53   Private  321865       Masters             14  Married-civ-spouse   \n32557   27   Private  257302    Assoc-acdm             12  Married-civ-spouse   \n32559   58   Private  151910       HS-grad              9             Widowed   \n\n            occupation   relationship                race     sex  \\\n0                    ?  Not-in-family               White  Female   \n1      Exec-managerial  Not-in-family               White  Female   \n2                    ?      Unmarried               Black  Female   \n5        Other-service      Unmarried               White  Female   \n9         Craft-repair      Unmarried               White    Male   \n...                ...            ...                 ...     ...   \n32553            Sales        Husband               White    Male   \n32554     Tech-support  Not-in-family  Asian-Pac-Islander    Male   \n32555  Exec-managerial        Husband               White    Male   \n32557     Tech-support           Wife               White  Female   \n32559     Adm-clerical      Unmarried               White  Female   \n\n       capital.gain  capital.loss  hours.per.week native.country income  \n0                 0          4356              40  United-States  <=50K  \n1                 0          4356              18  United-States  <=50K  \n2                 0          4356              40  United-States  <=50K  \n5                 0          3770              45  United-States  <=50K  \n9                 0          3004              60              ?   >50K  \n...             ...           ...             ...            ...    ...  \n32553             0             0              45  United-States  <=50K  \n32554             0             0              11         Taiwan  <=50K  \n32555             0             0              40  United-States   >50K  \n32557             0             0              38  United-States  <=50K  \n32559             0             0              40  United-States  <=50K  \n\n[19536 rows x 15 columns]",
      "text/html": "<div>\n<style scoped>\n    .dataframe tbody tr th:only-of-type {\n        vertical-align: middle;\n    }\n\n    .dataframe tbody tr th {\n        vertical-align: top;\n    }\n\n    .dataframe thead th {\n        text-align: right;\n    }\n</style>\n<table border=\"1\" class=\"dataframe\">\n  <thead>\n    <tr style=\"text-align: right;\">\n      <th></th>\n      <th>age</th>\n      <th>workclass</th>\n      <th>fnlwgt</th>\n      <th>education</th>\n      <th>education.num</th>\n      <th>marital.status</th>\n      <th>occupation</th>\n      <th>relationship</th>\n      <th>race</th>\n      <th>sex</th>\n      <th>capital.gain</th>\n      <th>capital.loss</th>\n      <th>hours.per.week</th>\n      <th>native.country</th>\n      <th>income</th>\n    </tr>\n  </thead>\n  <tbody>\n    <tr>\n      <th>0</th>\n      <td>90</td>\n      <td>?</td>\n      <td>77053</td>\n      <td>HS-grad</td>\n      <td>9</td>\n      <td>Widowed</td>\n      <td>?</td>\n      <td>Not-in-family</td>\n      <td>White</td>\n      <td>Female</td>\n      <td>0</td>\n      <td>4356</td>\n      <td>40</td>\n      <td>United-States</td>\n      <td>&lt;=50K</td>\n    </tr>\n    <tr>\n      <th>1</th>\n      <td>82</td>\n      <td>Private</td>\n      <td>132870</td>\n      <td>HS-grad</td>\n      <td>9</td>\n      <td>Widowed</td>\n      <td>Exec-managerial</td>\n      <td>Not-in-family</td>\n      <td>White</td>\n      <td>Female</td>\n      <td>0</td>\n      <td>4356</td>\n      <td>18</td>\n      <td>United-States</td>\n      <td>&lt;=50K</td>\n    </tr>\n    <tr>\n      <th>2</th>\n      <td>66</td>\n      <td>?</td>\n      <td>186061</td>\n      <td>Some-college</td>\n      <td>10</td>\n      <td>Widowed</td>\n      <td>?</td>\n      <td>Unmarried</td>\n      <td>Black</td>\n      <td>Female</td>\n      <td>0</td>\n      <td>4356</td>\n      <td>40</td>\n      <td>United-States</td>\n      <td>&lt;=50K</td>\n    </tr>\n    <tr>\n      <th>5</th>\n      <td>34</td>\n      <td>Private</td>\n      <td>216864</td>\n      <td>HS-grad</td>\n      <td>9</td>\n      <td>Divorced</td>\n      <td>Other-service</td>\n      <td>Unmarried</td>\n      <td>White</td>\n      <td>Female</td>\n      <td>0</td>\n      <td>3770</td>\n      <td>45</td>\n      <td>United-States</td>\n      <td>&lt;=50K</td>\n    </tr>\n    <tr>\n      <th>9</th>\n      <td>41</td>\n      <td>Private</td>\n      <td>70037</td>\n      <td>Some-college</td>\n      <td>10</td>\n      <td>Never-married</td>\n      <td>Craft-repair</td>\n      <td>Unmarried</td>\n      <td>White</td>\n      <td>Male</td>\n      <td>0</td>\n      <td>3004</td>\n      <td>60</td>\n      <td>?</td>\n      <td>&gt;50K</td>\n    </tr>\n    <tr>\n      <th>...</th>\n      <td>...</td>\n      <td>...</td>\n      <td>...</td>\n      <td>...</td>\n      <td>...</td>\n      <td>...</td>\n      <td>...</td>\n      <td>...</td>\n      <td>...</td>\n      <td>...</td>\n      <td>...</td>\n      <td>...</td>\n      <td>...</td>\n      <td>...</td>\n      <td>...</td>\n    </tr>\n    <tr>\n      <th>32553</th>\n      <td>43</td>\n      <td>Private</td>\n      <td>84661</td>\n      <td>Assoc-voc</td>\n      <td>11</td>\n      <td>Married-civ-spouse</td>\n      <td>Sales</td>\n      <td>Husband</td>\n      <td>White</td>\n      <td>Male</td>\n      <td>0</td>\n      <td>0</td>\n      <td>45</td>\n      <td>United-States</td>\n      <td>&lt;=50K</td>\n    </tr>\n    <tr>\n      <th>32554</th>\n      <td>32</td>\n      <td>Private</td>\n      <td>116138</td>\n      <td>Masters</td>\n      <td>14</td>\n      <td>Never-married</td>\n      <td>Tech-support</td>\n      <td>Not-in-family</td>\n      <td>Asian-Pac-Islander</td>\n      <td>Male</td>\n      <td>0</td>\n      <td>0</td>\n      <td>11</td>\n      <td>Taiwan</td>\n      <td>&lt;=50K</td>\n    </tr>\n    <tr>\n      <th>32555</th>\n      <td>53</td>\n      <td>Private</td>\n      <td>321865</td>\n      <td>Masters</td>\n      <td>14</td>\n      <td>Married-civ-spouse</td>\n      <td>Exec-managerial</td>\n      <td>Husband</td>\n      <td>White</td>\n      <td>Male</td>\n      <td>0</td>\n      <td>0</td>\n      <td>40</td>\n      <td>United-States</td>\n      <td>&gt;50K</td>\n    </tr>\n    <tr>\n      <th>32557</th>\n      <td>27</td>\n      <td>Private</td>\n      <td>257302</td>\n      <td>Assoc-acdm</td>\n      <td>12</td>\n      <td>Married-civ-spouse</td>\n      <td>Tech-support</td>\n      <td>Wife</td>\n      <td>White</td>\n      <td>Female</td>\n      <td>0</td>\n      <td>0</td>\n      <td>38</td>\n      <td>United-States</td>\n      <td>&lt;=50K</td>\n    </tr>\n    <tr>\n      <th>32559</th>\n      <td>58</td>\n      <td>Private</td>\n      <td>151910</td>\n      <td>HS-grad</td>\n      <td>9</td>\n      <td>Widowed</td>\n      <td>Adm-clerical</td>\n      <td>Unmarried</td>\n      <td>White</td>\n      <td>Female</td>\n      <td>0</td>\n      <td>0</td>\n      <td>40</td>\n      <td>United-States</td>\n      <td>&lt;=50K</td>\n    </tr>\n  </tbody>\n</table>\n<p>19536 rows × 15 columns</p>\n</div>"
     },
     "execution_count": 4,
     "metadata": {},
     "output_type": "execute_result"
    }
   ],
   "source": [
    "train_df.sort_index()"
   ]
  },
  {
   "cell_type": "markdown",
   "metadata": {},
   "source": [
    "We see some missing values represented with a \"?\". Probably these were the questions not answered by some people during the census.  Usually `.describe()` or `.info()` methods would give you information on missing values. But here, they won't pick \"?\" as missing values as they are encoded as strings instead of an actual NaN in Python. So let's replace them with `np.nan` before we carry out EDA. If you do not do it, you'll encounter an error later on when you try to pass this data to a classifier. "
   ]
  },
  {
   "cell_type": "code",
   "execution_count": 5,
   "metadata": {
    "ExecuteTime": {
     "end_time": "2023-02-01T03:34:58.909885Z",
     "start_time": "2023-02-01T03:34:58.876622Z"
    }
   },
   "outputs": [
    {
     "data": {
      "text/plain": "(19536, 15)"
     },
     "execution_count": 5,
     "metadata": {},
     "output_type": "execute_result"
    }
   ],
   "source": [
    "train_df_nan = train_df.replace(\"?\", np.nan)\n",
    "test_df_nan = test_df.replace(\"?\", np.nan)\n",
    "train_df_nan.shape"
   ]
  },
  {
   "cell_type": "code",
   "execution_count": 6,
   "metadata": {
    "ExecuteTime": {
     "end_time": "2023-02-01T03:35:03.358383Z",
     "start_time": "2023-02-01T03:35:03.310883Z"
    }
   },
   "outputs": [
    {
     "data": {
      "text/plain": "       age workclass  fnlwgt     education  education.num      marital.status  \\\n0       90       NaN   77053       HS-grad              9             Widowed   \n1       82   Private  132870       HS-grad              9             Widowed   \n2       66       NaN  186061  Some-college             10             Widowed   \n5       34   Private  216864       HS-grad              9            Divorced   \n9       41   Private   70037  Some-college             10       Never-married   \n...    ...       ...     ...           ...            ...                 ...   \n32553   43   Private   84661     Assoc-voc             11  Married-civ-spouse   \n32554   32   Private  116138       Masters             14       Never-married   \n32555   53   Private  321865       Masters             14  Married-civ-spouse   \n32557   27   Private  257302    Assoc-acdm             12  Married-civ-spouse   \n32559   58   Private  151910       HS-grad              9             Widowed   \n\n            occupation   relationship                race     sex  \\\n0                  NaN  Not-in-family               White  Female   \n1      Exec-managerial  Not-in-family               White  Female   \n2                  NaN      Unmarried               Black  Female   \n5        Other-service      Unmarried               White  Female   \n9         Craft-repair      Unmarried               White    Male   \n...                ...            ...                 ...     ...   \n32553            Sales        Husband               White    Male   \n32554     Tech-support  Not-in-family  Asian-Pac-Islander    Male   \n32555  Exec-managerial        Husband               White    Male   \n32557     Tech-support           Wife               White  Female   \n32559     Adm-clerical      Unmarried               White  Female   \n\n       capital.gain  capital.loss  hours.per.week native.country income  \n0                 0          4356              40  United-States  <=50K  \n1                 0          4356              18  United-States  <=50K  \n2                 0          4356              40  United-States  <=50K  \n5                 0          3770              45  United-States  <=50K  \n9                 0          3004              60            NaN   >50K  \n...             ...           ...             ...            ...    ...  \n32553             0             0              45  United-States  <=50K  \n32554             0             0              11         Taiwan  <=50K  \n32555             0             0              40  United-States   >50K  \n32557             0             0              38  United-States  <=50K  \n32559             0             0              40  United-States  <=50K  \n\n[19536 rows x 15 columns]",
      "text/html": "<div>\n<style scoped>\n    .dataframe tbody tr th:only-of-type {\n        vertical-align: middle;\n    }\n\n    .dataframe tbody tr th {\n        vertical-align: top;\n    }\n\n    .dataframe thead th {\n        text-align: right;\n    }\n</style>\n<table border=\"1\" class=\"dataframe\">\n  <thead>\n    <tr style=\"text-align: right;\">\n      <th></th>\n      <th>age</th>\n      <th>workclass</th>\n      <th>fnlwgt</th>\n      <th>education</th>\n      <th>education.num</th>\n      <th>marital.status</th>\n      <th>occupation</th>\n      <th>relationship</th>\n      <th>race</th>\n      <th>sex</th>\n      <th>capital.gain</th>\n      <th>capital.loss</th>\n      <th>hours.per.week</th>\n      <th>native.country</th>\n      <th>income</th>\n    </tr>\n  </thead>\n  <tbody>\n    <tr>\n      <th>0</th>\n      <td>90</td>\n      <td>NaN</td>\n      <td>77053</td>\n      <td>HS-grad</td>\n      <td>9</td>\n      <td>Widowed</td>\n      <td>NaN</td>\n      <td>Not-in-family</td>\n      <td>White</td>\n      <td>Female</td>\n      <td>0</td>\n      <td>4356</td>\n      <td>40</td>\n      <td>United-States</td>\n      <td>&lt;=50K</td>\n    </tr>\n    <tr>\n      <th>1</th>\n      <td>82</td>\n      <td>Private</td>\n      <td>132870</td>\n      <td>HS-grad</td>\n      <td>9</td>\n      <td>Widowed</td>\n      <td>Exec-managerial</td>\n      <td>Not-in-family</td>\n      <td>White</td>\n      <td>Female</td>\n      <td>0</td>\n      <td>4356</td>\n      <td>18</td>\n      <td>United-States</td>\n      <td>&lt;=50K</td>\n    </tr>\n    <tr>\n      <th>2</th>\n      <td>66</td>\n      <td>NaN</td>\n      <td>186061</td>\n      <td>Some-college</td>\n      <td>10</td>\n      <td>Widowed</td>\n      <td>NaN</td>\n      <td>Unmarried</td>\n      <td>Black</td>\n      <td>Female</td>\n      <td>0</td>\n      <td>4356</td>\n      <td>40</td>\n      <td>United-States</td>\n      <td>&lt;=50K</td>\n    </tr>\n    <tr>\n      <th>5</th>\n      <td>34</td>\n      <td>Private</td>\n      <td>216864</td>\n      <td>HS-grad</td>\n      <td>9</td>\n      <td>Divorced</td>\n      <td>Other-service</td>\n      <td>Unmarried</td>\n      <td>White</td>\n      <td>Female</td>\n      <td>0</td>\n      <td>3770</td>\n      <td>45</td>\n      <td>United-States</td>\n      <td>&lt;=50K</td>\n    </tr>\n    <tr>\n      <th>9</th>\n      <td>41</td>\n      <td>Private</td>\n      <td>70037</td>\n      <td>Some-college</td>\n      <td>10</td>\n      <td>Never-married</td>\n      <td>Craft-repair</td>\n      <td>Unmarried</td>\n      <td>White</td>\n      <td>Male</td>\n      <td>0</td>\n      <td>3004</td>\n      <td>60</td>\n      <td>NaN</td>\n      <td>&gt;50K</td>\n    </tr>\n    <tr>\n      <th>...</th>\n      <td>...</td>\n      <td>...</td>\n      <td>...</td>\n      <td>...</td>\n      <td>...</td>\n      <td>...</td>\n      <td>...</td>\n      <td>...</td>\n      <td>...</td>\n      <td>...</td>\n      <td>...</td>\n      <td>...</td>\n      <td>...</td>\n      <td>...</td>\n      <td>...</td>\n    </tr>\n    <tr>\n      <th>32553</th>\n      <td>43</td>\n      <td>Private</td>\n      <td>84661</td>\n      <td>Assoc-voc</td>\n      <td>11</td>\n      <td>Married-civ-spouse</td>\n      <td>Sales</td>\n      <td>Husband</td>\n      <td>White</td>\n      <td>Male</td>\n      <td>0</td>\n      <td>0</td>\n      <td>45</td>\n      <td>United-States</td>\n      <td>&lt;=50K</td>\n    </tr>\n    <tr>\n      <th>32554</th>\n      <td>32</td>\n      <td>Private</td>\n      <td>116138</td>\n      <td>Masters</td>\n      <td>14</td>\n      <td>Never-married</td>\n      <td>Tech-support</td>\n      <td>Not-in-family</td>\n      <td>Asian-Pac-Islander</td>\n      <td>Male</td>\n      <td>0</td>\n      <td>0</td>\n      <td>11</td>\n      <td>Taiwan</td>\n      <td>&lt;=50K</td>\n    </tr>\n    <tr>\n      <th>32555</th>\n      <td>53</td>\n      <td>Private</td>\n      <td>321865</td>\n      <td>Masters</td>\n      <td>14</td>\n      <td>Married-civ-spouse</td>\n      <td>Exec-managerial</td>\n      <td>Husband</td>\n      <td>White</td>\n      <td>Male</td>\n      <td>0</td>\n      <td>0</td>\n      <td>40</td>\n      <td>United-States</td>\n      <td>&gt;50K</td>\n    </tr>\n    <tr>\n      <th>32557</th>\n      <td>27</td>\n      <td>Private</td>\n      <td>257302</td>\n      <td>Assoc-acdm</td>\n      <td>12</td>\n      <td>Married-civ-spouse</td>\n      <td>Tech-support</td>\n      <td>Wife</td>\n      <td>White</td>\n      <td>Female</td>\n      <td>0</td>\n      <td>0</td>\n      <td>38</td>\n      <td>United-States</td>\n      <td>&lt;=50K</td>\n    </tr>\n    <tr>\n      <th>32559</th>\n      <td>58</td>\n      <td>Private</td>\n      <td>151910</td>\n      <td>HS-grad</td>\n      <td>9</td>\n      <td>Widowed</td>\n      <td>Adm-clerical</td>\n      <td>Unmarried</td>\n      <td>White</td>\n      <td>Female</td>\n      <td>0</td>\n      <td>0</td>\n      <td>40</td>\n      <td>United-States</td>\n      <td>&lt;=50K</td>\n    </tr>\n  </tbody>\n</table>\n<p>19536 rows × 15 columns</p>\n</div>"
     },
     "execution_count": 6,
     "metadata": {},
     "output_type": "execute_result"
    }
   ],
   "source": [
    "train_df_nan.sort_index()"
   ]
  },
  {
   "cell_type": "markdown",
   "metadata": {},
   "source": [
    "The \"?\" symbols are now replaced with NaN values. "
   ]
  },
  {
   "cell_type": "markdown",
   "metadata": {},
   "source": [
    "<br><br>"
   ]
  },
  {
   "cell_type": "markdown",
   "metadata": {},
   "source": [
    "### 2.1 Visualizing features\n",
    "rubric={points:10}\n",
    "\n",
    "**Your tasks:**\n",
    "\n",
    "1. Examine the information given by `train_df_nan.info()` and `train_df_nan.describe()` methods. In case of `.describe()`, use the `include=\"all\"` argument to show summary statistics of all  features.\n",
    "2. Visualize the histograms of numeric features. \n",
    "3. From the visualizations, which features seem relevant for the given prediction task?\n",
    "\n",
    "> Note: (Optional) If you're feeling excited about this you are welcome to use [`pandas_profiling`](https://github.com/pandas-profiling/pandas-profiling) for more elaborate visualization and EDA. "
   ]
  },
  {
   "cell_type": "markdown",
   "metadata": {},
   "source": [
    "**solution**"
   ]
  },
  {
   "cell_type": "code",
   "execution_count": 7,
   "metadata": {
    "ExecuteTime": {
     "end_time": "2023-02-01T03:35:31.070829Z",
     "start_time": "2023-02-01T03:35:31.028192Z"
    }
   },
   "outputs": [
    {
     "name": "stdout",
     "output_type": "stream",
     "text": [
      "<class 'pandas.core.frame.DataFrame'>\n",
      "Int64Index: 19536 entries, 25823 to 23654\n",
      "Data columns (total 15 columns):\n",
      " #   Column          Non-Null Count  Dtype \n",
      "---  ------          --------------  ----- \n",
      " 0   age             19536 non-null  int64 \n",
      " 1   workclass       18428 non-null  object\n",
      " 2   fnlwgt          19536 non-null  int64 \n",
      " 3   education       19536 non-null  object\n",
      " 4   education.num   19536 non-null  int64 \n",
      " 5   marital.status  19536 non-null  object\n",
      " 6   occupation      18424 non-null  object\n",
      " 7   relationship    19536 non-null  object\n",
      " 8   race            19536 non-null  object\n",
      " 9   sex             19536 non-null  object\n",
      " 10  capital.gain    19536 non-null  int64 \n",
      " 11  capital.loss    19536 non-null  int64 \n",
      " 12  hours.per.week  19536 non-null  int64 \n",
      " 13  native.country  19187 non-null  object\n",
      " 14  income          19536 non-null  object\n",
      "dtypes: int64(6), object(9)\n",
      "memory usage: 2.4+ MB\n"
     ]
    }
   ],
   "source": [
    "train_df_nan.info()"
   ]
  },
  {
   "cell_type": "code",
   "execution_count": 8,
   "metadata": {
    "ExecuteTime": {
     "end_time": "2023-02-01T03:35:33.069238Z",
     "start_time": "2023-02-01T03:35:32.975756Z"
    }
   },
   "outputs": [
    {
     "data": {
      "text/plain": "                 age workclass        fnlwgt education  education.num  \\\ncount   19536.000000     18428  1.953600e+04     19536   19536.000000   \nunique           NaN         8           NaN        16            NaN   \ntop              NaN   Private           NaN   HS-grad            NaN   \nfreq             NaN     13570           NaN      6256            NaN   \nmean       38.592547       NaN  1.892662e+05       NaN      10.084767   \nstd        13.638971       NaN  1.049020e+05       NaN       2.580723   \nmin        17.000000       NaN  1.228500e+04       NaN       1.000000   \n25%        28.000000       NaN  1.177670e+05       NaN       9.000000   \n50%        37.000000       NaN  1.782835e+05       NaN      10.000000   \n75%        47.000000       NaN  2.368860e+05       NaN      12.000000   \nmax        90.000000       NaN  1.455435e+06       NaN      16.000000   \n\n            marital.status      occupation relationship   race    sex  \\\ncount                19536           18424        19536  19536  19536   \nunique                   7              14            6      5      2   \ntop     Married-civ-spouse  Prof-specialty      Husband  White   Male   \nfreq                  9025            2490         7937  16676  13079   \nmean                   NaN             NaN          NaN    NaN    NaN   \nstd                    NaN             NaN          NaN    NaN    NaN   \nmin                    NaN             NaN          NaN    NaN    NaN   \n25%                    NaN             NaN          NaN    NaN    NaN   \n50%                    NaN             NaN          NaN    NaN    NaN   \n75%                    NaN             NaN          NaN    NaN    NaN   \nmax                    NaN             NaN          NaN    NaN    NaN   \n\n        capital.gain  capital.loss  hours.per.week native.country income  \ncount   19536.000000  19536.000000    19536.000000          19187  19536  \nunique           NaN           NaN             NaN             41      2  \ntop              NaN           NaN             NaN  United-States  <=50K  \nfreq             NaN           NaN             NaN          17517  14841  \nmean     1090.443540     86.537162       40.532606            NaN    NaN  \nstd      7449.700833    402.395668       12.406636            NaN    NaN  \nmin         0.000000      0.000000        1.000000            NaN    NaN  \n25%         0.000000      0.000000       40.000000            NaN    NaN  \n50%         0.000000      0.000000       40.000000            NaN    NaN  \n75%         0.000000      0.000000       45.000000            NaN    NaN  \nmax     99999.000000   4356.000000       99.000000            NaN    NaN  ",
      "text/html": "<div>\n<style scoped>\n    .dataframe tbody tr th:only-of-type {\n        vertical-align: middle;\n    }\n\n    .dataframe tbody tr th {\n        vertical-align: top;\n    }\n\n    .dataframe thead th {\n        text-align: right;\n    }\n</style>\n<table border=\"1\" class=\"dataframe\">\n  <thead>\n    <tr style=\"text-align: right;\">\n      <th></th>\n      <th>age</th>\n      <th>workclass</th>\n      <th>fnlwgt</th>\n      <th>education</th>\n      <th>education.num</th>\n      <th>marital.status</th>\n      <th>occupation</th>\n      <th>relationship</th>\n      <th>race</th>\n      <th>sex</th>\n      <th>capital.gain</th>\n      <th>capital.loss</th>\n      <th>hours.per.week</th>\n      <th>native.country</th>\n      <th>income</th>\n    </tr>\n  </thead>\n  <tbody>\n    <tr>\n      <th>count</th>\n      <td>19536.000000</td>\n      <td>18428</td>\n      <td>1.953600e+04</td>\n      <td>19536</td>\n      <td>19536.000000</td>\n      <td>19536</td>\n      <td>18424</td>\n      <td>19536</td>\n      <td>19536</td>\n      <td>19536</td>\n      <td>19536.000000</td>\n      <td>19536.000000</td>\n      <td>19536.000000</td>\n      <td>19187</td>\n      <td>19536</td>\n    </tr>\n    <tr>\n      <th>unique</th>\n      <td>NaN</td>\n      <td>8</td>\n      <td>NaN</td>\n      <td>16</td>\n      <td>NaN</td>\n      <td>7</td>\n      <td>14</td>\n      <td>6</td>\n      <td>5</td>\n      <td>2</td>\n      <td>NaN</td>\n      <td>NaN</td>\n      <td>NaN</td>\n      <td>41</td>\n      <td>2</td>\n    </tr>\n    <tr>\n      <th>top</th>\n      <td>NaN</td>\n      <td>Private</td>\n      <td>NaN</td>\n      <td>HS-grad</td>\n      <td>NaN</td>\n      <td>Married-civ-spouse</td>\n      <td>Prof-specialty</td>\n      <td>Husband</td>\n      <td>White</td>\n      <td>Male</td>\n      <td>NaN</td>\n      <td>NaN</td>\n      <td>NaN</td>\n      <td>United-States</td>\n      <td>&lt;=50K</td>\n    </tr>\n    <tr>\n      <th>freq</th>\n      <td>NaN</td>\n      <td>13570</td>\n      <td>NaN</td>\n      <td>6256</td>\n      <td>NaN</td>\n      <td>9025</td>\n      <td>2490</td>\n      <td>7937</td>\n      <td>16676</td>\n      <td>13079</td>\n      <td>NaN</td>\n      <td>NaN</td>\n      <td>NaN</td>\n      <td>17517</td>\n      <td>14841</td>\n    </tr>\n    <tr>\n      <th>mean</th>\n      <td>38.592547</td>\n      <td>NaN</td>\n      <td>1.892662e+05</td>\n      <td>NaN</td>\n      <td>10.084767</td>\n      <td>NaN</td>\n      <td>NaN</td>\n      <td>NaN</td>\n      <td>NaN</td>\n      <td>NaN</td>\n      <td>1090.443540</td>\n      <td>86.537162</td>\n      <td>40.532606</td>\n      <td>NaN</td>\n      <td>NaN</td>\n    </tr>\n    <tr>\n      <th>std</th>\n      <td>13.638971</td>\n      <td>NaN</td>\n      <td>1.049020e+05</td>\n      <td>NaN</td>\n      <td>2.580723</td>\n      <td>NaN</td>\n      <td>NaN</td>\n      <td>NaN</td>\n      <td>NaN</td>\n      <td>NaN</td>\n      <td>7449.700833</td>\n      <td>402.395668</td>\n      <td>12.406636</td>\n      <td>NaN</td>\n      <td>NaN</td>\n    </tr>\n    <tr>\n      <th>min</th>\n      <td>17.000000</td>\n      <td>NaN</td>\n      <td>1.228500e+04</td>\n      <td>NaN</td>\n      <td>1.000000</td>\n      <td>NaN</td>\n      <td>NaN</td>\n      <td>NaN</td>\n      <td>NaN</td>\n      <td>NaN</td>\n      <td>0.000000</td>\n      <td>0.000000</td>\n      <td>1.000000</td>\n      <td>NaN</td>\n      <td>NaN</td>\n    </tr>\n    <tr>\n      <th>25%</th>\n      <td>28.000000</td>\n      <td>NaN</td>\n      <td>1.177670e+05</td>\n      <td>NaN</td>\n      <td>9.000000</td>\n      <td>NaN</td>\n      <td>NaN</td>\n      <td>NaN</td>\n      <td>NaN</td>\n      <td>NaN</td>\n      <td>0.000000</td>\n      <td>0.000000</td>\n      <td>40.000000</td>\n      <td>NaN</td>\n      <td>NaN</td>\n    </tr>\n    <tr>\n      <th>50%</th>\n      <td>37.000000</td>\n      <td>NaN</td>\n      <td>1.782835e+05</td>\n      <td>NaN</td>\n      <td>10.000000</td>\n      <td>NaN</td>\n      <td>NaN</td>\n      <td>NaN</td>\n      <td>NaN</td>\n      <td>NaN</td>\n      <td>0.000000</td>\n      <td>0.000000</td>\n      <td>40.000000</td>\n      <td>NaN</td>\n      <td>NaN</td>\n    </tr>\n    <tr>\n      <th>75%</th>\n      <td>47.000000</td>\n      <td>NaN</td>\n      <td>2.368860e+05</td>\n      <td>NaN</td>\n      <td>12.000000</td>\n      <td>NaN</td>\n      <td>NaN</td>\n      <td>NaN</td>\n      <td>NaN</td>\n      <td>NaN</td>\n      <td>0.000000</td>\n      <td>0.000000</td>\n      <td>45.000000</td>\n      <td>NaN</td>\n      <td>NaN</td>\n    </tr>\n    <tr>\n      <th>max</th>\n      <td>90.000000</td>\n      <td>NaN</td>\n      <td>1.455435e+06</td>\n      <td>NaN</td>\n      <td>16.000000</td>\n      <td>NaN</td>\n      <td>NaN</td>\n      <td>NaN</td>\n      <td>NaN</td>\n      <td>NaN</td>\n      <td>99999.000000</td>\n      <td>4356.000000</td>\n      <td>99.000000</td>\n      <td>NaN</td>\n      <td>NaN</td>\n    </tr>\n  </tbody>\n</table>\n</div>"
     },
     "execution_count": 8,
     "metadata": {},
     "output_type": "execute_result"
    }
   ],
   "source": [
    "train_df_nan.describe(include=\"all\")"
   ]
  },
  {
   "cell_type": "code",
   "execution_count": 9,
   "outputs": [
    {
     "data": {
      "text/plain": "<Figure size 432x288 with 1 Axes>",
      "image/png": "[encoded data removed]"
     },
     "metadata": {
      "needs_background": "light"
     },
     "output_type": "display_data"
    },
    {
     "data": {
      "text/plain": "<Figure size 432x288 with 1 Axes>",
      "image/png": "[encoded data removed]"
     },
     "metadata": {
      "needs_background": "light"
     },
     "output_type": "display_data"
    },
    {
     "data": {
      "text/plain": "<Figure size 432x288 with 1 Axes>",
      "image/png": "[encoded data removed]"
     },
     "metadata": {
      "needs_background": "light"
     },
     "output_type": "display_data"
    },
    {
     "data": {
      "text/plain": "<Figure size 432x288 with 1 Axes>",
      "image/png": "[encoded data removed]"
     },
     "metadata": {
      "needs_background": "light"
     },
     "output_type": "display_data"
    },
    {
     "data": {
      "text/plain": "<Figure size 432x288 with 1 Axes>",
      "image/png": "[encoded data removed]"
     },
     "metadata": {
      "needs_background": "light"
     },
     "output_type": "display_data"
    },
    {
     "data": {
      "text/plain": "<Figure size 432x288 with 1 Axes>",
      "image/png": "[encoded data removed]"
     },
     "metadata": {
      "needs_background": "light"
     },
     "output_type": "display_data"
    }
   ],
   "source": [
    "# Creating boolean masks the \"income\" column\n",
    "rich_mask = train_df_nan[\"income\"] == \">50K\"\n",
    "broke_mask = train_df_nan['income'] == \"<=50K\"\n",
    "\n",
    "# Separating the data based on income\n",
    "rich = train_df_nan[rich_mask]\n",
    "broke = train_df_nan[broke_mask]\n",
    "\n",
    "# Visualizing the Numeric Features in the data\n",
    "for category in train_df_nan.select_dtypes(include='int64').columns:\n",
    "    plt.hist(rich[category], bins=20, alpha=0.5, label=\">50K\")\n",
    "    plt.hist(broke[category], bins=20, alpha=0.5, label=\"<=50K\")\n",
    "    plt.title(f\"Distribution of {category} vs Income Levels\")\n",
    "    plt.grid()\n",
    "    plt.legend()\n",
    "    plt.show()\n",
    "    plt.close()"
   ],
   "metadata": {
    "collapsed": false,
    "pycharm": {
     "name": "#%%\n"
    }
   }
  },
  {
   "cell_type": "markdown",
   "source": [
    "From the histograms above, a few features seem to stand out as important. In general, most people in the dataset make less than $50k$. However, `age` seem to be a feature that could be useful in our model. This is because the distribution of people making less than $50K$ is a lot more right skewed than those making more (which has a more normal distribution). This differing in distributions could help our model easily identify them. Another feature that could potentially be relevant to predicting income levels is `education.num`. \n"
   ],
   "metadata": {
    "collapsed": false,
    "pycharm": {
     "name": "#%% md\n"
    }
   }
  },
  {
   "cell_type": "markdown",
   "source": [
    "<br><br>"
   ],
   "metadata": {
    "collapsed": false,
    "pycharm": {
     "name": "#%% md\n"
    }
   }
  },
  {
   "cell_type": "markdown",
   "source": [
    "### 2.2 Identify transformations to apply\n",
    "rubric={points:18}\n",
    "\n",
    "**Your tasks:**\n",
    "1. Identify the sequence of transformations that you would apply on each column in the dataset and fill in the table below accordingly. An example of the sequence of transformations to be applied on the `occupation` feature is shown in the table below. You may decide not to apply any transformations on a certain column or entirely drop a column from your model. That's totally fine. \n",
    "2. Are there common transformations you would like to apply on certain types of features? Identify different feature types for applying different transformations. In particular, fill in the lists below. \n",
    "3. Is including the `race` feature for predicting income ethically a good idea? Briefly discuss. \n",
    "\n",
    "> Note: This question is a bit open-ended and there is no single correct solution."
   ],
   "metadata": {
    "collapsed": false,
    "pycharm": {
     "name": "#%% md\n"
    }
   }
  },
  {
   "cell_type": "markdown",
   "source": [
    "| Feature | Transformation |\n",
    "| --- | ----------- |\n",
    "| occupation | imputation, OHE |\n",
    "| age | standardization |\n",
    "| workclass | imputation, OHE  |\n",
    "| fnlwgt | standardization |\n",
    "| education | OHE |\n",
    "| education.num | standardization |\n",
    "| marital.status | OHE |\n",
    "| relationship | OHE |\n",
    "| race | Drop Column |\n",
    "| sex | OHE |\n",
    "| capital.gain | standardization|\n",
    "| capital.loss | standardization|\n",
    "| hours.per.week | standardization |\n",
    "| native.country | imputation, OHE |\n"
   ],
   "metadata": {
    "collapsed": false,
    "pycharm": {
     "name": "#%% md\n"
    }
   }
  },
  {
   "cell_type": "code",
   "execution_count": 10,
   "outputs": [],
   "source": [
    "# Fill in the lists below. \n",
    "# It's OK to keep some of the lists empty or add new lists. \n",
    "numeric_features = ['age', 'fnlwgt', 'education.num', 'capital.gain', 'capital.loss', 'hours.per.week']\n",
    "categorical_features = ['workclass', 'marital.status', 'occupation', 'relationship',\n",
    "                        'native.country', 'education', 'sex']\n",
    "ordinal_features = [] # Decided to perform OHE on education\n",
    "binary_features = ['sex'] # Already included this in categorical features, wont reuse them\n",
    "drop_features = ['race'] # I think it could be unethical to use this column, so I will dropped it\n",
    "passthrough_features = []\n",
    "target = \"income\""
   ],
   "metadata": {
    "collapsed": false,
    "pycharm": {
     "name": "#%%\n"
    }
   }
  },
  {
   "cell_type": "markdown",
   "source": [
    "Including the `race` feature to predict income might be unethical depending on the situation. \n",
    "To begin, there might be some unfortunate circumstances that affect a specific race more than the other that could have an effect on the income distribution among the races. Capturing this information in a machine learning model could help improve its performance. However, the problem with this is that it could lead to **bias and discrimination** against whatever race the machine learning model predicts is more likely to have less income. This could lead to some unforeseen consequences, thus making it unethical. "
   ],
   "metadata": {
    "collapsed": false,
    "pycharm": {
     "name": "#%% md\n"
    }
   }
  },
  {
   "cell_type": "markdown",
   "source": [
    "### 2.3 Separating feature vectors and targets  \n",
    "rubric={points:4}\n",
    "\n",
    "**Your tasks:**\n",
    "\n",
    "1. Create `X_train`, `y_train`, `X_test`, `y_test` from `train_df_nan` and `test_df_nan`. \n",
    "2. At this point, if you train [`sklearn`'s `SVC`](https://scikit-learn.org/stable/modules/generated/sklearn.svm.SVC.html) model on `X_train` and `y_train` would it work? Why or why not?\n",
    "\n",
    "**Solution**"
   ],
   "metadata": {
    "collapsed": false,
    "pycharm": {
     "name": "#%% md\n"
    }
   }
  },
  {
   "cell_type": "code",
   "execution_count": 11,
   "outputs": [
    {
     "name": "stdout",
     "output_type": "stream",
     "text": [
      "Number of items in X_train: 19536\n",
      "Number of items in X_test: 13025\n"
     ]
    },
    {
     "data": {
      "text/plain": "       age  workclass  fnlwgt  education  education.num      marital.status  \\\n25823   36    Private  245521    7th-8th              4  Married-civ-spouse   \n10274   26    Private  134287  Assoc-voc             11       Never-married   \n27652   25  Local-gov  109526    HS-grad              9  Married-civ-spouse   \n\n            occupation relationship   race     sex  capital.gain  \\\n25823  Farming-fishing      Husband  White    Male             0   \n10274            Sales    Own-child  White  Female             0   \n27652     Craft-repair      Husband  White    Male             0   \n\n       capital.loss  hours.per.week native.country  \n25823             0              35         Mexico  \n10274             0              35  United-States  \n27652             0              38  United-States  ",
      "text/html": "<div>\n<style scoped>\n    .dataframe tbody tr th:only-of-type {\n        vertical-align: middle;\n    }\n\n    .dataframe tbody tr th {\n        vertical-align: top;\n    }\n\n    .dataframe thead th {\n        text-align: right;\n    }\n</style>\n<table border=\"1\" class=\"dataframe\">\n  <thead>\n    <tr style=\"text-align: right;\">\n      <th></th>\n      <th>age</th>\n      <th>workclass</th>\n      <th>fnlwgt</th>\n      <th>education</th>\n      <th>education.num</th>\n      <th>marital.status</th>\n      <th>occupation</th>\n      <th>relationship</th>\n      <th>race</th>\n      <th>sex</th>\n      <th>capital.gain</th>\n      <th>capital.loss</th>\n      <th>hours.per.week</th>\n      <th>native.country</th>\n    </tr>\n  </thead>\n  <tbody>\n    <tr>\n      <th>25823</th>\n      <td>36</td>\n      <td>Private</td>\n      <td>245521</td>\n      <td>7th-8th</td>\n      <td>4</td>\n      <td>Married-civ-spouse</td>\n      <td>Farming-fishing</td>\n      <td>Husband</td>\n      <td>White</td>\n      <td>Male</td>\n      <td>0</td>\n      <td>0</td>\n      <td>35</td>\n      <td>Mexico</td>\n    </tr>\n    <tr>\n      <th>10274</th>\n      <td>26</td>\n      <td>Private</td>\n      <td>134287</td>\n      <td>Assoc-voc</td>\n      <td>11</td>\n      <td>Never-married</td>\n      <td>Sales</td>\n      <td>Own-child</td>\n      <td>White</td>\n      <td>Female</td>\n      <td>0</td>\n      <td>0</td>\n      <td>35</td>\n      <td>United-States</td>\n    </tr>\n    <tr>\n      <th>27652</th>\n      <td>25</td>\n      <td>Local-gov</td>\n      <td>109526</td>\n      <td>HS-grad</td>\n      <td>9</td>\n      <td>Married-civ-spouse</td>\n      <td>Craft-repair</td>\n      <td>Husband</td>\n      <td>White</td>\n      <td>Male</td>\n      <td>0</td>\n      <td>0</td>\n      <td>38</td>\n      <td>United-States</td>\n    </tr>\n  </tbody>\n</table>\n</div>"
     },
     "metadata": {},
     "output_type": "display_data"
    }
   ],
   "source": [
    "X_train, y_train , X_test, y_test = train_df_nan.drop(\"income\", axis=1), train_df_nan['income'],\\\n",
    "                                    test_df_nan.drop(\"income\", axis=1), test_df_nan['income']\n",
    "print(f\"Number of items in X_train: {len(X_train)}\\n\"\\\n",
    "      f\"Number of items in X_test: {len(X_test)}\")\n",
    "display(X_train.head(3))"
   ],
   "metadata": {
    "collapsed": false,
    "pycharm": {
     "name": "#%%\n"
    }
   }
  },
  {
   "cell_type": "markdown",
   "source": [
    "At this point, using Sklearn's `SVC()` would not work because some columns (categorical columns) are formated as strings `SVC` expects numbers. We need some feature engineering before `SVC` works.\n",
    "<br><br><br><br>"
   ],
   "metadata": {
    "collapsed": false,
    "pycharm": {
     "name": "#%% md\n"
    }
   }
  },
  {
   "cell_type": "markdown",
   "source": [
    "## Exercise 3: Preprocessing <a name=\"3\"></a>\n",
    "<hr>"
   ],
   "metadata": {
    "collapsed": false,
    "pycharm": {
     "name": "#%% md\n"
    }
   }
  },
  {
   "cell_type": "markdown",
   "source": [
    "### 3.1 Preprocessing using `sklearn`'s `ColumnTransformer` and `Pipeline`\n",
    "rubric={points:18}\n",
    "\n",
    "Let's carry out preprocessing using `sklearn`'s `ColumnTransformer` and `Pipeline`. Note that you can define pipelines in two ways: \n",
    "- by using [`Pipeline`](https://scikit-learn.org/stable/modules/generated/sklearn.pipeline.Pipeline.html) and explicitly providing named steps\n",
    "- by using [`make_pipeline`](https://scikit-learn.org/stable/modules/generated/sklearn.pipeline.make_pipeline.html#sklearn.pipeline.make_pipeline), which automatically names the steps in the pipeline with their class names. \n",
    "\n",
    "Similarly you can create a column transformer in two ways:\n",
    "- by using [`ColumnTransformer`](https://scikit-learn.org/stable/modules/generated/sklearn.compose.ColumnTransformer.html)\n",
    "- by using [`make_column_transformer`](https://scikit-learn.org/stable/modules/generated/sklearn.compose.make_column_transformer.html) \n",
    "\n",
    "You may use the method of your choice but `make_pipeline` and `make_column_transformer` are highly recommended.  \n",
    "\n",
    "**Your tasks:**\n",
    "\n",
    "1. Create a column transformer `preprocessor` based on transformations you want to apply on the data from 2.2. \n",
    "2. Transform the data by calling `fit_transform` on the training set. What's the shape of the transformed data? \n",
    "3. Why do we need to use a column transformer in this case? Briefly explain. "
   ],
   "metadata": {
    "collapsed": false,
    "pycharm": {
     "name": "#%% md\n"
    }
   }
  },
  {
   "cell_type": "code",
   "execution_count": 12,
   "outputs": [
    {
     "data": {
      "text/plain": "array([[-0.19008864,  0.53627453, -2.35783661, ...,  0.        ,\n         0.        ,  1.        ],\n       [-0.92330054, -0.52411372,  0.35465138, ...,  0.        ,\n         1.        ,  0.        ],\n       [-0.99662173, -0.76015912, -0.42034519, ...,  0.        ,\n         0.        ,  1.        ],\n       ...,\n       [ 1.20301397,  0.46640753, -0.42034519, ...,  0.        ,\n         0.        ,  1.        ],\n       [ 0.17651731, -0.33546616, -0.03284691, ...,  1.        ,\n         0.        ,  1.        ],\n       [-1.2165853 , -0.25356858, -0.42034519, ...,  0.        ,\n         0.        ,  1.        ]])"
     },
     "execution_count": 12,
     "metadata": {},
     "output_type": "execute_result"
    }
   ],
   "source": [
    "# Scaler for numeric variables\n",
    "scaler = StandardScaler()\n",
    "\n",
    "# Pipeline for categorical variables\n",
    "categorical_pipeline = make_pipeline(SimpleImputer(strategy=\"most_frequent\", missing_values=np.nan),\n",
    "                                    OneHotEncoder(sparse=False, handle_unknown='ignore'))\n",
    "\n",
    "# Full Pipeline for both numeric and categorical\n",
    "preprocessor = make_column_transformer(\n",
    "    (scaler, numeric_features),\n",
    "    (categorical_pipeline, categorical_features),\n",
    "    ('drop', drop_features)\n",
    ")\n",
    "\n",
    "# Fitting Full Pipeline\n",
    "preprocessor.fit_transform(X_train)"
   ],
   "metadata": {
    "collapsed": false,
    "pycharm": {
     "name": "#%%\n"
    }
   }
  },
  {
   "cell_type": "markdown",
   "source": [
    "## Exercise 4: Building models <a name=\"4\"></a>\n",
    "<hr>\n",
    "\n",
    "Now that we have preprocessed features, we are ready to build models. Below is the function we used in class, which returns the mean cross-validation score along with standard deviation for a given model. Feel free to use it to keep track of your results if you like. "
   ],
   "metadata": {
    "collapsed": false,
    "pycharm": {
     "name": "#%% md\n"
    }
   }
  },
  {
   "cell_type": "code",
   "execution_count": 13,
   "outputs": [],
   "source": [
    "results_dict = {} # dictionary to store all the results"
   ],
   "metadata": {
    "collapsed": false,
    "pycharm": {
     "name": "#%%\n"
    }
   }
  },
  {
   "cell_type": "code",
   "execution_count": 14,
   "outputs": [],
   "source": [
    "\n",
    "def mean_std_cross_val_scores(model, X_train, y_train, **kwargs):\n",
    "    \"\"\"\n",
    "    Returns mean and std of cross validation\n",
    "\n",
    "    Parameters\n",
    "    ----------\n",
    "    model :\n",
    "        scikit-learn model\n",
    "    X_train : numpy array or pandas DataFrame\n",
    "        X in the training data\n",
    "    y_train :\n",
    "        y in the training data\n",
    "\n",
    "    Returns\n",
    "    ----------\n",
    "        pandas Series with mean scores from cross_validation\n",
    "    \"\"\"\n",
    "\n",
    "    scores = cross_validate(model, X_train, y_train, **kwargs)\n",
    "\n",
    "    mean_scores = pd.DataFrame(scores).mean()\n",
    "    std_scores = pd.DataFrame(scores).std()\n",
    "    out_col = []\n",
    "\n",
    "    for i in range(len(mean_scores)):\n",
    "        out_col.append((f\"%0.3f (+/- %0.3f)\" % (mean_scores[i], std_scores[i])))\n",
    "\n",
    "    return pd.Series(data=out_col, index=mean_scores.index)"
   ],
   "metadata": {
    "collapsed": false,
    "pycharm": {
     "name": "#%%\n"
    }
   }
  },
  {
   "cell_type": "markdown",
   "source": [
    "<br><br>"
   ],
   "metadata": {
    "collapsed": false,
    "pycharm": {
     "name": "#%% md\n"
    }
   }
  },
  {
   "cell_type": "markdown",
   "source": [
    "### 4.1 Baseline model \n",
    "rubric={points:6}\n",
    "\n",
    "**Your tasks:**\n",
    "1. Define a pipeline with two steps: `preprocessor` from 3.1 and `scikit-learn`'s `DummyClassifier` with `strategy=\"prior\"` as your classifier.  \n",
    "2. Carry out 5-fold cross-validation with the pipeline. Store the results in `results_dict` above. Display the results as a pandas DataFrame.  \n",
    "\n",
    "> You may use the function `mean_std_cross_val_scores` above to carry out cross-validation and storing results. Refer to the class notes if you are unsure about how to use it. "
   ],
   "metadata": {
    "collapsed": false,
    "pycharm": {
     "name": "#%% md\n"
    }
   }
  },
  {
   "cell_type": "code",
   "execution_count": 15,
   "outputs": [
    {
     "data": {
      "text/plain": "       age  workclass  fnlwgt  education  education.num      marital.status  \\\n25823   36    Private  245521    7th-8th              4  Married-civ-spouse   \n10274   26    Private  134287  Assoc-voc             11       Never-married   \n27652   25  Local-gov  109526    HS-grad              9  Married-civ-spouse   \n13941   23    Private  131275    HS-grad              9       Never-married   \n31384   27    Private  193122    HS-grad              9  Married-civ-spouse   \n\n              occupation relationship                race     sex  \\\n25823    Farming-fishing      Husband               White    Male   \n10274              Sales    Own-child               White  Female   \n27652       Craft-repair      Husband               White    Male   \n13941       Craft-repair    Own-child  Amer-Indian-Eskimo    Male   \n31384  Machine-op-inspct      Husband               White    Male   \n\n       capital.gain  capital.loss  hours.per.week native.country  \n25823             0             0              35         Mexico  \n10274             0             0              35  United-States  \n27652             0             0              38  United-States  \n13941             0             0              40  United-States  \n31384             0             0              40  United-States  ",
      "text/html": "<div>\n<style scoped>\n    .dataframe tbody tr th:only-of-type {\n        vertical-align: middle;\n    }\n\n    .dataframe tbody tr th {\n        vertical-align: top;\n    }\n\n    .dataframe thead th {\n        text-align: right;\n    }\n</style>\n<table border=\"1\" class=\"dataframe\">\n  <thead>\n    <tr style=\"text-align: right;\">\n      <th></th>\n      <th>age</th>\n      <th>workclass</th>\n      <th>fnlwgt</th>\n      <th>education</th>\n      <th>education.num</th>\n      <th>marital.status</th>\n      <th>occupation</th>\n      <th>relationship</th>\n      <th>race</th>\n      <th>sex</th>\n      <th>capital.gain</th>\n      <th>capital.loss</th>\n      <th>hours.per.week</th>\n      <th>native.country</th>\n    </tr>\n  </thead>\n  <tbody>\n    <tr>\n      <th>25823</th>\n      <td>36</td>\n      <td>Private</td>\n      <td>245521</td>\n      <td>7th-8th</td>\n      <td>4</td>\n      <td>Married-civ-spouse</td>\n      <td>Farming-fishing</td>\n      <td>Husband</td>\n      <td>White</td>\n      <td>Male</td>\n      <td>0</td>\n      <td>0</td>\n      <td>35</td>\n      <td>Mexico</td>\n    </tr>\n    <tr>\n      <th>10274</th>\n      <td>26</td>\n      <td>Private</td>\n      <td>134287</td>\n      <td>Assoc-voc</td>\n      <td>11</td>\n      <td>Never-married</td>\n      <td>Sales</td>\n      <td>Own-child</td>\n      <td>White</td>\n      <td>Female</td>\n      <td>0</td>\n      <td>0</td>\n      <td>35</td>\n      <td>United-States</td>\n    </tr>\n    <tr>\n      <th>27652</th>\n      <td>25</td>\n      <td>Local-gov</td>\n      <td>109526</td>\n      <td>HS-grad</td>\n      <td>9</td>\n      <td>Married-civ-spouse</td>\n      <td>Craft-repair</td>\n      <td>Husband</td>\n      <td>White</td>\n      <td>Male</td>\n      <td>0</td>\n      <td>0</td>\n      <td>38</td>\n      <td>United-States</td>\n    </tr>\n    <tr>\n      <th>13941</th>\n      <td>23</td>\n      <td>Private</td>\n      <td>131275</td>\n      <td>HS-grad</td>\n      <td>9</td>\n      <td>Never-married</td>\n      <td>Craft-repair</td>\n      <td>Own-child</td>\n      <td>Amer-Indian-Eskimo</td>\n      <td>Male</td>\n      <td>0</td>\n      <td>0</td>\n      <td>40</td>\n      <td>United-States</td>\n    </tr>\n    <tr>\n      <th>31384</th>\n      <td>27</td>\n      <td>Private</td>\n      <td>193122</td>\n      <td>HS-grad</td>\n      <td>9</td>\n      <td>Married-civ-spouse</td>\n      <td>Machine-op-inspct</td>\n      <td>Husband</td>\n      <td>White</td>\n      <td>Male</td>\n      <td>0</td>\n      <td>0</td>\n      <td>40</td>\n      <td>United-States</td>\n    </tr>\n  </tbody>\n</table>\n</div>"
     },
     "execution_count": 15,
     "metadata": {},
     "output_type": "execute_result"
    }
   ],
   "source": [
    "X_train.head()"
   ],
   "metadata": {
    "collapsed": false,
    "pycharm": {
     "name": "#%%\n"
    }
   }
  },
  {
   "cell_type": "code",
   "execution_count": 16,
   "outputs": [
    {
     "data": {
      "text/plain": "                         dummy\nfit_time     0.059 (+/- 0.013)\nscore_time   0.016 (+/- 0.000)\ntest_score   0.760 (+/- 0.000)\ntrain_score  0.760 (+/- 0.000)",
      "text/html": "<div>\n<style scoped>\n    .dataframe tbody tr th:only-of-type {\n        vertical-align: middle;\n    }\n\n    .dataframe tbody tr th {\n        vertical-align: top;\n    }\n\n    .dataframe thead th {\n        text-align: right;\n    }\n</style>\n<table border=\"1\" class=\"dataframe\">\n  <thead>\n    <tr style=\"text-align: right;\">\n      <th></th>\n      <th>dummy</th>\n    </tr>\n  </thead>\n  <tbody>\n    <tr>\n      <th>fit_time</th>\n      <td>0.059 (+/- 0.013)</td>\n    </tr>\n    <tr>\n      <th>score_time</th>\n      <td>0.016 (+/- 0.000)</td>\n    </tr>\n    <tr>\n      <th>test_score</th>\n      <td>0.760 (+/- 0.000)</td>\n    </tr>\n    <tr>\n      <th>train_score</th>\n      <td>0.760 (+/- 0.000)</td>\n    </tr>\n  </tbody>\n</table>\n</div>"
     },
     "execution_count": 16,
     "metadata": {},
     "output_type": "execute_result"
    }
   ],
   "source": [
    "baseline_model = make_pipeline(preprocessor, DummyClassifier(strategy=\"prior\"))\n",
    "results_dict['dummy']= mean_std_cross_val_scores(baseline_model, X_train, \n",
    "                                                 y_train, return_train_score=True)\n",
    "pd.DataFrame(results_dict)"
   ],
   "metadata": {
    "collapsed": false,
    "pycharm": {
     "name": "#%%\n"
    }
   }
  },
  {
   "cell_type": "markdown",
   "source": [],
   "metadata": {
    "collapsed": false,
    "pycharm": {
     "name": "#%% md\n"
    }
   }
  },
  {
   "cell_type": "markdown",
   "source": [
    "### 4.2 Trying different classifiers\n",
    "rubric={points:14}\n",
    "\n",
    "**Your tasks:**\n",
    "\n",
    "1. For each of the models in the starter code below: \n",
    "    - Define a pipeline with two steps: `preprocessor` from 3.1 and the model as your classifier. \n",
    "    - Carry out 5-fold cross-validation with the pipeline.  \n",
    "    - Store the results in `results_dict`. \n",
    "2. Display all the results so far as a pandas dataframe. \n",
    "3. Compare the train and validation accuracies and `fit` and `score` times in each case. How do the the validation accuracies compare to the baseline model from 4.1? Which model has the best validation accuracy? Which model is the fastest one?  \n",
    "\n",
    "> Note that this might take a while to run.\n",
    "\n",
    "> You may use the function above `mean_std_cross_val_scores` to carry out cross-validation and storing results. Refer to the class notes if you are unsure about how to use it. "
   ],
   "metadata": {
    "collapsed": false,
    "pycharm": {
     "name": "#%% md\n"
    }
   }
  },
  {
   "cell_type": "code",
   "execution_count": 17,
   "outputs": [],
   "source": [
    "models = {\n",
    "    \"decision tree\": DecisionTreeClassifier(),\n",
    "    \"kNN\": KNeighborsClassifier(),\n",
    "    \"RBF SVM\": SVC(),\n",
    "}"
   ],
   "metadata": {
    "collapsed": false,
    "pycharm": {
     "name": "#%%\n"
    }
   }
  },
  {
   "cell_type": "code",
   "execution_count": 18,
   "outputs": [
    {
     "data": {
      "text/plain": "                         dummy       decision tree                kNN  \\\nfit_time     0.059 (+/- 0.013)  26.240 (+/- 1.891)  0.079 (+/- 0.005)   \nscore_time   0.016 (+/- 0.000)   0.021 (+/- 0.008)  0.393 (+/- 0.063)   \ntest_score   0.760 (+/- 0.000)   0.818 (+/- 0.006)  0.833 (+/- 0.005)   \ntrain_score  0.760 (+/- 0.000)   1.000 (+/- 0.000)  0.883 (+/- 0.002)   \n\n                        RBF SVM  \nfit_time     15.580 (+/- 2.012)  \nscore_time    5.299 (+/- 0.776)  \ntest_score    0.855 (+/- 0.006)  \ntrain_score   0.868 (+/- 0.002)  ",
      "text/html": "<div>\n<style scoped>\n    .dataframe tbody tr th:only-of-type {\n        vertical-align: middle;\n    }\n\n    .dataframe tbody tr th {\n        vertical-align: top;\n    }\n\n    .dataframe thead th {\n        text-align: right;\n    }\n</style>\n<table border=\"1\" class=\"dataframe\">\n  <thead>\n    <tr style=\"text-align: right;\">\n      <th></th>\n      <th>dummy</th>\n      <th>decision tree</th>\n      <th>kNN</th>\n      <th>RBF SVM</th>\n    </tr>\n  </thead>\n  <tbody>\n    <tr>\n      <th>fit_time</th>\n      <td>0.059 (+/- 0.013)</td>\n      <td>26.240 (+/- 1.891)</td>\n      <td>0.079 (+/- 0.005)</td>\n      <td>15.580 (+/- 2.012)</td>\n    </tr>\n    <tr>\n      <th>score_time</th>\n      <td>0.016 (+/- 0.000)</td>\n      <td>0.021 (+/- 0.008)</td>\n      <td>0.393 (+/- 0.063)</td>\n      <td>5.299 (+/- 0.776)</td>\n    </tr>\n    <tr>\n      <th>test_score</th>\n      <td>0.760 (+/- 0.000)</td>\n      <td>0.818 (+/- 0.006)</td>\n      <td>0.833 (+/- 0.005)</td>\n      <td>0.855 (+/- 0.006)</td>\n    </tr>\n    <tr>\n      <th>train_score</th>\n      <td>0.760 (+/- 0.000)</td>\n      <td>1.000 (+/- 0.000)</td>\n      <td>0.883 (+/- 0.002)</td>\n      <td>0.868 (+/- 0.002)</td>\n    </tr>\n  </tbody>\n</table>\n</div>"
     },
     "execution_count": 18,
     "metadata": {},
     "output_type": "execute_result"
    }
   ],
   "source": [
    "for key in models.keys():\n",
    "    model = make_pipeline(preprocessor, models[key])\n",
    "    results_dict[key] = mean_std_cross_val_scores(model, X_train, y_train, return_train_score=True)\n",
    "pd.DataFrame(results_dict)"
   ],
   "metadata": {
    "collapsed": false,
    "pycharm": {
     "name": "#%%\n"
    }
   }
  },
  {
   "cell_type": "markdown",
   "source": [],
   "metadata": {
    "collapsed": false,
    "pycharm": {
     "name": "#%% md\n"
    }
   }
  },
  {
   "cell_type": "markdown",
   "source": [
    "<br><br>"
   ],
   "metadata": {
    "collapsed": false,
    "pycharm": {
     "name": "#%% md\n"
    }
   }
  },
  {
   "cell_type": "markdown",
   "source": [
    "### (optional) 4.3 Exploring the importance of scaling\n",
    "rubric={points:1}\n",
    "\n",
    "In this exercise you'll examine whether scaling helps in case of KNNs and SVM RBFs. \n",
    "\n",
    "**Your tasks:**\n",
    "\n",
    "1. Create a column transformer without the `StandardScaler` step for `numeric_features`. \n",
    "2. Repeat the steps in 4.2 with this new column transformer. \n",
    "3. Compare the results of scaled numeric features with unscaled numeric features. Is scaling necessary for decision trees? Why or why not?"
   ],
   "metadata": {
    "collapsed": false,
    "pycharm": {
     "name": "#%% md\n"
    }
   }
  },
  {
   "cell_type": "code",
   "execution_count": 19,
   "outputs": [
    {
     "data": {
      "text/plain": "                  decision tree                kNN             RBF SVM\nfit_time     29.472 (+/- 2.865)  0.058 (+/- 0.003)  13.638 (+/- 3.426)\nscore_time    0.027 (+/- 0.005)  0.246 (+/- 0.006)   6.416 (+/- 0.941)\ntest_score    0.817 (+/- 0.007)  0.774 (+/- 0.003)   0.789 (+/- 0.001)\ntrain_score   1.000 (+/- 0.000)  0.830 (+/- 0.002)   0.789 (+/- 0.000)",
      "text/html": "<div>\n<style scoped>\n    .dataframe tbody tr th:only-of-type {\n        vertical-align: middle;\n    }\n\n    .dataframe tbody tr th {\n        vertical-align: top;\n    }\n\n    .dataframe thead th {\n        text-align: right;\n    }\n</style>\n<table border=\"1\" class=\"dataframe\">\n  <thead>\n    <tr style=\"text-align: right;\">\n      <th></th>\n      <th>decision tree</th>\n      <th>kNN</th>\n      <th>RBF SVM</th>\n    </tr>\n  </thead>\n  <tbody>\n    <tr>\n      <th>fit_time</th>\n      <td>29.472 (+/- 2.865)</td>\n      <td>0.058 (+/- 0.003)</td>\n      <td>13.638 (+/- 3.426)</td>\n    </tr>\n    <tr>\n      <th>score_time</th>\n      <td>0.027 (+/- 0.005)</td>\n      <td>0.246 (+/- 0.006)</td>\n      <td>6.416 (+/- 0.941)</td>\n    </tr>\n    <tr>\n      <th>test_score</th>\n      <td>0.817 (+/- 0.007)</td>\n      <td>0.774 (+/- 0.003)</td>\n      <td>0.789 (+/- 0.001)</td>\n    </tr>\n    <tr>\n      <th>train_score</th>\n      <td>1.000 (+/- 0.000)</td>\n      <td>0.830 (+/- 0.002)</td>\n      <td>0.789 (+/- 0.000)</td>\n    </tr>\n  </tbody>\n</table>\n</div>"
     },
     "execution_count": 19,
     "metadata": {},
     "output_type": "execute_result"
    }
   ],
   "source": [
    "# Full Pipeline for both numeric and categorical\n",
    "no_scaling_preprocessor = make_column_transformer(\n",
    "    (categorical_pipeline, categorical_features),\n",
    "    ('drop', drop_features),\n",
    "    ('passthrough', numeric_features)\n",
    ")\n",
    "\n",
    "# Fitting Full Pipeline\n",
    "no_scaling_preprocessor.fit_transform(X_train)\n",
    "\n",
    "new_results_dict = {}\n",
    "\n",
    "for key in models.keys():\n",
    "    model = make_pipeline(no_scaling_preprocessor, models[key])\n",
    "    new_results_dict[key] = mean_std_cross_val_scores(model, X_train, y_train, \n",
    "                                                      return_train_score=True)\n",
    "pd.DataFrame(new_results_dict)"
   ],
   "metadata": {
    "collapsed": false,
    "pycharm": {
     "name": "#%%\n"
    }
   }
  },
  {
   "cell_type": "markdown",
   "source": [
    "For decision tree, scaling is not necessary. From the results obtained above, unlike the other models, there is almost no difference in the performance of the decision tree model on both scaled and unscaled data. This because decision tree algorithm operates on individual columns, hence are not affected by whether or not the other columns are in a different scale."
   ],
   "metadata": {
    "collapsed": false,
    "pycharm": {
     "name": "#%% md\n"
    }
   }
  },
  {
   "cell_type": "markdown",
   "source": [
    "### 4.4 Hyperparameter optimization\n",
    "rubric={points:10}\n",
    "\n",
    "In this exercise, you'll carry out hyperparameter optimization for the hyperparameter `C` of SVC RBF classifier. In practice you'll carry out hyperparameter optimization for all different hyperparameters for the most promising classifiers. For the purpose of this assignment, we'll only do it for the `SVC` classifier with one hyperparameter: `C`. \n",
    "\n",
    "**Your tasks:**\n",
    "\n",
    "1. For each `C` value in the `param_grid` in the starter code below: \n",
    "    - Create a pipeline object with two steps: preprocessor from 3.1 and `SVC` classifier with the value of `C`.\n",
    "    - Carry out 5-fold cross validation with the pipeline.  \n",
    "    - Store the results in `results_dict` and display results as a pandas DataFrame. \n",
    "2. Which hyperparameter value seems to be performing the best, and why? Is it different than the default value for the hyperparameter used by `scikit-learn`? \n",
    "\n",
    "> Note: Running this might take a while. "
   ],
   "metadata": {
    "collapsed": false,
    "pycharm": {
     "name": "#%% md\n"
    }
   }
  },
  {
   "cell_type": "code",
   "execution_count": 20,
   "outputs": [],
   "source": [
    "param_vals = np.logspace(-2, 2, num=5, base=10)\n",
    "param_grid = {\"C\": np.delete(param_vals, np.where(param_vals == 1.0))}"
   ],
   "metadata": {
    "collapsed": false,
    "pycharm": {
     "name": "#%%\n"
    }
   }
  },
  {
   "cell_type": "code",
   "execution_count": 21,
   "outputs": [
    {
     "data": {
      "text/plain": "                         dummy       decision tree                kNN  \\\nfit_time     0.059 (+/- 0.013)  26.240 (+/- 1.891)  0.079 (+/- 0.005)   \nscore_time   0.016 (+/- 0.000)   0.021 (+/- 0.008)  0.393 (+/- 0.063)   \ntest_score   0.760 (+/- 0.000)   0.818 (+/- 0.006)  0.833 (+/- 0.005)   \ntrain_score  0.760 (+/- 0.000)   1.000 (+/- 0.000)  0.883 (+/- 0.002)   \n\n                        RBF SVM        SVC (C=0.01)         SVC (C=0.1)  \\\nfit_time     15.580 (+/- 2.012)  13.873 (+/- 1.875)  10.162 (+/- 0.884)   \nscore_time    5.299 (+/- 0.776)   6.383 (+/- 0.568)   5.160 (+/- 0.310)   \ntest_score    0.855 (+/- 0.006)   0.819 (+/- 0.003)   0.848 (+/- 0.007)   \ntrain_score   0.868 (+/- 0.002)   0.820 (+/- 0.002)   0.852 (+/- 0.002)   \n\n                   SVC (C=10.0)       SVC (C=100.0)  \nfit_time     14.220 (+/- 1.814)  28.652 (+/- 5.049)  \nscore_time    4.470 (+/- 0.061)   5.013 (+/- 0.955)  \ntest_score    0.854 (+/- 0.005)   0.835 (+/- 0.006)  \ntrain_score   0.896 (+/- 0.001)   0.926 (+/- 0.002)  ",
      "text/html": "<div>\n<style scoped>\n    .dataframe tbody tr th:only-of-type {\n        vertical-align: middle;\n    }\n\n    .dataframe tbody tr th {\n        vertical-align: top;\n    }\n\n    .dataframe thead th {\n        text-align: right;\n    }\n</style>\n<table border=\"1\" class=\"dataframe\">\n  <thead>\n    <tr style=\"text-align: right;\">\n      <th></th>\n      <th>dummy</th>\n      <th>decision tree</th>\n      <th>kNN</th>\n      <th>RBF SVM</th>\n      <th>SVC (C=0.01)</th>\n      <th>SVC (C=0.1)</th>\n      <th>SVC (C=10.0)</th>\n      <th>SVC (C=100.0)</th>\n    </tr>\n  </thead>\n  <tbody>\n    <tr>\n      <th>fit_time</th>\n      <td>0.059 (+/- 0.013)</td>\n      <td>26.240 (+/- 1.891)</td>\n      <td>0.079 (+/- 0.005)</td>\n      <td>15.580 (+/- 2.012)</td>\n      <td>13.873 (+/- 1.875)</td>\n      <td>10.162 (+/- 0.884)</td>\n      <td>14.220 (+/- 1.814)</td>\n      <td>28.652 (+/- 5.049)</td>\n    </tr>\n    <tr>\n      <th>score_time</th>\n      <td>0.016 (+/- 0.000)</td>\n      <td>0.021 (+/- 0.008)</td>\n      <td>0.393 (+/- 0.063)</td>\n      <td>5.299 (+/- 0.776)</td>\n      <td>6.383 (+/- 0.568)</td>\n      <td>5.160 (+/- 0.310)</td>\n      <td>4.470 (+/- 0.061)</td>\n      <td>5.013 (+/- 0.955)</td>\n    </tr>\n    <tr>\n      <th>test_score</th>\n      <td>0.760 (+/- 0.000)</td>\n      <td>0.818 (+/- 0.006)</td>\n      <td>0.833 (+/- 0.005)</td>\n      <td>0.855 (+/- 0.006)</td>\n      <td>0.819 (+/- 0.003)</td>\n      <td>0.848 (+/- 0.007)</td>\n      <td>0.854 (+/- 0.005)</td>\n      <td>0.835 (+/- 0.006)</td>\n    </tr>\n    <tr>\n      <th>train_score</th>\n      <td>0.760 (+/- 0.000)</td>\n      <td>1.000 (+/- 0.000)</td>\n      <td>0.883 (+/- 0.002)</td>\n      <td>0.868 (+/- 0.002)</td>\n      <td>0.820 (+/- 0.002)</td>\n      <td>0.852 (+/- 0.002)</td>\n      <td>0.896 (+/- 0.001)</td>\n      <td>0.926 (+/- 0.002)</td>\n    </tr>\n  </tbody>\n</table>\n</div>"
     },
     "execution_count": 21,
     "metadata": {},
     "output_type": "execute_result"
    }
   ],
   "source": [
    "for c in param_grid['C']:\n",
    "    svc_model = make_pipeline(preprocessor, SVC(C=c))\n",
    "    results_dict[f\"SVC (C={c})\"] = mean_std_cross_val_scores(svc_model, X_train, y_train, \n",
    "                                                      return_train_score=True)\n",
    "pd.DataFrame(results_dict)"
   ],
   "metadata": {
    "collapsed": false,
    "pycharm": {
     "name": "#%%\n"
    }
   }
  },
  {
   "cell_type": "markdown",
   "source": [
    "The hyperparameter that seems to perform the best is `C=10`. This is because it performs better on the test set. It is performing slightly less than the default parameter (just 0.01 less on the test score). This makes the default value in the parameter even much better because it doesnt overfit more than the `C=10` model."
   ],
   "metadata": {
    "collapsed": false,
    "pycharm": {
     "name": "#%% md\n"
    }
   }
  },
  {
   "cell_type": "markdown",
   "source": [],
   "metadata": {
    "collapsed": false,
    "pycharm": {
     "name": "#%% md\n"
    }
   }
  },
  {
   "cell_type": "code",
   "execution_count": null,
   "outputs": [],
   "source": [],
   "metadata": {
    "collapsed": false,
    "pycharm": {
     "name": "#%%\n"
    }
   }
  },
  {
   "cell_type": "markdown",
   "source": [
    "<br><br><br><br>"
   ],
   "metadata": {
    "collapsed": false,
    "pycharm": {
     "name": "#%% md\n"
    }
   }
  },
  {
   "cell_type": "markdown",
   "source": [
    "## Exercise 5: Evaluating on the test set <a name=\"5\"></a>\n",
    "<hr>\n",
    "\n",
    "Now that we have a best performing model, it's time to assess our model on the set aside test set. In this exercise you'll examine whether the results you obtained using cross-validation on the train set are consistent with the results on the test set. "
   ],
   "metadata": {
    "collapsed": false,
    "pycharm": {
     "name": "#%% md\n"
    }
   }
  },
  {
   "cell_type": "markdown",
   "source": [
    "### 5.1 Scoring on the unseen test set \n",
    "rubric={points:10}\n",
    "\n",
    "**Your tasks:**\n",
    "\n",
    "1. Train the best performing model on the entire training set. \n",
    "2. Report the results of this model on `X_test`. \n",
    "3. Are the cross-validation results and test results consistent? "
   ],
   "metadata": {
    "collapsed": false,
    "pycharm": {
     "name": "#%% md\n"
    }
   }
  },
  {
   "cell_type": "code",
   "execution_count": 22,
   "outputs": [
    {
     "data": {
      "text/plain": "0.8550479846449136"
     },
     "execution_count": 22,
     "metadata": {},
     "output_type": "execute_result"
    }
   ],
   "source": [
    "transformed_X_train = preprocessor.fit_transform(X_train)\n",
    "transformed_X_test = preprocessor.transform(X_test)\n",
    "\n",
    "model = SVC()\n",
    "model.fit(transformed_X_train, y_train)\n",
    "model.score(transformed_X_test, y_test)"
   ],
   "metadata": {
    "collapsed": false,
    "pycharm": {
     "name": "#%%\n"
    }
   }
  },
  {
   "cell_type": "markdown",
   "source": [
    "Yes the crossvalidation score and the test score are consistent. "
   ],
   "metadata": {
    "collapsed": false,
    "pycharm": {
     "name": "#%% md\n"
    }
   }
  },
  {
   "cell_type": "code",
   "execution_count": 23,
   "metadata": {
    "ExecuteTime": {
     "end_time": "2023-02-01T05:52:36.223872Z",
     "start_time": "2023-02-01T05:52:36.206782Z"
    }
   },
   "outputs": [
    {
     "ename": "SyntaxError",
     "evalue": "invalid syntax (Temp/ipykernel_39796/984382451.py, line 5)",
     "output_type": "error",
     "traceback": [
      "\u001B[1;36m  File \u001B[1;32m\"C:\\Users\\blais\\AppData\\Local\\Temp/ipykernel_39796/984382451.py\"\u001B[1;36m, line \u001B[1;32m5\u001B[0m\n\u001B[1;33m    You are all done with Homework 3! Your last task is reflecting on what you have learned and answering the following questions. **This task is necessary to pass HW3**. Failing to complete this task means you will not receive points for this assignment.\u001B[0m\n\u001B[1;37m        ^\u001B[0m\n\u001B[1;31mSyntaxError\u001B[0m\u001B[1;31m:\u001B[0m invalid syntax\n"
     ]
    }
   ],
   "source": [
    "param_vals = np.logspace(-2, 2, num=5, base=10)\n",
    "param_grid = {\"C\": np.delete(param_vals, np.where(param_vals == 1.0))}"
   ]
  },
  {
   "cell_type": "markdown",
   "metadata": {
    "ExecuteTime": {
     "end_time": "2023-02-01T06:25:42.665691Z",
     "start_time": "2023-02-01T06:07:17.874527Z"
    },
    "pycharm": {
     "name": "#%% md\n"
    }
   },
   "source": [
    "*Your answer here*"
   ]
  },
  {
   "cell_type": "code",
   "execution_count": null,
   "metadata": {
    "ExecuteTime": {
     "end_time": "2023-02-01T06:26:14.544584Z",
     "start_time": "2023-02-01T06:26:14.523354Z"
    }
   },
   "outputs": [],
   "source": []
  },
  {
   "cell_type": "markdown",
   "metadata": {},
   "source": [
    "The hyperparameter that seems to perform the best is `C=10`. This is because it performs better on the test set. It is performing slightly less than the default parameter (just 0.01 less on the test score). This makes the defauly value in the parameter even much better because it doesnt overfit more than the `C=10` model."
   ]
  },
  {
   "cell_type": "markdown",
   "metadata": {},
   "source": []
  },
  {
   "cell_type": "markdown",
   "metadata": {
    "slideshow": {
     "slide_type": "slide"
    },
    "tags": []
   },
   "source": [
    "## Exercise 5: Evaluating on the test set <a name=\"5\"></a>\n",
    "<hr>\n",
    "\n",
    "Now that we have a best performing model, it's time to assess our model on the set aside test set. In this exercise you'll examine whether the results you obtained using cross-validation on the train set are consistent with the results on the test set. "
   ]
  },
  {
   "cell_type": "markdown",
   "metadata": {},
   "source": [
    "### 5.1 Scoring on the unseen test set \n",
    "rubric={points:10}\n",
    "\n",
    "**Your tasks:**\n",
    "\n",
    "1. Train the best performing model on the entire training set. \n",
    "2. Report the results of this model on `X_test`. \n",
    "3. Are the cross-validation results and test results consistent? "
   ]
  },
  {
   "cell_type": "code",
   "execution_count": 194,
   "metadata": {
    "ExecuteTime": {
     "end_time": "2023-02-01T06:42:47.784139Z",
     "start_time": "2023-02-01T06:41:59.275786Z"
    }
   },
   "outputs": [
    {
     "data": {
      "text/plain": [
       "0.8550479846449136"
      ]
     },
     "execution_count": 194,
     "metadata": {},
     "output_type": "execute_result"
    }
   ],
   "source": [
    "transformed_X_train = preprocessor.fit_transform(X_train)\n",
    "transformed_X_test = preprocessor.transform(X_test)\n",
    "\n",
    "model = SVC()\n",
    "model.fit(transformed_X_train, y_train)\n",
    "model.score(transformed_X_test, y_test)"
   ]
  },
  {
   "cell_type": "markdown",
   "metadata": {},
   "source": [
    "Yes the crossvalidation score and the test score are consistent. "
   ]
  },
  {
   "cell_type": "markdown",
   "metadata": {},
   "source": [
    "## Exercise 6: Summary\n",
    "\n",
    "rubric={Pass/Fail}\n",
    "\n",
    "You are all done with Homework 3! Your last task is reflecting on what you have learned and answering the following questions. **This task is necessary to pass HW3**. Failing to complete this task means you will not receive points for this assignment.\n",
    "\n",
    "1. In about 100 words, describe what you have learned from this homework.\n",
    "2. Write at least one well-formulated question on something that is still not clear about the content of this homework, or you would like to know more about."
   ]
  },
  {
   "cell_type": "markdown",
   "metadata": {},
   "source": [
    "*Your answer here*"
   ]
  },
  {
   "cell_type": "markdown",
   "metadata": {},
   "source": [
    "<br><br><br><br>"
   ]
  },
  {
   "cell_type": "markdown",
   "metadata": {},
   "source": [
    "## Submission instructions \n",
    "\n",
    "**PLEASE READ:** When you are ready to submit your assignment do the following:\n",
    "\n",
    "1. Run all cells in your notebook to make sure there are no errors by doing `Kernel -> Restart Kernel and Clear All Outputs` and then `Run -> Run All Cells`. \n",
    "2. Notebooks with cell execution numbers out of order or not starting from “1” will have marks deducted. Notebooks without the output displayed may not be graded at all (because we need to see the output in order to grade your work).\n",
    "3. Upload the assignment using Gradescope's drag and drop tool. Check out this [Gradescope Student Guide](https://lthub.ubc.ca/guides/gradescope-student-guide/) if you need help with Gradescope submission. "
   ]
  },
  {
   "cell_type": "markdown",
   "metadata": {},
   "source": [
    "This was a tricky one but I hope you are feeling good after working on it. You are now ready to build a simple supervised machine learning pipeline on real-world datasets! Well done (**and don't forget to submit**)! \n",
    "\n",
    "![](./eva-well-done.png)\n",
    "\n"
   ]
  },
  {
   "cell_type": "code",
   "execution_count": null,
   "metadata": {},
   "outputs": [],
   "source": []
  }
 ],
 "metadata": {
  "celltoolbar": "Create Assignment",
  "kernelspec": {
   "display_name": "Python 3 (ipykernel)",
   "language": "python",
   "name": "python3"
  },
  "language_info": {
   "codemirror_mode": {
    "name": "ipython",
    "version": 3
   },
   "file_extension": ".py",
   "mimetype": "text/x-python",
   "name": "python",
   "nbconvert_exporter": "python",
   "pygments_lexer": "ipython3",
   "version": "3.9.7"
  }
 },
 "nbformat": 4,
 "nbformat_minor": 4
}
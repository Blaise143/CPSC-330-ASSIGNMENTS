{
 "cells": [
  {
   "cell_type": "markdown",
   "metadata": {},
   "source": [
    "# CPSC 330 - Applied Machine Learning \n",
    "\n",
    "## Homework 2: Decision trees and machine learning fundamentals \n",
    "### Associated lectures: [Lectures 2 and 3](https://github.com/UBC-CS/cpsc330-2022W2/tree/main/lectures) \n",
    "\n",
    "**Due date: Monday Jan 23, 2023 at 11:59pm**"
   ]
  },
  {
   "cell_type": "code",
   "execution_count": 1,
   "metadata": {
    "ExecuteTime": {
     "end_time": "2023-01-20T00:21:48.364627Z",
     "start_time": "2023-01-20T00:21:37.256527Z"
    }
   },
   "outputs": [],
   "source": [
    "import matplotlib.pyplot as plt\n",
    "import numpy as np\n",
    "import pandas as pd\n",
    "\n",
    "plt.rcParams[\"font.size\"] = 16\n",
    "\n",
    "from sklearn.model_selection import cross_val_score, cross_validate, train_test_split\n",
    "from sklearn.tree import DecisionTreeClassifier"
   ]
  },
  {
   "cell_type": "markdown",
   "metadata": {},
   "source": [
    "## Instructions\n",
    "rubric={points:3}\n",
    "\n",
    "Follow the [homework submission instructions](https://github.com/UBC-CS/cpsc330-2022W2/blob/main/docs/homework_instructions.md). In particular, **see the note about not pushing downloaded data to your repo**.\n",
    "\n",
    "You are allowed to work and submit in pairs in this homework assignment. "
   ]
  },
  {
   "cell_type": "markdown",
   "metadata": {},
   "source": [
    "## Introducing the data set\n",
    " \n",
    "For this  assignment you'll be looking at Kaggle's [Spotify Song Attributes](https://www.kaggle.com/geomack/spotifyclassification/) dataset.\n",
    "The dataset contains a number of features of songs from 2017 and a binary variable `target` that represents whether the user liked the song (encoded as 1) or not (encoded as 0). See the documentation of all the features [here](https://developer.spotify.com/documentation/web-api/reference/tracks/get-audio-features/). \n",
    "\n",
    "This dataset is publicly available on Kaggle, and you will have to download it yourself. Follow the steps below to get the data CSV. \n",
    "\n",
    "1. If you do not have an account with [Kaggle](https://www.kaggle.com/), you will first need to create one (it's free).\n",
    "2. Login to your account and [download](https://www.kaggle.com/geomack/spotifyclassification/download) the dataset.\n",
    "3. Unzip the data file if needed, then rename it to `spotify.csv`, and move it to the same directory as this notebook."
   ]
  },
  {
   "cell_type": "markdown",
   "metadata": {},
   "source": [
    "## Exercise 1: Exploratory data analysis"
   ]
  },
  {
   "cell_type": "markdown",
   "metadata": {
    "nbgrader": {
     "grade": false,
     "grade_id": "cell-d4d478b6cdc9bf88",
     "locked": true,
     "schema_version": 3,
     "solution": false
    }
   },
   "source": [
    "#### 1(a) \n",
    "rubric={points:2}\n",
    "\n",
    "Read in the data CSV and store it as a pandas dataframe named `spotify_df`. The first column of the .csv file should be set as the index. **Note:** you may need to change the name of the file if it does not match the download."
   ]
  },
  {
   "cell_type": "code",
   "execution_count": 2,
   "metadata": {
    "ExecuteTime": {
     "end_time": "2023-01-20T00:25:47.748854Z",
     "start_time": "2023-01-20T00:25:47.661176Z"
    },
    "nbgrader": {
     "grade": true,
     "grade_id": "cell-4f3f14b59fd7e6b8",
     "locked": false,
     "points": 0,
     "schema_version": 3,
     "solution": true,
     "task": false
    }
   },
   "outputs": [
    {
     "data": {
      "text/plain": "      acousticness  danceability  duration_ms  energy  instrumentalness  key  \\\n0          0.01020         0.833       204600   0.434          0.021900    2   \n1          0.19900         0.743       326933   0.359          0.006110    1   \n2          0.03440         0.838       185707   0.412          0.000234    2   \n3          0.60400         0.494       199413   0.338          0.510000    5   \n4          0.18000         0.678       392893   0.561          0.512000    5   \n...            ...           ...          ...     ...               ...  ...   \n2012       0.00106         0.584       274404   0.932          0.002690    1   \n2013       0.08770         0.894       182182   0.892          0.001670    1   \n2014       0.00857         0.637       207200   0.935          0.003990    0   \n2015       0.00164         0.557       185600   0.992          0.677000    1   \n2016       0.00281         0.446       204520   0.915          0.000039    9   \n\n      liveness  loudness  mode  speechiness    tempo  time_signature  valence  \\\n0       0.1650    -8.795     1       0.4310  150.062             4.0    0.286   \n1       0.1370   -10.401     1       0.0794  160.083             4.0    0.588   \n2       0.1590    -7.148     1       0.2890   75.044             4.0    0.173   \n3       0.0922   -15.236     1       0.0261   86.468             4.0    0.230   \n4       0.4390   -11.648     0       0.0694  174.004             4.0    0.904   \n...        ...       ...   ...          ...      ...             ...      ...   \n2012    0.1290    -3.501     1       0.3330   74.976             4.0    0.211   \n2013    0.0528    -2.663     1       0.1310  110.041             4.0    0.867   \n2014    0.2140    -2.467     1       0.1070  150.082             4.0    0.470   \n2015    0.0913    -2.735     1       0.1330  150.011             4.0    0.623   \n2016    0.2180    -6.221     1       0.1410  190.013             4.0    0.402   \n\n      target                            song_title            artist  \n0          1                              Mask Off            Future  \n1          1                               Redbone  Childish Gambino  \n2          1                          Xanny Family            Future  \n3          1                        Master Of None       Beach House  \n4          1                        Parallel Lines       Junior Boys  \n...      ...                                   ...               ...  \n2012       0   Like A Bitch - Kill The Noise Remix    Kill The Noise  \n2013       0                                 Candy    Dillon Francis  \n2014       0  Habit - Dack Janiels & Wenzday Remix          Rain Man  \n2015       0                         First Contact        Twin Moons  \n2016       0                    I Wanna Get Better         Bleachers  \n\n[2017 rows x 16 columns]",
      "text/html": "<div>\n<style scoped>\n    .dataframe tbody tr th:only-of-type {\n        vertical-align: middle;\n    }\n\n    .dataframe tbody tr th {\n        vertical-align: top;\n    }\n\n    .dataframe thead th {\n        text-align: right;\n    }\n</style>\n<table border=\"1\" class=\"dataframe\">\n  <thead>\n    <tr style=\"text-align: right;\">\n      <th></th>\n      <th>acousticness</th>\n      <th>danceability</th>\n      <th>duration_ms</th>\n      <th>energy</th>\n      <th>instrumentalness</th>\n      <th>key</th>\n      <th>liveness</th>\n      <th>loudness</th>\n      <th>mode</th>\n      <th>speechiness</th>\n      <th>tempo</th>\n      <th>time_signature</th>\n      <th>valence</th>\n      <th>target</th>\n      <th>song_title</th>\n      <th>artist</th>\n    </tr>\n  </thead>\n  <tbody>\n    <tr>\n      <th>0</th>\n      <td>0.01020</td>\n      <td>0.833</td>\n      <td>204600</td>\n      <td>0.434</td>\n      <td>0.021900</td>\n      <td>2</td>\n      <td>0.1650</td>\n      <td>-8.795</td>\n      <td>1</td>\n      <td>0.4310</td>\n      <td>150.062</td>\n      <td>4.0</td>\n      <td>0.286</td>\n      <td>1</td>\n      <td>Mask Off</td>\n      <td>Future</td>\n    </tr>\n    <tr>\n      <th>1</th>\n      <td>0.19900</td>\n      <td>0.743</td>\n      <td>326933</td>\n      <td>0.359</td>\n      <td>0.006110</td>\n      <td>1</td>\n      <td>0.1370</td>\n      <td>-10.401</td>\n      <td>1</td>\n      <td>0.0794</td>\n      <td>160.083</td>\n      <td>4.0</td>\n      <td>0.588</td>\n      <td>1</td>\n      <td>Redbone</td>\n      <td>Childish Gambino</td>\n    </tr>\n    <tr>\n      <th>2</th>\n      <td>0.03440</td>\n      <td>0.838</td>\n      <td>185707</td>\n      <td>0.412</td>\n      <td>0.000234</td>\n      <td>2</td>\n      <td>0.1590</td>\n      <td>-7.148</td>\n      <td>1</td>\n      <td>0.2890</td>\n      <td>75.044</td>\n      <td>4.0</td>\n      <td>0.173</td>\n      <td>1</td>\n      <td>Xanny Family</td>\n      <td>Future</td>\n    </tr>\n    <tr>\n      <th>3</th>\n      <td>0.60400</td>\n      <td>0.494</td>\n      <td>199413</td>\n      <td>0.338</td>\n      <td>0.510000</td>\n      <td>5</td>\n      <td>0.0922</td>\n      <td>-15.236</td>\n      <td>1</td>\n      <td>0.0261</td>\n      <td>86.468</td>\n      <td>4.0</td>\n      <td>0.230</td>\n      <td>1</td>\n      <td>Master Of None</td>\n      <td>Beach House</td>\n    </tr>\n    <tr>\n      <th>4</th>\n      <td>0.18000</td>\n      <td>0.678</td>\n      <td>392893</td>\n      <td>0.561</td>\n      <td>0.512000</td>\n      <td>5</td>\n      <td>0.4390</td>\n      <td>-11.648</td>\n      <td>0</td>\n      <td>0.0694</td>\n      <td>174.004</td>\n      <td>4.0</td>\n      <td>0.904</td>\n      <td>1</td>\n      <td>Parallel Lines</td>\n      <td>Junior Boys</td>\n    </tr>\n    <tr>\n      <th>...</th>\n      <td>...</td>\n      <td>...</td>\n      <td>...</td>\n      <td>...</td>\n      <td>...</td>\n      <td>...</td>\n      <td>...</td>\n      <td>...</td>\n      <td>...</td>\n      <td>...</td>\n      <td>...</td>\n      <td>...</td>\n      <td>...</td>\n      <td>...</td>\n      <td>...</td>\n      <td>...</td>\n    </tr>\n    <tr>\n      <th>2012</th>\n      <td>0.00106</td>\n      <td>0.584</td>\n      <td>274404</td>\n      <td>0.932</td>\n      <td>0.002690</td>\n      <td>1</td>\n      <td>0.1290</td>\n      <td>-3.501</td>\n      <td>1</td>\n      <td>0.3330</td>\n      <td>74.976</td>\n      <td>4.0</td>\n      <td>0.211</td>\n      <td>0</td>\n      <td>Like A Bitch - Kill The Noise Remix</td>\n      <td>Kill The Noise</td>\n    </tr>\n    <tr>\n      <th>2013</th>\n      <td>0.08770</td>\n      <td>0.894</td>\n      <td>182182</td>\n      <td>0.892</td>\n      <td>0.001670</td>\n      <td>1</td>\n      <td>0.0528</td>\n      <td>-2.663</td>\n      <td>1</td>\n      <td>0.1310</td>\n      <td>110.041</td>\n      <td>4.0</td>\n      <td>0.867</td>\n      <td>0</td>\n      <td>Candy</td>\n      <td>Dillon Francis</td>\n    </tr>\n    <tr>\n      <th>2014</th>\n      <td>0.00857</td>\n      <td>0.637</td>\n      <td>207200</td>\n      <td>0.935</td>\n      <td>0.003990</td>\n      <td>0</td>\n      <td>0.2140</td>\n      <td>-2.467</td>\n      <td>1</td>\n      <td>0.1070</td>\n      <td>150.082</td>\n      <td>4.0</td>\n      <td>0.470</td>\n      <td>0</td>\n      <td>Habit - Dack Janiels &amp; Wenzday Remix</td>\n      <td>Rain Man</td>\n    </tr>\n    <tr>\n      <th>2015</th>\n      <td>0.00164</td>\n      <td>0.557</td>\n      <td>185600</td>\n      <td>0.992</td>\n      <td>0.677000</td>\n      <td>1</td>\n      <td>0.0913</td>\n      <td>-2.735</td>\n      <td>1</td>\n      <td>0.1330</td>\n      <td>150.011</td>\n      <td>4.0</td>\n      <td>0.623</td>\n      <td>0</td>\n      <td>First Contact</td>\n      <td>Twin Moons</td>\n    </tr>\n    <tr>\n      <th>2016</th>\n      <td>0.00281</td>\n      <td>0.446</td>\n      <td>204520</td>\n      <td>0.915</td>\n      <td>0.000039</td>\n      <td>9</td>\n      <td>0.2180</td>\n      <td>-6.221</td>\n      <td>1</td>\n      <td>0.1410</td>\n      <td>190.013</td>\n      <td>4.0</td>\n      <td>0.402</td>\n      <td>0</td>\n      <td>I Wanna Get Better</td>\n      <td>Bleachers</td>\n    </tr>\n  </tbody>\n</table>\n<p>2017 rows × 16 columns</p>\n</div>"
     },
     "execution_count": 2,
     "metadata": {},
     "output_type": "execute_result"
    }
   ],
   "source": [
    "spotify_df = pd.read_csv(\"data.csv\",index_col=0)\n",
    "spotify_df"
   ]
  },
  {
   "cell_type": "markdown",
   "metadata": {},
   "source": [
    "Excluding the target, how many columns (potential features) does the dataset include?"
   ]
  },
  {
   "cell_type": "markdown",
   "metadata": {},
   "source": [
    "***\n",
    "<font color=\"blue\">\n",
    "\n",
    "**Solution**"
   ]
  },
  {
   "cell_type": "code",
   "execution_count": 53,
   "outputs": [
    {
     "name": "stdout",
     "output_type": "stream",
     "text": [
      "There are 15 columns that are potential features in the dataset\n"
     ]
    }
   ],
   "source": [
    "print(f\"There are {len(spotify_df.columns) - 1} columns that are potential features in the dataset\")"
   ],
   "metadata": {
    "collapsed": false
   }
  },
  {
   "cell_type": "markdown",
   "source": [
    "***"
   ],
   "metadata": {
    "collapsed": false
   }
  },
  {
   "cell_type": "markdown",
   "metadata": {},
   "source": [
    "#### 1(b)\n",
    "rubric={points:2}\n",
    "\n",
    "Run the following line of code to split the data. How many training and test examples do we have?\n",
    "\n",
    "> Note: we are setting the `random_state` so that everyone has the same split on their assignments. This will make it easier for the TAs to grade."
   ]
  },
  {
   "cell_type": "code",
   "execution_count": 54,
   "metadata": {},
   "outputs": [],
   "source": [
    "df_train, df_test = train_test_split(spotify_df, test_size=0.2, random_state=321)"
   ]
  },
  {
   "cell_type": "markdown",
   "metadata": {},
   "source": [
    "***\n",
    "<font color=\"blue\">\n",
    "\n",
    "**Solution**\n"
   ]
  },
  {
   "cell_type": "code",
   "execution_count": 55,
   "outputs": [
    {
     "name": "stdout",
     "output_type": "stream",
     "text": [
      "Number of Training Examples: 1613\n",
      "Number of Testing Examples: 404\n"
     ]
    }
   ],
   "source": [
    "print(f\"Number of Training Examples: {len(df_train)}\\nNumber of Testing Examples: {len(df_test)}\")"
   ],
   "metadata": {
    "collapsed": false
   }
  },
  {
   "cell_type": "markdown",
   "source": [
    "***"
   ],
   "metadata": {
    "collapsed": false
   }
  },
  {
   "cell_type": "markdown",
   "metadata": {},
   "source": [
    "#### 1(c)\n",
    "rubric={points:3}\n",
    "\n",
    "- Print out the output of `describe()` **on the training split**. This will compute some summary statistics of the numeric columns.\n",
    "- Which feature has the largest range? \n",
    "\n",
    "> Hint: You can subtract the min value from the max value of the column to get the range.\n",
    "\n",
    "Note that `describe` returns another DataFrame."
   ]
  },
  {
   "cell_type": "code",
   "execution_count": 56,
   "outputs": [
    {
     "data": {
      "text/plain": "       acousticness  danceability   duration_ms       energy  \\\ncount   1613.000000   1613.000000  1.613000e+03  1613.000000   \nmean       0.185067      0.620076  2.462533e+05     0.681315   \nstd        0.255838      0.161152  8.056740e+04     0.206964   \nmin        0.000003      0.148000  1.604200e+04     0.015600   \n25%        0.010000      0.514000  1.999040e+05     0.564000   \n50%        0.062600      0.634000  2.298590e+05     0.712000   \n75%        0.260000      0.739000  2.703330e+05     0.841000   \nmax        0.994000      0.984000  1.004627e+06     0.997000   \n\n       instrumentalness          key     liveness     loudness         mode  \\\ncount       1613.000000  1613.000000  1613.000000  1613.000000  1613.000000   \nmean           0.134317     5.384377     0.191317    -7.095272     0.619343   \nstd            0.274217     3.653722     0.156071     3.678993     0.485699   \nmin            0.000000     0.000000     0.018800   -31.082000     0.000000   \n25%            0.000000     2.000000     0.092200    -8.388000     0.000000   \n50%            0.000088     6.000000     0.125000    -6.298000     1.000000   \n75%            0.055900     9.000000     0.250000    -4.833000     1.000000   \nmax            0.976000    11.000000     0.969000    -0.718000     1.000000   \n\n       speechiness        tempo  time_signature      valence       target  \ncount  1613.000000  1613.000000     1613.000000  1613.000000  1613.000000  \nmean      0.092119   121.310311        3.975201     0.495891     0.512089  \nstd       0.088007    26.431574        0.247829     0.244267     0.500009  \nmin       0.023100    47.859000        1.000000     0.037300     0.000000  \n25%       0.037500   100.221000        4.000000     0.298000     0.000000  \n50%       0.055300   121.241000        4.000000     0.492000     1.000000  \n75%       0.107000   136.894000        4.000000     0.689000     1.000000  \nmax       0.622000   219.331000        5.000000     0.974000     1.000000  ",
      "text/html": "<div>\n<style scoped>\n    .dataframe tbody tr th:only-of-type {\n        vertical-align: middle;\n    }\n\n    .dataframe tbody tr th {\n        vertical-align: top;\n    }\n\n    .dataframe thead th {\n        text-align: right;\n    }\n</style>\n<table border=\"1\" class=\"dataframe\">\n  <thead>\n    <tr style=\"text-align: right;\">\n      <th></th>\n      <th>acousticness</th>\n      <th>danceability</th>\n      <th>duration_ms</th>\n      <th>energy</th>\n      <th>instrumentalness</th>\n      <th>key</th>\n      <th>liveness</th>\n      <th>loudness</th>\n      <th>mode</th>\n      <th>speechiness</th>\n      <th>tempo</th>\n      <th>time_signature</th>\n      <th>valence</th>\n      <th>target</th>\n    </tr>\n  </thead>\n  <tbody>\n    <tr>\n      <th>count</th>\n      <td>1613.000000</td>\n      <td>1613.000000</td>\n      <td>1.613000e+03</td>\n      <td>1613.000000</td>\n      <td>1613.000000</td>\n      <td>1613.000000</td>\n      <td>1613.000000</td>\n      <td>1613.000000</td>\n      <td>1613.000000</td>\n      <td>1613.000000</td>\n      <td>1613.000000</td>\n      <td>1613.000000</td>\n      <td>1613.000000</td>\n      <td>1613.000000</td>\n    </tr>\n    <tr>\n      <th>mean</th>\n      <td>0.185067</td>\n      <td>0.620076</td>\n      <td>2.462533e+05</td>\n      <td>0.681315</td>\n      <td>0.134317</td>\n      <td>5.384377</td>\n      <td>0.191317</td>\n      <td>-7.095272</td>\n      <td>0.619343</td>\n      <td>0.092119</td>\n      <td>121.310311</td>\n      <td>3.975201</td>\n      <td>0.495891</td>\n      <td>0.512089</td>\n    </tr>\n    <tr>\n      <th>std</th>\n      <td>0.255838</td>\n      <td>0.161152</td>\n      <td>8.056740e+04</td>\n      <td>0.206964</td>\n      <td>0.274217</td>\n      <td>3.653722</td>\n      <td>0.156071</td>\n      <td>3.678993</td>\n      <td>0.485699</td>\n      <td>0.088007</td>\n      <td>26.431574</td>\n      <td>0.247829</td>\n      <td>0.244267</td>\n      <td>0.500009</td>\n    </tr>\n    <tr>\n      <th>min</th>\n      <td>0.000003</td>\n      <td>0.148000</td>\n      <td>1.604200e+04</td>\n      <td>0.015600</td>\n      <td>0.000000</td>\n      <td>0.000000</td>\n      <td>0.018800</td>\n      <td>-31.082000</td>\n      <td>0.000000</td>\n      <td>0.023100</td>\n      <td>47.859000</td>\n      <td>1.000000</td>\n      <td>0.037300</td>\n      <td>0.000000</td>\n    </tr>\n    <tr>\n      <th>25%</th>\n      <td>0.010000</td>\n      <td>0.514000</td>\n      <td>1.999040e+05</td>\n      <td>0.564000</td>\n      <td>0.000000</td>\n      <td>2.000000</td>\n      <td>0.092200</td>\n      <td>-8.388000</td>\n      <td>0.000000</td>\n      <td>0.037500</td>\n      <td>100.221000</td>\n      <td>4.000000</td>\n      <td>0.298000</td>\n      <td>0.000000</td>\n    </tr>\n    <tr>\n      <th>50%</th>\n      <td>0.062600</td>\n      <td>0.634000</td>\n      <td>2.298590e+05</td>\n      <td>0.712000</td>\n      <td>0.000088</td>\n      <td>6.000000</td>\n      <td>0.125000</td>\n      <td>-6.298000</td>\n      <td>1.000000</td>\n      <td>0.055300</td>\n      <td>121.241000</td>\n      <td>4.000000</td>\n      <td>0.492000</td>\n      <td>1.000000</td>\n    </tr>\n    <tr>\n      <th>75%</th>\n      <td>0.260000</td>\n      <td>0.739000</td>\n      <td>2.703330e+05</td>\n      <td>0.841000</td>\n      <td>0.055900</td>\n      <td>9.000000</td>\n      <td>0.250000</td>\n      <td>-4.833000</td>\n      <td>1.000000</td>\n      <td>0.107000</td>\n      <td>136.894000</td>\n      <td>4.000000</td>\n      <td>0.689000</td>\n      <td>1.000000</td>\n    </tr>\n    <tr>\n      <th>max</th>\n      <td>0.994000</td>\n      <td>0.984000</td>\n      <td>1.004627e+06</td>\n      <td>0.997000</td>\n      <td>0.976000</td>\n      <td>11.000000</td>\n      <td>0.969000</td>\n      <td>-0.718000</td>\n      <td>1.000000</td>\n      <td>0.622000</td>\n      <td>219.331000</td>\n      <td>5.000000</td>\n      <td>0.974000</td>\n      <td>1.000000</td>\n    </tr>\n  </tbody>\n</table>\n</div>"
     },
     "execution_count": 56,
     "metadata": {},
     "output_type": "execute_result"
    }
   ],
   "source": [
    "df_train.describe()"
   ],
   "metadata": {
    "collapsed": false
   }
  },
  {
   "cell_type": "markdown",
   "source": [
    "<font color=\"blue\">\n",
    "\n",
    "The code cell below performs the following sequentially:\n",
    "* Extracts the `min` and `max` rows from `df_train.describe()`\n",
    "* Transpose the dataframe\n",
    "* add a new column, `range` which is given by `max - min`\n",
    "* Assign the resulting dataframe to the variable `df_train_info`\n",
    "* create a `mask` variable, which is a boolean of whether or not an entry in the `range` column is the largest\n",
    "* Use the `mask` to extract the row with the largest `range`\n",
    "* Print out the name of the feature with the largest range, and its corresponding range"
   ],
   "metadata": {
    "collapsed": false
   }
  },
  {
   "cell_type": "code",
   "execution_count": 57,
   "outputs": [
    {
     "name": "stdout",
     "output_type": "stream",
     "text": [
      "The feature with the largest range is duration_ms\n",
      "It has a range of 988585.0\n"
     ]
    }
   ],
   "source": [
    "df_train_info = df_train.describe().loc[['min', 'max']].T.assign(\n",
    "    range = df_train.describe().loc[['min', 'max']].T['max']-df_train.describe().loc[['min', 'max']].T['min']\n",
    ")\n",
    "mask = df_train_info['range'] == max(df_train_info['range'])\n",
    "result = df_train_info[mask]['range'].reset_index().rename(columns = {'index': 'feature'})\n",
    "print(f'The feature with the largest range is {result[\"feature\"].item()}\\nIt has a range of {result[\"range\"].item()}')"
   ],
   "metadata": {
    "collapsed": false
   }
  },
  {
   "cell_type": "markdown",
   "source": [
    "***"
   ],
   "metadata": {
    "collapsed": false
   }
  },
  {
   "cell_type": "markdown",
   "metadata": {
    "nbgrader": {
     "grade": false,
     "grade_id": "cell-b33320bcf667584a",
     "locked": true,
     "schema_version": 3,
     "solution": false
    }
   },
   "source": [
    "#### 1(d) \n",
    "rubric={points:5}\n",
    "\n",
    "Let's focus on the following features:\n",
    "\n",
    "- danceability\n",
    "- tempo\n",
    "- energy\n",
    "- valence\n",
    "\n",
    "For each of these features (in order), produce a histogram that shows the distribution of the feature values in the training set, **separated for positive and negative examples**. \n",
    "By \"positive examples\" we mean target = 1 (user liked the song, positive sentiment) and by \"negative examples\" we mean target = 0 (used disliked the song, negative sentiment). As an example, here is what the histogram would look like for a different feature, loudness:\n",
    "\n"
   ]
  },
  {
   "cell_type": "markdown",
   "metadata": {},
   "source": [
    "<img src='loudness.png' width=\"400\">\n",
    "\n",
    "(You don't have to match all the details exactly, such as colour, but your histograms should look something like this, with a reasonable number of bins to see the shape of the distribution.) As shown above, there are two different histograms, one for target = 0 and one for target = 1, and they are overlaid on top of each other. The histogram above shows that extremely quiet songs tend to be disliked (more blue bars than orange on the left) and very loud songs also tend to be disliked (more blue than orange on the far right).\n",
    "\n",
    "To adhere to the [DRY (Don't Repeat Yourself)](https://en.wikipedia.org/wiki/Don%27t_repeat_yourself) principle, make sure you use a `for` loop for your plotting, rather than repeating the plotting code 4 times. For this to work, I used `plt.show()` at the end of the loop, which draws the figure and resets the canvas for your next plot."
   ]
  },
  {
   "cell_type": "markdown",
   "metadata": {},
   "source": [
    "Here is some code that separates out the dataset into positive and negative examples, to help you get started:"
   ]
  },
  {
   "cell_type": "code",
   "execution_count": 47,
   "metadata": {},
   "outputs": [],
   "source": [
    "negative_examples = df_train.query(\"target == 0\")\n",
    "positive_examples = df_train.query(\"target == 1\")"
   ]
  },
  {
   "cell_type": "markdown",
   "source": [
    "<font color=\"blue\">\n",
    "\n",
    "**Solution**"
   ],
   "metadata": {
    "collapsed": false
   }
  },
  {
   "cell_type": "code",
   "execution_count": 60,
   "outputs": [
    {
     "data": {
      "text/plain": "<Figure size 432x288 with 1 Axes>",
      "image/png": "[encoded data removed]"
     },
     "metadata": {
      "needs_background": "light"
     },
     "output_type": "display_data"
    },
    {
     "data": {
      "text/plain": "<Figure size 432x288 with 1 Axes>",
      "image/png": "[encoded data removed]"
     },
     "metadata": {
      "needs_background": "light"
     },
     "output_type": "display_data"
    },
    {
     "data": {
      "text/plain": "<Figure size 432x288 with 1 Axes>",
      "image/png": "[encoded data removed]"
     },
     "metadata": {
      "needs_background": "light"
     },
     "output_type": "display_data"
    },
    {
     "data": {
      "text/plain": "<Figure size 432x288 with 1 Axes>",
      "image/png": "[encoded data removed]"
     },
     "metadata": {
      "needs_background": "light"
     },
     "output_type": "display_data"
    }
   ],
   "source": [
    "for category in ['danceability', 'tempo', 'energy', 'valence']:\n",
    "    plt.hist(negative_examples[category], bins=100, alpha=0.5, label=0)\n",
    "    plt.hist(positive_examples[category], bins=100, alpha=0.5, label=1)\n",
    "    plt.title(f\"Histogram of {category} by target class\")\n",
    "    plt.xlabel(category)\n",
    "    plt.ylabel(\"count\")\n",
    "    plt.legend()\n",
    "    plt.grid()\n",
    "    plt.show()"
   ],
   "metadata": {
    "collapsed": false
   }
  },
  {
   "cell_type": "markdown",
   "metadata": {},
   "source": [
    "***\n",
    "#### 1(e)\n",
    "rubric={points:4}\n",
    "\n",
    "Let's say you had to make a decision stump (decision tree with depth 1), _by hand_, to predict the target class. Just from looking at the plots above, describe a reasonable split (feature name and threshold) and what class you would predict in the two cases. For example, in the loudness histogram provided earlier on, it seems that very large values of loudness are generally disliked (more blue on the right side of the histogram), so you might answer something like this: \"A reasonable split would be to predict 0 if loudness > -5 (and predict 1 otherwise).\""
   ]
  },
  {
   "cell_type": "markdown",
   "metadata": {},
   "source": [
    "<font color='blue'>\n"
   ]
  },
  {
   "cell_type": "markdown",
   "metadata": {},
   "source": [
    "#### 1(f)\n",
    "rubric={points:2}\n",
    "\n",
    "Let's say that, for a particular feature, the histograms of that feature are identical for the two target classes. Does that mean the feature is not useful for predicting the target class?\n",
    "\n"
   ]
  },
  {
   "cell_type": "markdown",
   "metadata": {
    "nbgrader": {
     "grade": false,
     "grade_id": "cell-86f9e0c649669daf",
     "locked": true,
     "schema_version": 3,
     "solution": false,
     "task": false
    }
   },
   "source": [
    "#### 1(g) \n",
    "rubric={points:2}\n",
    "\n",
    "Note that the dataset includes two free text features labeled `song_title` and `artist`:"
   ]
  },
  {
   "cell_type": "code",
   "execution_count": 61,
   "metadata": {},
   "outputs": [
    {
     "data": {
      "text/plain": "                                           song_title         artist\n260   WTF (Where They From) [feat. Pharrell Williams]  Missy Elliott\n1286  10,000 Reasons (Bless the Lord) [Radio Version]    Matt Redman\n1344                                   American Dream   Chelsea Grin\n1197                                 Feel This Moment        Pitbull\n119                                        Trap Queen      Fetty Wap",
      "text/html": "<div>\n<style scoped>\n    .dataframe tbody tr th:only-of-type {\n        vertical-align: middle;\n    }\n\n    .dataframe tbody tr th {\n        vertical-align: top;\n    }\n\n    .dataframe thead th {\n        text-align: right;\n    }\n</style>\n<table border=\"1\" class=\"dataframe\">\n  <thead>\n    <tr style=\"text-align: right;\">\n      <th></th>\n      <th>song_title</th>\n      <th>artist</th>\n    </tr>\n  </thead>\n  <tbody>\n    <tr>\n      <th>260</th>\n      <td>WTF (Where They From) [feat. Pharrell Williams]</td>\n      <td>Missy Elliott</td>\n    </tr>\n    <tr>\n      <th>1286</th>\n      <td>10,000 Reasons (Bless the Lord) [Radio Version]</td>\n      <td>Matt Redman</td>\n    </tr>\n    <tr>\n      <th>1344</th>\n      <td>American Dream</td>\n      <td>Chelsea Grin</td>\n    </tr>\n    <tr>\n      <th>1197</th>\n      <td>Feel This Moment</td>\n      <td>Pitbull</td>\n    </tr>\n    <tr>\n      <th>119</th>\n      <td>Trap Queen</td>\n      <td>Fetty Wap</td>\n    </tr>\n  </tbody>\n</table>\n</div>"
     },
     "execution_count": 61,
     "metadata": {},
     "output_type": "execute_result"
    }
   ],
   "source": [
    "df_train[[\"song_title\", \"artist\"]].head()"
   ]
  },
  {
   "cell_type": "markdown",
   "metadata": {},
   "source": [
    "- Do you think these features could be useful in predicting whether the user liked the song or not? \n",
    "- Would there be any difficulty in using them in your model?   "
   ]
  },
  {
   "cell_type": "markdown",
   "metadata": {
    "nbgrader": {
     "grade": true,
     "grade_id": "cell-dce517defdc16360",
     "locked": false,
     "points": 0,
     "schema_version": 3,
     "solution": true,
     "task": false
    }
   },
   "source": []
  },
  {
   "cell_type": "markdown",
   "metadata": {},
   "source": [
    "<br><br>"
   ]
  },
  {
   "cell_type": "markdown",
   "metadata": {
    "nbgrader": {
     "grade": false,
     "grade_id": "cell-1440876fbc49ead5",
     "locked": true,
     "schema_version": 3,
     "solution": false,
     "task": false
    }
   },
   "source": [
    "## Exercise 2: Using sklearn to build a decision tree classifier"
   ]
  },
  {
   "cell_type": "markdown",
   "metadata": {
    "nbgrader": {
     "grade": false,
     "grade_id": "cell-706403e72adade4b",
     "locked": true,
     "schema_version": 3,
     "solution": false
    }
   },
   "source": [
    "#### 2(a) \n",
    "rubric={points:2}\n",
    "\n",
    "- Create `X_train` and `y_train` and `X_test` and `y_test` from `df_train` and `df_test` above. Skip the `song_title` and `artist` features for now. \n",
    "- Fit a `DecisionTreeClassifier` on the train set."
   ]
  },
  {
   "cell_type": "code",
   "execution_count": null,
   "metadata": {
    "nbgrader": {
     "grade": true,
     "grade_id": "cell-859d4a70667da85d",
     "locked": false,
     "points": 0,
     "schema_version": 3,
     "solution": true,
     "task": false
    }
   },
   "outputs": [],
   "source": []
  },
  {
   "cell_type": "markdown",
   "metadata": {
    "nbgrader": {
     "grade": false,
     "grade_id": "cell-43ac6f91bc3bd9da",
     "locked": true,
     "schema_version": 3,
     "solution": false
    }
   },
   "source": [
    "#### 2(b)\n",
    "rubric={points:2}\n",
    "\n",
    "Use the `predict` method to predict the class of the tenth example in your `X_train`. Is the prediction correct? That is, does it match with the corresponding class in `y_train`?  \n",
    "\n",
    "> Hint: you can grab the tenth example with `X_train.iloc[[9]]`."
   ]
  },
  {
   "cell_type": "markdown",
   "metadata": {},
   "source": []
  },
  {
   "cell_type": "markdown",
   "metadata": {},
   "source": [
    "#### 2(c) \n",
    "rubric={points:2}\n",
    "\n",
    "Use the `cross_val_score` function on your training set to compute the 10-fold cross-validation accuracy of your tree. "
   ]
  },
  {
   "cell_type": "code",
   "execution_count": null,
   "metadata": {},
   "outputs": [],
   "source": []
  },
  {
   "cell_type": "markdown",
   "metadata": {},
   "source": [
    "#### 2(d)\n",
    "rubric={points:2}\n",
    "\n",
    "The above is useful, but we would like to see the training accuracy as well. \n",
    "\n",
    "- Compute the 10-fold cross-validation again but this time using the `cross_validate` function with `return_train_score=True`. \n",
    "- Print out both the cross-validation score and the training score.\n",
    "- Is your cross-validation score exactly the same as what you got in the previous part? Very briefly discuss."
   ]
  },
  {
   "cell_type": "markdown",
   "metadata": {},
   "source": []
  },
  {
   "cell_type": "markdown",
   "metadata": {},
   "source": [
    "#### 2(e)\n",
    "rubric={points:1}\n",
    "\n",
    "Do you see a significant difference between the training score and the cross-validation score? Briefly discuss."
   ]
  },
  {
   "cell_type": "markdown",
   "metadata": {
    "nbgrader": {
     "grade": true,
     "grade_id": "cell-a89757274fc5586f",
     "locked": false,
     "points": 0,
     "schema_version": 3,
     "solution": true,
     "task": false
    }
   },
   "source": []
  },
  {
   "cell_type": "markdown",
   "metadata": {},
   "source": [
    "#### 2(f)\n",
    "rubric={points:1}\n",
    "\n",
    "Inspect the 10 sub-scores from the 10 folds of cross-validation. How does this inform the trustworthiness of your cross validation score?"
   ]
  },
  {
   "cell_type": "markdown",
   "metadata": {
    "nbgrader": {
     "grade": true,
     "grade_id": "cell-a89757274fc5586f",
     "locked": false,
     "points": 0,
     "schema_version": 3,
     "solution": true,
     "task": false
    }
   },
   "source": []
  },
  {
   "cell_type": "markdown",
   "metadata": {
    "nbgrader": {
     "grade": false,
     "grade_id": "cell-4150979c1845a18c",
     "locked": true,
     "schema_version": 3,
     "solution": false,
     "task": false
    }
   },
   "source": [
    "## Exercise 3: Hyperparameters \n",
    "rubric={points:10}\n",
    "\n",
    "In this exercise, you'll experiment with the `max_depth` hyperparameter of the decision tree classifier. See the [`DecisionTreeClassifier` documentation](https://scikit-learn.org/stable/modules/generated/sklearn.tree.DecisionTreeClassifier.html) for more details.\n",
    "\n",
    "- Explore the `max_depth` hyperparameter. Run 10-fold cross-validation for trees with different values of `max_depth` (at least 10 different values in the range 1 to 25).\n",
    "- For each `max_depth`, get both the train accuracy and the cross-validation accuracy.\n",
    "- Make a plot with `max_depth` on the *x*-axis and the train and cross-validation scores on the *y*-axis. That is, your plot should have two curves, one for train and one for cross-validation. Include a legend to specify which is which.\n",
    "- Discuss how changing the `max_depth` hyperparameter affects the training and cross-validation accuracy. From these results, what depth would you pick as the optimal depth? \n",
    "- Do you think that the depth you chose would generalize to other \"spotify\" datasets (i.e., data on other spotify users)?\n",
    "\n",
    "> Note: generally speaking (for all assignments) you are welcome to copy/paste code directly from the lecture notes, though I ask that you add a small citation (e.g. \"Adapted from lecture 2\") if you do so."
   ]
  },
  {
   "cell_type": "markdown",
   "metadata": {},
   "source": []
  },
  {
   "cell_type": "markdown",
   "metadata": {},
   "source": [
    "## Exercise 4: Test set\n",
    "rubric={points:4}\n",
    "\n",
    "Remember the test set you created way back at the beginning of this assignment? Let's use it now to see if our cross-validation score from the previous exercise is trustworthy. \n",
    "\n",
    "- Select your favorite `max_depth` from the previous part.\n",
    "- Train a decision tree classifier using that `max_depth` on the _entire training set_.\n",
    "- Compute and display the test score. \n",
    "- How does it compare to the cross-validation score from the previous exercise? Briefly discuss. "
   ]
  },
  {
   "cell_type": "markdown",
   "metadata": {},
   "source": []
  },
  {
   "cell_type": "markdown",
   "metadata": {},
   "source": [
    "## Exercise 5: Conceptual questions\n",
    "rubric={points:3}\n",
    "\n",
    "Consider the dataset below, which has $6$ examples and $2$ features:\n",
    "\n",
    "$$ X = \\begin{bmatrix}5 & 2\\\\4 & 3\\\\  2 & 2\\\\ 10 & 10\\\\ 9 & -1\\\\ 9& 9\\end{bmatrix}, \\quad y = \\begin{bmatrix}-1\\\\-1\\\\-1\\\\-1\\\\+1\\\\+1\\end{bmatrix}.$$\n",
    "\n",
    "1. Say we fit a decision stump (depth 1 decision tree) and the first split is on the first feature (left column) being less than 5.5. What would we predict in the \"true\" and \"false\" cases here?\n",
    "2. What training accuracy would the above stump get on this data set?\n",
    "3. Can we obtain 100% accuracy with a single decision stump in this particular example?"
   ]
  },
  {
   "cell_type": "markdown",
   "metadata": {},
   "source": []
  },
  {
   "cell_type": "markdown",
   "metadata": {},
   "source": [
    "## Submission instructions \n",
    "\n",
    "**PLEASE READ:** When you are ready to submit your assignment do the following:\n",
    "\n",
    "1. Run all cells in your notebook to make sure there are no errors by doing `Kernel -> Restart Kernel and Clear All Outputs` and then `Run -> Run All Cells`. \n",
    "2. Notebooks with cell execution numbers out of order or not starting from “1” will have marks deducted. Notebooks without the output displayed may not be graded at all (because we need to see the output in order to grade your work).\n",
    "3. Upload the assignment using Gradescope's drag and drop tool. Check out this [Gradescope Student Guide](https://lthub.ubc.ca/guides/gradescope-student-guide/) if you need help with Gradescope submission. "
   ]
  }
 ],
 "metadata": {
  "anaconda-cloud": {},
  "celltoolbar": "Create Assignment",
  "kernelspec": {
   "display_name": "Python 3 (ipykernel)",
   "language": "python",
   "name": "python3"
  },
  "language_info": {
   "codemirror_mode": {
    "name": "ipython",
    "version": 3
   },
   "file_extension": ".py",
   "mimetype": "text/x-python",
   "name": "python",
   "nbconvert_exporter": "python",
   "pygments_lexer": "ipython3",
   "version": "3.9.7"
  }
 },
 "nbformat": 4,
 "nbformat_minor": 4
}

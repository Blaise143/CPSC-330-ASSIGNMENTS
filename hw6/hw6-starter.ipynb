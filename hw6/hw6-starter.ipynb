{
 "cells": [
  {
   "cell_type": "markdown",
   "metadata": {},
   "source": [
    "# CPSC 330 - Applied Machine Learning \n",
    "\n",
    "## Homework 6: Putting it all together \n",
    "### Associated lectures: All material till lecture 13 \n",
    "\n",
    "**Due date: Wednesday, March 15, 2023 at 11:59pm**"
   ]
  },
  {
   "cell_type": "markdown",
   "metadata": {},
   "source": [
    "## Table of contents\n",
    "\n",
    "- [Submission instructions](#si)\n",
    "- [Understanding the problem](#1)\n",
    "- [Data splitting](#2)\n",
    "- [EDA](#3)\n",
    "- (Optional) [Feature engineering](#4)\n",
    "- [Preprocessing and transformations](#5)\n",
    "- [Baseline model](#6)\n",
    "- [Linear models](#7)\n",
    "- [Different classifiers](#8)\n",
    "- (Optional) [Feature selection](#9)\n",
    "- [Hyperparameter optimization](#10)\n",
    "- [Interpretation and feature importances](#11)\n",
    "- [Results on the test set](#12)\n",
    "- (Optional) [Explaining predictions](#13)\n",
    "- [Summary of the results](#14)"
   ]
  },
  {
   "cell_type": "markdown",
   "metadata": {},
   "source": [
    "## Imports "
   ]
  },
  {
   "cell_type": "code",
   "execution_count": 1,
   "metadata": {},
   "outputs": [],
   "source": [
    "import os\n",
    "\n",
    "%matplotlib inline\n",
    "import sys\n",
    "\n",
    "import matplotlib.pyplot as plt\n",
    "import numpy as np\n",
    "import pandas as pd\n",
    "import seaborn as sns\n",
    "import xgboost as xgb\n",
    "from sklearn.compose import ColumnTransformer, make_column_transformer\n",
    "from sklearn.dummy import DummyClassifier\n",
    "from sklearn.ensemble import RandomForestClassifier\n",
    "from sklearn.impute import SimpleImputer\n",
    "from sklearn.linear_model import LogisticRegression\n",
    "from sklearn.metrics import (\n",
    "    classification_report,\n",
    "    confusion_matrix,\n",
    "    f1_score,\n",
    "    make_scorer,\n",
    "    accuracy_score\n",
    "    # plot_confusion_matrix,\n",
    ")\n",
    "from sklearn.model_selection import (\n",
    "    GridSearchCV,\n",
    "    RandomizedSearchCV,\n",
    "    cross_val_score,\n",
    "    cross_validate,\n",
    "    train_test_split,\n",
    ")\n",
    "from sklearn.pipeline import Pipeline, make_pipeline\n",
    "from sklearn.preprocessing import OneHotEncoder, OrdinalEncoder, StandardScaler\n",
    "from sklearn.svm import SVC\n",
    "from sklearn.neighbors import KNeighborsClassifier"
   ]
  },
  {
   "cell_type": "markdown",
   "metadata": {},
   "source": [
    "<br><br>"
   ]
  },
  {
   "cell_type": "markdown",
   "metadata": {},
   "source": []
  },
  {
   "cell_type": "markdown",
   "metadata": {},
   "source": [
    "## Instructions \n",
    "<hr>\n",
    "rubric={points:2}\n",
    "\n",
    "Follow the [homework submission instructions](https://github.com/UBC-CS/cpsc330-2022W2/blob/main/docs/homework_instructions.md). \n",
    "\n",
    "**You may work on this homework in a group and submit your assignment as a group.** Below are some instructions on working as a group.  \n",
    "- The maximum group size is 3. \n",
    "- Use group work as an opportunity to collaborate and learn new things from each other. \n",
    "- Be respectful to each other and make sure you understand all the concepts in the assignment well. \n",
    "- It's your responsibility to make sure that the assignment is submitted by one of the group members before the deadline. \n",
    "- You can find the instructions on how to do group submission on Gradescope [here](https://help.gradescope.com/article/m5qz2xsnjy-student-add-group-members)."
   ]
  },
  {
   "cell_type": "markdown",
   "metadata": {},
   "source": [
    "<br><br>"
   ]
  },
  {
   "cell_type": "markdown",
   "metadata": {},
   "source": [
    "## Introduction <a name=\"in\"></a>\n",
    "<hr>\n",
    "\n",
    "At this point we are at the end of supervised machine learning part of the course. So in this homework, you will be working on an open-ended mini-project, where you will put all the different things you have learned so far together to solve an interesting problem.\n",
    "\n",
    "A few notes and tips when you work on this mini-project: \n",
    "\n",
    "#### Tips\n",
    "\n",
    "1. This mini-project is open-ended, and while working on it, there might be some situations where you'll have to use your own judgment and make your own decisions (as you would be doing when you work as a data scientist). Make sure you explain your decisions whenever necessary. \n",
    "2. **Do not include everything you ever tried in your submission** -- it's fine just to have your final code. That said, your code should be reproducible and well-documented. For example, if you chose your hyperparameters based on some hyperparameter optimization experiment, you should leave in the code for that experiment so that someone else could re-run it and obtain the same hyperparameters, rather than mysteriously just setting the hyperparameters to some (carefully chosen) values in your code. \n",
    "3. If you realize that you are repeating a lot of code try to organize it in functions. Clear presentation of your code, experiments, and results is the key to be successful in this lab. You may use code from lecture notes or previous lab solutions with appropriate attributions. \n",
    "4. If you are having trouble running models on your laptop because of the size of the dataset, you can create your train/test split in such a way that you have less data in the train split. If you end up doing this, please write a note to the grader in the submission explaining why you are doing it.  \n",
    "\n",
    "#### Assessment\n",
    "\n",
    "We plan to grade fairly and leniently. We don't have some secret target score that you need to achieve to get a good grade. **You'll be assessed on demonstration of mastery of course topics, clear presentation, and the quality of your analysis and results.** For example, if you just have a bunch of code and no text or figures, that's not good. If you do a bunch of sane things and get a lower accuracy than your friend, don't sweat it.\n",
    "\n",
    "#### A final note\n",
    "\n",
    "Finally, this style of this \"project\" question is different from other assignments. It'll be up to you to decide when you're \"done\" -- in fact, this is one of the hardest parts of real projects. But please don't spend WAY too much time on this... perhaps \"a few hours\" (2-8 hours???) is a good guideline for a typical submission. Of course if you're having fun you're welcome to spend as much time as you want! But, if so, try not to do it out of perfectionism or getting the best possible grade. Do it because you're learning and enjoying it. Students from the past cohorts have found such kind of labs useful and fun and I hope you enjoy it as well. "
   ]
  },
  {
   "cell_type": "markdown",
   "metadata": {},
   "source": [
    "<br><br>"
   ]
  },
  {
   "cell_type": "markdown",
   "metadata": {},
   "source": [
    "## 1. Understanding the problem <a name=\"1\"></a>\n",
    "<hr>\n",
    "rubric={points:4}\n",
    "\n",
    "In this mini project, you will be working on a classification problem of predicting whether a customer will cancel the reservation they have made at a hotel. \n",
    "For this problem, you will use [Reservation Cancellation Prediction Dataset](https://www.kaggle.com/datasets/gauravduttakiit/reservation-cancellation-prediction?select=train__dataset.csv). In this data set, there are about 18.000 examples and 18 features (including the target), and the goal is to estimate whether a person will cancel their booking; this column is labeled \"booking_status\" in the data (1 = canceled). \n",
    "\n",
    "**Your tasks:**\n",
    "\n",
    "1. Spend some time understanding the problem and what each feature means. You can find this information in the documentation on [the dataset page on Kaggle](https://www.kaggle.com/datasets/gauravduttakiit/reservation-cancellation-prediction?select=train__dataset.csv). Write a few sentences on your initial thoughts on the problem and the dataset. \n",
    "2. Download the dataset and read it as a pandas dataframe. "
   ]
  },
  {
   "cell_type": "markdown",
   "metadata": {},
   "source": [
    "<br><br>"
   ]
  },
  {
   "attachments": {},
   "cell_type": "markdown",
   "metadata": {},
   "source": [
    "### SOLUTION\n",
    "My initial thoughts on the dataset:\n",
    "- It looks quite clean. Doesnt seem to require much data cleaning (I will have to verify this during EDA)\n",
    "- The dataset has a lot of integer columns.\n",
    "\n",
    "In the code cell below, I read in the data"
   ]
  },
  {
   "cell_type": "code",
   "execution_count": 2,
   "metadata": {},
   "outputs": [
    {
     "data": {
      "text/html": [
       "<div>\n",
       "<style scoped>\n",
       "    .dataframe tbody tr th:only-of-type {\n",
       "        vertical-align: middle;\n",
       "    }\n",
       "\n",
       "    .dataframe tbody tr th {\n",
       "        vertical-align: top;\n",
       "    }\n",
       "\n",
       "    .dataframe thead th {\n",
       "        text-align: right;\n",
       "    }\n",
       "</style>\n",
       "<table border=\"1\" class=\"dataframe\">\n",
       "  <thead>\n",
       "    <tr style=\"text-align: right;\">\n",
       "      <th></th>\n",
       "      <th>no_of_adults</th>\n",
       "      <th>no_of_children</th>\n",
       "      <th>no_of_weekend_nights</th>\n",
       "      <th>no_of_week_nights</th>\n",
       "      <th>type_of_meal_plan</th>\n",
       "      <th>required_car_parking_space</th>\n",
       "      <th>room_type_reserved</th>\n",
       "      <th>lead_time</th>\n",
       "      <th>arrival_year</th>\n",
       "      <th>arrival_month</th>\n",
       "      <th>arrival_date</th>\n",
       "      <th>market_segment_type</th>\n",
       "      <th>repeated_guest</th>\n",
       "      <th>no_of_previous_cancellations</th>\n",
       "      <th>no_of_previous_bookings_not_canceled</th>\n",
       "      <th>avg_price_per_room</th>\n",
       "      <th>no_of_special_requests</th>\n",
       "      <th>booking_status</th>\n",
       "    </tr>\n",
       "  </thead>\n",
       "  <tbody>\n",
       "    <tr>\n",
       "      <th>0</th>\n",
       "      <td>2</td>\n",
       "      <td>0</td>\n",
       "      <td>1</td>\n",
       "      <td>4</td>\n",
       "      <td>0</td>\n",
       "      <td>0</td>\n",
       "      <td>0</td>\n",
       "      <td>118</td>\n",
       "      <td>2017</td>\n",
       "      <td>12</td>\n",
       "      <td>28</td>\n",
       "      <td>1</td>\n",
       "      <td>0</td>\n",
       "      <td>0</td>\n",
       "      <td>0</td>\n",
       "      <td>110.80</td>\n",
       "      <td>2</td>\n",
       "      <td>0</td>\n",
       "    </tr>\n",
       "    <tr>\n",
       "      <th>1</th>\n",
       "      <td>2</td>\n",
       "      <td>1</td>\n",
       "      <td>0</td>\n",
       "      <td>2</td>\n",
       "      <td>0</td>\n",
       "      <td>0</td>\n",
       "      <td>0</td>\n",
       "      <td>17</td>\n",
       "      <td>2018</td>\n",
       "      <td>4</td>\n",
       "      <td>14</td>\n",
       "      <td>1</td>\n",
       "      <td>0</td>\n",
       "      <td>0</td>\n",
       "      <td>0</td>\n",
       "      <td>145.00</td>\n",
       "      <td>0</td>\n",
       "      <td>1</td>\n",
       "    </tr>\n",
       "    <tr>\n",
       "      <th>2</th>\n",
       "      <td>1</td>\n",
       "      <td>0</td>\n",
       "      <td>1</td>\n",
       "      <td>5</td>\n",
       "      <td>0</td>\n",
       "      <td>0</td>\n",
       "      <td>0</td>\n",
       "      <td>349</td>\n",
       "      <td>2018</td>\n",
       "      <td>10</td>\n",
       "      <td>4</td>\n",
       "      <td>0</td>\n",
       "      <td>0</td>\n",
       "      <td>0</td>\n",
       "      <td>0</td>\n",
       "      <td>96.67</td>\n",
       "      <td>0</td>\n",
       "      <td>1</td>\n",
       "    </tr>\n",
       "    <tr>\n",
       "      <th>3</th>\n",
       "      <td>1</td>\n",
       "      <td>0</td>\n",
       "      <td>2</td>\n",
       "      <td>4</td>\n",
       "      <td>0</td>\n",
       "      <td>0</td>\n",
       "      <td>0</td>\n",
       "      <td>69</td>\n",
       "      <td>2018</td>\n",
       "      <td>6</td>\n",
       "      <td>12</td>\n",
       "      <td>0</td>\n",
       "      <td>0</td>\n",
       "      <td>0</td>\n",
       "      <td>0</td>\n",
       "      <td>120.00</td>\n",
       "      <td>0</td>\n",
       "      <td>1</td>\n",
       "    </tr>\n",
       "    <tr>\n",
       "      <th>4</th>\n",
       "      <td>2</td>\n",
       "      <td>0</td>\n",
       "      <td>0</td>\n",
       "      <td>4</td>\n",
       "      <td>1</td>\n",
       "      <td>0</td>\n",
       "      <td>0</td>\n",
       "      <td>11</td>\n",
       "      <td>2018</td>\n",
       "      <td>1</td>\n",
       "      <td>20</td>\n",
       "      <td>1</td>\n",
       "      <td>0</td>\n",
       "      <td>0</td>\n",
       "      <td>0</td>\n",
       "      <td>69.50</td>\n",
       "      <td>1</td>\n",
       "      <td>0</td>\n",
       "    </tr>\n",
       "  </tbody>\n",
       "</table>\n",
       "</div>"
      ],
      "text/plain": [
       "   no_of_adults  no_of_children  no_of_weekend_nights  no_of_week_nights  \\\n",
       "0             2               0                     1                  4   \n",
       "1             2               1                     0                  2   \n",
       "2             1               0                     1                  5   \n",
       "3             1               0                     2                  4   \n",
       "4             2               0                     0                  4   \n",
       "\n",
       "   type_of_meal_plan  required_car_parking_space  room_type_reserved  \\\n",
       "0                  0                           0                   0   \n",
       "1                  0                           0                   0   \n",
       "2                  0                           0                   0   \n",
       "3                  0                           0                   0   \n",
       "4                  1                           0                   0   \n",
       "\n",
       "   lead_time  arrival_year  arrival_month  arrival_date  market_segment_type  \\\n",
       "0        118          2017             12            28                    1   \n",
       "1         17          2018              4            14                    1   \n",
       "2        349          2018             10             4                    0   \n",
       "3         69          2018              6            12                    0   \n",
       "4         11          2018              1            20                    1   \n",
       "\n",
       "   repeated_guest  no_of_previous_cancellations  \\\n",
       "0               0                             0   \n",
       "1               0                             0   \n",
       "2               0                             0   \n",
       "3               0                             0   \n",
       "4               0                             0   \n",
       "\n",
       "   no_of_previous_bookings_not_canceled  avg_price_per_room  \\\n",
       "0                                     0              110.80   \n",
       "1                                     0              145.00   \n",
       "2                                     0               96.67   \n",
       "3                                     0              120.00   \n",
       "4                                     0               69.50   \n",
       "\n",
       "   no_of_special_requests  booking_status  \n",
       "0                       2               0  \n",
       "1                       0               1  \n",
       "2                       0               1  \n",
       "3                       0               1  \n",
       "4                       1               0  "
      ]
     },
     "execution_count": 2,
     "metadata": {},
     "output_type": "execute_result"
    }
   ],
   "source": [
    "# OBTAINING TRAIN PATH\n",
    "DATA_PATH = \"data/train__dataset.csv\"\n",
    "\n",
    "# READING THE DATA\n",
    "data = pd.read_csv(DATA_PATH)\n",
    "\n",
    "# DISPLAYING A SAMPLE OF THE DATA\n",
    "data.head()\n"
   ]
  },
  {
   "cell_type": "markdown",
   "metadata": {},
   "source": [
    "## 2. Data splitting <a name=\"2\"></a>\n",
    "<hr>\n",
    "rubric={points:2}\n",
    "\n",
    "**Your tasks:**\n",
    "\n",
    "1. Split the data into train and test portions. "
   ]
  },
  {
   "attachments": {},
   "cell_type": "markdown",
   "metadata": {},
   "source": [
    "*** \n",
    "**SOLUTION**\n",
    "\n",
    "In the code cell below, I separated the target variables from the predictors and then split them into training and testing sets."
   ]
  },
  {
   "cell_type": "code",
   "execution_count": 3,
   "metadata": {},
   "outputs": [
    {
     "data": {
      "text/plain": [
       "((14509, 17), (3628, 17), (14509,), (3628,))"
      ]
     },
     "execution_count": 3,
     "metadata": {},
     "output_type": "execute_result"
    }
   ],
   "source": [
    "# SPLITTING INTO PREDICTORS AND TARGETS\n",
    "X, y = data.drop(\"booking_status\", axis=1), data[\"booking_status\"]\n",
    "\n",
    "# TRAIN TEST SPLIT\n",
    "X_train, X_test, y_train, y_test = train_test_split(X, y, test_size=0.2, stratify=y, random_state=42) \n",
    "\n",
    "# CHECKING THE DIMENSIONALITIES\n",
    "X_train.shape, X_test.shape, y_train.shape, y_test.shape"
   ]
  },
  {
   "cell_type": "markdown",
   "metadata": {},
   "source": [
    "<br><br>"
   ]
  },
  {
   "cell_type": "markdown",
   "metadata": {},
   "source": [
    "## 3. EDA <a name=\"3\"></a>\n",
    "<hr>\n",
    "rubric={points:10}\n",
    "\n",
    "**Your tasks:**\n",
    "\n",
    "1. Perform exploratory data analysis on the train set.\n",
    "2. Include at least two summary statistics and two visualizations that you find useful, and accompany each one with a sentence explaining it.\n",
    "3. Summarize your initial observations about the data. \n",
    "4. Pick appropriate metric/metrics for assessment. "
   ]
  },
  {
   "attachments": {},
   "cell_type": "markdown",
   "metadata": {},
   "source": [
    "***\n",
    "### Checking For Missing Values \n",
    "\n",
    "The function below takes in a pandas dataset and checks if it has empty values. I will use this to check if the test sets and the train sets have null values. If null values are present, I will consider a form of imputation or dropping of the rows."
   ]
  },
  {
   "cell_type": "code",
   "execution_count": 4,
   "metadata": {},
   "outputs": [],
   "source": [
    "# Importing Union for type hinting for readability\n",
    "from typing import Union \n",
    "\n",
    "def check_if_null(data: pd.DataFrame) -> Union[bool, None]:\n",
    "    \"\"\"\n",
    "    Returns True if data has missing values\n",
    "    Args:\n",
    "        data (pd.DataFrame): Pandas Dataframe \n",
    "\n",
    "    Returns:\n",
    "        Union[bool, None]: True if     \n",
    "    \"\"\"\n",
    "\n",
    "    if data.isnull().sum().sum() != 0: \n",
    "        print(\"DataSet set has missing values\")\n",
    "        return True\n",
    "\n",
    "    print(f\"SUCCESS!!! No Missing Values in the dataset\")\n",
    "    return\n",
    "\n"
   ]
  },
  {
   "attachments": {},
   "cell_type": "markdown",
   "metadata": {},
   "source": [
    "Having defined the function, I will use it to check if the Train_set has missing values. The code cell below does that."
   ]
  },
  {
   "cell_type": "code",
   "execution_count": 5,
   "metadata": {},
   "outputs": [
    {
     "name": "stdout",
     "output_type": "stream",
     "text": [
      "SUCCESS!!! No Missing Values in the dataset\n",
      "SUCCESS!!! No Missing Values in the dataset\n"
     ]
    }
   ],
   "source": [
    "# Checking of train and test sets have missing values\n",
    "check_if_null(X_train)\n",
    "check_if_null(X_test)"
   ]
  },
  {
   "attachments": {},
   "cell_type": "markdown",
   "metadata": {},
   "source": [
    "#### Checking for Class Imbalance\n",
    "Class imbalance might need to be taken into account for us to decide on what metric to use.\n",
    "The code cell below calculates the class imbalance of the dataset."
   ]
  },
  {
   "cell_type": "code",
   "execution_count": 6,
   "metadata": {},
   "outputs": [
    {
     "data": {
      "text/plain": [
       "0.6724102281342615"
      ]
     },
     "execution_count": 6,
     "metadata": {},
     "output_type": "execute_result"
    },
    {
     "data": {
      "image/png": "[encoded data removed]",
      "text/plain": [
       "<Figure size 640x480 with 1 Axes>"
      ]
     },
     "metadata": {},
     "output_type": "display_data"
    }
   ],
   "source": [
    "# plt.y_train.value_counts(normalize=True)\n",
    "proportions = y_train.value_counts(normalize=True)\n",
    "\n",
    "\n",
    "# plt.bar(proportions)\n",
    "ratios = f\"{proportions[0]:.2f} : {proportions[1]:.2f}\"\n",
    "proportions.plot.bar()\n",
    "plt.title(f\"Class Imbalance (ratio = {ratios})\")\n",
    "plt.xlabel(\"class\")\n",
    "plt.ylabel(\"count\")\n",
    "proportions[0]"
   ]
  },
  {
   "attachments": {},
   "cell_type": "markdown",
   "metadata": {},
   "source": [
    "**Class Imbalance Observations**\n",
    "\n",
    "As we see above, there is a class imbalance in the dataset. A dumb model which only predicts the most frequent class would be 67% accurate. \n",
    "\n",
    "Therefore, I will not use accuracy as the metric. I will use `F-1 SCORE` as the metric.\n"
   ]
  },
  {
   "attachments": {},
   "cell_type": "markdown",
   "metadata": {},
   "source": [
    "### Checking the distributions of some columns\n",
    "\n",
    "In the code cell below, I visually check the distributions of some columns in the dataset. I chose to check the distributions of `lead_time` and `avg_price_per_room` for the following reasons\n",
    "- I hypothesise that there is an association between amount of time between booking an appointment and arriving for the appointment. This is because, the further away from the booked date, the more chances of many circumstances that might cause a person to cancel.\n",
    "- If the price per room is high, people might decide to cancel appointments (Money does not grow on trees unfortunately)\n",
    "\n",
    "The code cell below plots the two visualizations"
   ]
  },
  {
   "cell_type": "code",
   "execution_count": 7,
   "metadata": {},
   "outputs": [
    {
     "data": {
      "image/png": "[encoded data removed]",
      "text/plain": [
       "<Figure size 640x480 with 1 Axes>"
      ]
     },
     "metadata": {},
     "output_type": "display_data"
    },
    {
     "data": {
      "image/png": "[encoded data removed]",
      "text/plain": [
       "<Figure size 640x480 with 1 Axes>"
      ]
     },
     "metadata": {},
     "output_type": "display_data"
    }
   ],
   "source": [
    "# OBTAINING CANCELLED AND UNCANCELLED MASKS\n",
    "canceled_mask = [True if i == 1 else False for i in y_train]\n",
    "non_canceled_mask = [True if i == 0 else False for i in y_train]\n",
    "\n",
    "# SEPARATING CANCELED AND UNCANCELLED DATA\n",
    "canceled = X_train[canceled_mask]\n",
    "non_canceled = X_train[non_canceled_mask]\n",
    "\n",
    "# PLOTTING\n",
    "columns = [\"lead_time\",  \"avg_price_per_room\",]\n",
    "for column in columns:\n",
    "    plt.hist(canceled[column], bins=30, label=\"Canceled\", alpha=0.5)\n",
    "    plt.hist(non_canceled[column], bins=30, label=\"Not Canceled\",alpha=0.5)\n",
    "    plt.title(column)\n",
    "    plt.legend()\n",
    "    plt.grid()\n",
    "    plt.show() \n",
    "    plt.close()"
   ]
  },
  {
   "attachments": {},
   "cell_type": "markdown",
   "metadata": {},
   "source": [
    "### **Final Thoughts on the data**\n",
    "\n",
    "- There is a high class imbalance in the dataset, and the positive class (cancelled) is under-represented. Therefore **F1-score** seems like a more important metric than accuracy\n",
    "- `arrival_year` and `arrival_date` might not be important features in our model. This is because, when we build the model to predict whether or not a booking is cancelled, the year will likely be different from the ones modeled. \n",
    "- `arrival_month` might be a useful feature since some months of the year (such as the holiday seasons) might be highly associated with cancelations of bookings"
   ]
  },
  {
   "cell_type": "markdown",
   "metadata": {},
   "source": [
    "<br><br>"
   ]
  },
  {
   "cell_type": "markdown",
   "metadata": {},
   "source": [
    "## (Optional) 4. Feature engineering <a name=\"4\"></a>\n",
    "<hr>\n",
    "rubric={points:1}\n",
    "\n",
    "**Your tasks:**\n",
    "\n",
    "1. Carry out feature engineering. In other words, extract new features relevant for the problem and work with your new feature set in the following exercises. You may have to go back and forth between feature engineering and preprocessing. "
   ]
  },
  {
   "attachments": {},
   "cell_type": "markdown",
   "metadata": {},
   "source": [
    "***\n",
    "#### SOLUTION\n",
    "I decided to add one more column which I think might add value to the dataset. I decided to add a `cost` column. cost is given by the following formula:\n",
    "> cost = avg_price_per_room * (no_of_adults+no_of_children)\n",
    "\n",
    "I decided to add this because I hypothesise that the number of people(who might share the cost) and the cost might have influence on the likelihood of cancelling\n",
    "\n",
    "In the code cell below, I defined a function that adds the column. I then called the function on the training data"
   ]
  },
  {
   "cell_type": "code",
   "execution_count": 8,
   "metadata": {},
   "outputs": [
    {
     "data": {
      "text/html": [
       "<div>\n",
       "<style scoped>\n",
       "    .dataframe tbody tr th:only-of-type {\n",
       "        vertical-align: middle;\n",
       "    }\n",
       "\n",
       "    .dataframe tbody tr th {\n",
       "        vertical-align: top;\n",
       "    }\n",
       "\n",
       "    .dataframe thead th {\n",
       "        text-align: right;\n",
       "    }\n",
       "</style>\n",
       "<table border=\"1\" class=\"dataframe\">\n",
       "  <thead>\n",
       "    <tr style=\"text-align: right;\">\n",
       "      <th></th>\n",
       "      <th>no_of_adults</th>\n",
       "      <th>no_of_children</th>\n",
       "      <th>no_of_weekend_nights</th>\n",
       "      <th>no_of_week_nights</th>\n",
       "      <th>type_of_meal_plan</th>\n",
       "      <th>required_car_parking_space</th>\n",
       "      <th>room_type_reserved</th>\n",
       "      <th>lead_time</th>\n",
       "      <th>arrival_year</th>\n",
       "      <th>arrival_month</th>\n",
       "      <th>arrival_date</th>\n",
       "      <th>market_segment_type</th>\n",
       "      <th>repeated_guest</th>\n",
       "      <th>no_of_previous_cancellations</th>\n",
       "      <th>no_of_previous_bookings_not_canceled</th>\n",
       "      <th>avg_price_per_room</th>\n",
       "      <th>no_of_special_requests</th>\n",
       "      <th>cost</th>\n",
       "    </tr>\n",
       "  </thead>\n",
       "  <tbody>\n",
       "    <tr>\n",
       "      <th>11045</th>\n",
       "      <td>1</td>\n",
       "      <td>0</td>\n",
       "      <td>1</td>\n",
       "      <td>0</td>\n",
       "      <td>1</td>\n",
       "      <td>0</td>\n",
       "      <td>0</td>\n",
       "      <td>27</td>\n",
       "      <td>2018</td>\n",
       "      <td>9</td>\n",
       "      <td>25</td>\n",
       "      <td>1</td>\n",
       "      <td>0</td>\n",
       "      <td>0</td>\n",
       "      <td>0</td>\n",
       "      <td>104.0</td>\n",
       "      <td>1</td>\n",
       "      <td>104.0</td>\n",
       "    </tr>\n",
       "    <tr>\n",
       "      <th>5031</th>\n",
       "      <td>2</td>\n",
       "      <td>0</td>\n",
       "      <td>1</td>\n",
       "      <td>2</td>\n",
       "      <td>0</td>\n",
       "      <td>0</td>\n",
       "      <td>0</td>\n",
       "      <td>233</td>\n",
       "      <td>2018</td>\n",
       "      <td>10</td>\n",
       "      <td>14</td>\n",
       "      <td>0</td>\n",
       "      <td>0</td>\n",
       "      <td>0</td>\n",
       "      <td>0</td>\n",
       "      <td>90.0</td>\n",
       "      <td>0</td>\n",
       "      <td>180.0</td>\n",
       "    </tr>\n",
       "    <tr>\n",
       "      <th>9538</th>\n",
       "      <td>2</td>\n",
       "      <td>0</td>\n",
       "      <td>0</td>\n",
       "      <td>2</td>\n",
       "      <td>0</td>\n",
       "      <td>0</td>\n",
       "      <td>0</td>\n",
       "      <td>59</td>\n",
       "      <td>2017</td>\n",
       "      <td>10</td>\n",
       "      <td>29</td>\n",
       "      <td>0</td>\n",
       "      <td>0</td>\n",
       "      <td>0</td>\n",
       "      <td>0</td>\n",
       "      <td>85.0</td>\n",
       "      <td>0</td>\n",
       "      <td>170.0</td>\n",
       "    </tr>\n",
       "    <tr>\n",
       "      <th>10225</th>\n",
       "      <td>1</td>\n",
       "      <td>0</td>\n",
       "      <td>1</td>\n",
       "      <td>3</td>\n",
       "      <td>0</td>\n",
       "      <td>0</td>\n",
       "      <td>0</td>\n",
       "      <td>0</td>\n",
       "      <td>2018</td>\n",
       "      <td>12</td>\n",
       "      <td>29</td>\n",
       "      <td>0</td>\n",
       "      <td>0</td>\n",
       "      <td>0</td>\n",
       "      <td>0</td>\n",
       "      <td>65.0</td>\n",
       "      <td>0</td>\n",
       "      <td>65.0</td>\n",
       "    </tr>\n",
       "    <tr>\n",
       "      <th>8721</th>\n",
       "      <td>3</td>\n",
       "      <td>0</td>\n",
       "      <td>1</td>\n",
       "      <td>4</td>\n",
       "      <td>0</td>\n",
       "      <td>0</td>\n",
       "      <td>1</td>\n",
       "      <td>112</td>\n",
       "      <td>2018</td>\n",
       "      <td>8</td>\n",
       "      <td>22</td>\n",
       "      <td>1</td>\n",
       "      <td>0</td>\n",
       "      <td>0</td>\n",
       "      <td>0</td>\n",
       "      <td>150.3</td>\n",
       "      <td>0</td>\n",
       "      <td>450.9</td>\n",
       "    </tr>\n",
       "  </tbody>\n",
       "</table>\n",
       "</div>"
      ],
      "text/plain": [
       "       no_of_adults  no_of_children  no_of_weekend_nights  no_of_week_nights  \\\n",
       "11045             1               0                     1                  0   \n",
       "5031              2               0                     1                  2   \n",
       "9538              2               0                     0                  2   \n",
       "10225             1               0                     1                  3   \n",
       "8721              3               0                     1                  4   \n",
       "\n",
       "       type_of_meal_plan  required_car_parking_space  room_type_reserved  \\\n",
       "11045                  1                           0                   0   \n",
       "5031                   0                           0                   0   \n",
       "9538                   0                           0                   0   \n",
       "10225                  0                           0                   0   \n",
       "8721                   0                           0                   1   \n",
       "\n",
       "       lead_time  arrival_year  arrival_month  arrival_date  \\\n",
       "11045         27          2018              9            25   \n",
       "5031         233          2018             10            14   \n",
       "9538          59          2017             10            29   \n",
       "10225          0          2018             12            29   \n",
       "8721         112          2018              8            22   \n",
       "\n",
       "       market_segment_type  repeated_guest  no_of_previous_cancellations  \\\n",
       "11045                    1               0                             0   \n",
       "5031                     0               0                             0   \n",
       "9538                     0               0                             0   \n",
       "10225                    0               0                             0   \n",
       "8721                     1               0                             0   \n",
       "\n",
       "       no_of_previous_bookings_not_canceled  avg_price_per_room  \\\n",
       "11045                                     0               104.0   \n",
       "5031                                      0                90.0   \n",
       "9538                                      0                85.0   \n",
       "10225                                     0                65.0   \n",
       "8721                                      0               150.3   \n",
       "\n",
       "       no_of_special_requests   cost  \n",
       "11045                       1  104.0  \n",
       "5031                        0  180.0  \n",
       "9538                        0  170.0  \n",
       "10225                       0   65.0  \n",
       "8721                        0  450.9  "
      ]
     },
     "execution_count": 8,
     "metadata": {},
     "output_type": "execute_result"
    }
   ],
   "source": [
    "from typing import List\n",
    "\n",
    "def add_cost(data: pd.DataFrame, cols: List[str]=[\"avg_price_per_room\", \"no_of_adults\", \"no_of_children\"]) -> pd.DataFrame:\n",
    "    \"\"\"Add new cost column\n",
    "    The cost coumn is given by : avg_price_per_room * (no_of_adults+no_of_children)\n",
    "\n",
    "    Args:\n",
    "        data (pd.DataFrame): The dataframe, either testset or train set\n",
    "        cols (List[str]): The colummns from which we obtain the new column\n",
    "\n",
    "    Returns:\n",
    "        pd.DataFrame: The new dataframe with the assigned column\n",
    "    \"\"\"\n",
    "    new_df = data.assign(\n",
    "        cost = data[cols[0]]*(data[cols[1]]+data[cols[2]])\n",
    "    )\n",
    "    return new_df\n",
    "\n",
    "# Adding the cost column to the training \n",
    "X_train, X_test = add_cost(X_train), add_cost(X_test)\n",
    "X_train.head()"
   ]
  },
  {
   "cell_type": "markdown",
   "metadata": {},
   "source": [
    "<br><br>"
   ]
  },
  {
   "cell_type": "markdown",
   "metadata": {},
   "source": [
    "## 5. Preprocessing and transformations <a name=\"5\"></a>\n",
    "<hr>\n",
    "rubric={points:10}\n",
    "\n",
    "**Your tasks:**\n",
    "\n",
    "1. Identify different feature types and the transformations you would apply on each feature type. \n",
    "2. Define a column transformer, if necessary. "
   ]
  },
  {
   "attachments": {},
   "cell_type": "markdown",
   "metadata": {},
   "source": [
    "***\n",
    "#### SOLUTION\n",
    "Before I do the transformations. I would like to check the ranges of every individual column. If the ranges are too high, i might consider scaling. \n",
    "\n",
    "The code cell below prints out the name of the column, the number of unique variables and the range of the values."
   ]
  },
  {
   "cell_type": "code",
   "execution_count": 9,
   "metadata": {},
   "outputs": [
    {
     "name": "stdout",
     "output_type": "stream",
     "text": [
      "no_of_adults, Unique: 5, Range: (0, 4)\n",
      "no_of_children, Unique: 5, Range: (0, 9)\n",
      "no_of_weekend_nights, Unique: 8, Range: (0, 7)\n",
      "no_of_week_nights, Unique: 18, Range: (0, 17)\n",
      "type_of_meal_plan, Unique: 4, Range: (0, 3)\n",
      "required_car_parking_space, Unique: 2, Range: (0, 1)\n",
      "room_type_reserved, Unique: 7, Range: (0, 6)\n",
      "lead_time, Unique: 340, Range: (0, 443)\n",
      "arrival_year, Unique: 2, Range: (2017, 2018)\n",
      "arrival_month, Unique: 12, Range: (1, 12)\n",
      "arrival_date, Unique: 31, Range: (1, 31)\n",
      "market_segment_type, Unique: 5, Range: (0, 4)\n",
      "repeated_guest, Unique: 2, Range: (0, 1)\n",
      "no_of_previous_cancellations, Unique: 9, Range: (0, 13)\n",
      "no_of_previous_bookings_not_canceled, Unique: 43, Range: (0, 58)\n",
      "avg_price_per_room, Unique: 2393, Range: (0.0, 540.0)\n",
      "no_of_special_requests, Unique: 6, Range: (0, 5)\n",
      "cost, Unique: 2952, Range: (0.0, 1331.5)\n"
     ]
    }
   ],
   "source": [
    "for col in X_train.columns:\n",
    "    print(f\"{col}, Unique: {X_train[col].nunique()}, Range: {min(X_train[col]), max(X_train[col])}\")"
   ]
  },
  {
   "attachments": {},
   "cell_type": "markdown",
   "metadata": {},
   "source": [
    "**OBSERVATIOINS AND DECISIONS**\n",
    "\n",
    "*Observations*\n",
    "- All columns are numeric, no strings\n",
    "- `cost`, `avg_price_per_room` are floats, the rest are integers\n",
    "\n",
    "*Decisions*\n",
    "- Scale the costs and the average price columns (since they are continous and in different ranges)  \n",
    "- Drop the year column (It doesnt seem useful)\n",
    "- Leave the rest as is (Since they are discrete)\n",
    "\n",
    "In the code cell below I made a column transformer performing these decisions"
   ]
  },
  {
   "cell_type": "code",
   "execution_count": 10,
   "metadata": {},
   "outputs": [
    {
     "data": {
      "text/plain": [
       "((14509, 17), (14509,))"
      ]
     },
     "execution_count": 10,
     "metadata": {},
     "output_type": "execute_result"
    }
   ],
   "source": [
    "# FEATURES TO DROP\n",
    "drop_features = [\"arrival_year\"]\n",
    "\n",
    "# FEATURES TO SCALE\n",
    "float_numeric_features = [\"lead_time\", \"cost\", \"avg_price_per_room\"]\n",
    "\n",
    "\n",
    "numeric_pipe = make_column_transformer(\n",
    "    (StandardScaler(), float_numeric_features),\n",
    "    (\"drop\", drop_features),\n",
    "    remainder=\"passthrough\"\n",
    ")\n",
    "\n",
    "# FITTING TRANSFORMER\n",
    "X_train = numeric_pipe.fit_transform(X_train)\n",
    "X_test = numeric_pipe.transform(X_test)\n",
    "\n",
    "# CHECKING SHAPE TO ENSURE THAT IT MAKES SENSE\n",
    "X_train.shape, y_train.shape"
   ]
  },
  {
   "cell_type": "markdown",
   "metadata": {},
   "source": [
    "<br><br>"
   ]
  },
  {
   "cell_type": "markdown",
   "metadata": {},
   "source": [
    "## 6. Baseline model <a name=\"6\"></a>\n",
    "<hr>\n",
    "\n",
    "rubric={points:2}\n",
    "\n",
    "**Your tasks:**\n",
    "1. Try `scikit-learn`'s baseline model and report results."
   ]
  },
  {
   "attachments": {},
   "cell_type": "markdown",
   "metadata": {},
   "source": [
    "*** \n",
    "#### SOLUTION\n",
    "In the code cell below, I used the DummyClassifier model. I obtained both the accuracy score and the f-1 score. However, the metric that I am interested in is the F1."
   ]
  },
  {
   "cell_type": "code",
   "execution_count": 11,
   "metadata": {},
   "outputs": [
    {
     "name": "stdout",
     "output_type": "stream",
     "text": [
      "f-1 score: 0.0\n"
     ]
    }
   ],
   "source": [
    "baseline = DummyClassifier()\n",
    "baseline.fit(X_train, y_train)\n",
    "y_preds = baseline.predict(X_train)\n",
    "\n",
    "f1_score(y_train, y_preds)\n",
    "accuracy_score(y_train, y_preds)\n",
    "\n",
    "summary = {\"f1 score\": f1_score(y_train, y_preds),\n",
    "        \"accuracy\": accuracy_score(y_train, y_preds)}\n",
    "print(f\"f-1 score: {summary['f1 score']}\")"
   ]
  },
  {
   "attachments": {},
   "cell_type": "markdown",
   "metadata": {},
   "source": [
    "As we see above, the performance of the model is so bad with an f-1 score of 0. We will need to come up with a better model."
   ]
  },
  {
   "cell_type": "markdown",
   "metadata": {},
   "source": [
    "<br><br>"
   ]
  },
  {
   "cell_type": "markdown",
   "metadata": {},
   "source": [
    "## 7. Linear models <a name=\"7\"></a>\n",
    "<hr>\n",
    "rubric={points:12}\n",
    "\n",
    "**Your tasks:**\n",
    "\n",
    "1. Try logistic regression as a first real attempt. \n",
    "2. Carry out hyperparameter tuning to explore different values for the complexity hyperparameter `C`. \n",
    "3. Report validation scores along with standard deviation. \n",
    "4. Summarize your results."
   ]
  },
  {
   "attachments": {},
   "cell_type": "markdown",
   "metadata": {},
   "source": [
    "***\n",
    "#### **IMPORTANT NOTE!!**\n",
    "Before I try the logistic regression, I noticed that, later in this assignment, I would need to perform cross validation using other models of my choice. I decided to write a function that does this in order to reduce the amount of \"similar\" code for every model. The code cell below shows the function."
   ]
  },
  {
   "cell_type": "code",
   "execution_count": 12,
   "metadata": {},
   "outputs": [],
   "source": [
    "from typing import List\n",
    "def cross_val_train(model: str, params: List[float], metrics: List[str]) -> pd.DataFrame:\n",
    "    \"\"\"\n",
    "    Given the name of the model, this function performs a cross validation on different hyperparameters and returns the means and standard deviations using the metrics specified\n",
    "\n",
    "    Args:\n",
    "        model (str): name of classifier to be used. \n",
    "        params (List[float]): a list of hyperparamers\n",
    "        metrics (List[str]): a list of metrics\n",
    "\n",
    "    Returns:\n",
    "        pd.DataFrame: A dataframe of scores of the cross validations\n",
    "    \"\"\"\n",
    "\n",
    "    # Make sure the model is one of the models I will use\n",
    "    assert model in [\"Logistic\", \"SVM\", \"KNN\", \"Random Forest\"], \"Check your spelling\"\n",
    "\n",
    "    # A dictionary to store the standard deviation and the means of the metrics in the model\n",
    "    results = dict()\n",
    "\n",
    "    # Performing cross validation for logistic regressiom\n",
    "    if model == \"Logistic\":\n",
    "        for param in params:\n",
    "            log_reg = LogisticRegression(max_iter=1000, C=param, random_state=42)\n",
    "            cross_val_results = cross_validate(log_reg, X_train, y_train, \n",
    "                            scoring=metrics, return_train_score=True, n_jobs=-1)\n",
    "            results[\"C=\"+str(param)+\"_std\"]= pd.DataFrame(cross_val_results).std()\n",
    "            results[\"C=\"+str(param)+\"_mean\"]= pd.DataFrame(cross_val_results).mean()\n",
    "        return pd.DataFrame(results).T.drop([\"fit_time\", \"score_time\"], axis=1)\n",
    "        \n",
    "    # Performing crossvalidation for Support vector machines\n",
    "    elif model == \"SVM\":\n",
    "        for param in params:\n",
    "            svm_clf = SVC(C=param, random_state=42)\n",
    "            cross_val_results = cross_validate(svm_clf, X_train, y_train, \n",
    "                        scoring=metrics, return_train_score=True, n_jobs=-1)\n",
    "            results[\"C=\"+str(param)+\"_std\"]= pd.DataFrame(cross_val_results).std()\n",
    "            results[\"C=\"+str(param)+\"_mean\"]= pd.DataFrame(cross_val_results).mean()\n",
    "        return pd.DataFrame(results).T.drop([\"fit_time\", \"score_time\"], axis=1)\n",
    "    \n",
    "    # Performing crossvalidation for Random forest\n",
    "    elif model == \"Random Forest\":\n",
    "        for param in params:\n",
    "            clf_rf = RandomForestClassifier(max_depth=param, random_state=42)\n",
    "            cross_val_results = cross_validate(clf_rf, X_train, y_train, \n",
    "                        scoring=metrics, return_train_score=True, n_jobs=-1)\n",
    "            results[\"max_depth=\"+str(param)+\"_std\"]= pd.DataFrame(cross_val_results).std()\n",
    "            results[\"max_depth=\"+str(param)+\"_mean\"]= pd.DataFrame(cross_val_results).mean()\n",
    "        return pd.DataFrame(results).T.drop([\"fit_time\", \"score_time\"], axis=1)\n",
    "\n",
    "    # Performing cv for knn\n",
    "    else:\n",
    "        for param in params:\n",
    "            knn_clf = KNeighborsClassifier(n_neighbors=param)\n",
    "            cross_val_results = cross_validate(knn_clf, X_train, y_train, \n",
    "                            scoring=metrics, return_train_score=True, n_jobs=-1)\n",
    "            results[\"k=\"+str(param)+\"_std\"]= pd.DataFrame(cross_val_results).std()\n",
    "            results[\"k=\"+str(param)+\"_mean\"]= pd.DataFrame(cross_val_results).mean()\n",
    "        return pd.DataFrame(results).T.drop([\"fit_time\", \"score_time\"], axis=1)"
   ]
  },
  {
   "attachments": {},
   "cell_type": "markdown",
   "metadata": {},
   "source": [
    "Having Implemented the function, Now I will first run the logistic regression model.\n",
    "\n",
    "- The code cell below runs the cross_validation with different values of the C hyperparameter."
   ]
  },
  {
   "cell_type": "code",
   "execution_count": 13,
   "metadata": {},
   "outputs": [
    {
     "data": {
      "text/html": [
       "<div>\n",
       "<style scoped>\n",
       "    .dataframe tbody tr th:only-of-type {\n",
       "        vertical-align: middle;\n",
       "    }\n",
       "\n",
       "    .dataframe tbody tr th {\n",
       "        vertical-align: top;\n",
       "    }\n",
       "\n",
       "    .dataframe thead th {\n",
       "        text-align: right;\n",
       "    }\n",
       "</style>\n",
       "<table border=\"1\" class=\"dataframe\">\n",
       "  <thead>\n",
       "    <tr style=\"text-align: right;\">\n",
       "      <th></th>\n",
       "      <th>test_f1</th>\n",
       "      <th>train_f1</th>\n",
       "      <th>test_accuracy</th>\n",
       "      <th>train_accuracy</th>\n",
       "    </tr>\n",
       "  </thead>\n",
       "  <tbody>\n",
       "    <tr>\n",
       "      <th>C=0.01_std</th>\n",
       "      <td>0.009068</td>\n",
       "      <td>0.002283</td>\n",
       "      <td>0.004902</td>\n",
       "      <td>0.001048</td>\n",
       "    </tr>\n",
       "    <tr>\n",
       "      <th>C=0.01_mean</th>\n",
       "      <td>0.626834</td>\n",
       "      <td>0.627765</td>\n",
       "      <td>0.787718</td>\n",
       "      <td>0.788183</td>\n",
       "    </tr>\n",
       "    <tr>\n",
       "      <th>C=0.1_std</th>\n",
       "      <td>0.007359</td>\n",
       "      <td>0.002510</td>\n",
       "      <td>0.003950</td>\n",
       "      <td>0.001190</td>\n",
       "    </tr>\n",
       "    <tr>\n",
       "      <th>C=0.1_mean</th>\n",
       "      <td>0.643352</td>\n",
       "      <td>0.644439</td>\n",
       "      <td>0.791095</td>\n",
       "      <td>0.791043</td>\n",
       "    </tr>\n",
       "    <tr>\n",
       "      <th>C=1_std</th>\n",
       "      <td>0.006209</td>\n",
       "      <td>0.002755</td>\n",
       "      <td>0.003115</td>\n",
       "      <td>0.001252</td>\n",
       "    </tr>\n",
       "    <tr>\n",
       "      <th>C=1_mean</th>\n",
       "      <td>0.649380</td>\n",
       "      <td>0.649410</td>\n",
       "      <td>0.792887</td>\n",
       "      <td>0.792715</td>\n",
       "    </tr>\n",
       "    <tr>\n",
       "      <th>C=10_std</th>\n",
       "      <td>0.006277</td>\n",
       "      <td>0.002974</td>\n",
       "      <td>0.003053</td>\n",
       "      <td>0.001377</td>\n",
       "    </tr>\n",
       "    <tr>\n",
       "      <th>C=10_mean</th>\n",
       "      <td>0.649869</td>\n",
       "      <td>0.650166</td>\n",
       "      <td>0.792887</td>\n",
       "      <td>0.792939</td>\n",
       "    </tr>\n",
       "    <tr>\n",
       "      <th>C=100_std</th>\n",
       "      <td>0.006294</td>\n",
       "      <td>0.002949</td>\n",
       "      <td>0.003048</td>\n",
       "      <td>0.001383</td>\n",
       "    </tr>\n",
       "    <tr>\n",
       "      <th>C=100_mean</th>\n",
       "      <td>0.649635</td>\n",
       "      <td>0.650304</td>\n",
       "      <td>0.792749</td>\n",
       "      <td>0.792991</td>\n",
       "    </tr>\n",
       "  </tbody>\n",
       "</table>\n",
       "</div>"
      ],
      "text/plain": [
       "              test_f1  train_f1  test_accuracy  train_accuracy\n",
       "C=0.01_std   0.009068  0.002283       0.004902        0.001048\n",
       "C=0.01_mean  0.626834  0.627765       0.787718        0.788183\n",
       "C=0.1_std    0.007359  0.002510       0.003950        0.001190\n",
       "C=0.1_mean   0.643352  0.644439       0.791095        0.791043\n",
       "C=1_std      0.006209  0.002755       0.003115        0.001252\n",
       "C=1_mean     0.649380  0.649410       0.792887        0.792715\n",
       "C=10_std     0.006277  0.002974       0.003053        0.001377\n",
       "C=10_mean    0.649869  0.650166       0.792887        0.792939\n",
       "C=100_std    0.006294  0.002949       0.003048        0.001383\n",
       "C=100_mean   0.649635  0.650304       0.792749        0.792991"
      ]
     },
     "execution_count": 13,
     "metadata": {},
     "output_type": "execute_result"
    }
   ],
   "source": [
    "metrics = [\"f1\", \"accuracy\"]\n",
    "logistic_par = [0.01, 0.1, 1, 10, 100]\n",
    "log_cv = cross_val_train(\"Logistic\",logistic_par,metrics)\n",
    "log_cv"
   ]
  },
  {
   "attachments": {},
   "cell_type": "markdown",
   "metadata": {},
   "source": [
    "**OBSERVATIONS ON LOGISTIC REGRESSION**\n",
    "\n",
    "- From the model above, we see that, on average, the value of C that is giving us the best f-1 score is C=100.\n",
    "- The standard deviation is not to large, which implies that the model can be trusted\n",
    "- In the code cell below, I instantiated the logistic regression model and set the hyperparameter C=100 to see how it performs on the test set"
   ]
  },
  {
   "cell_type": "code",
   "execution_count": 14,
   "metadata": {},
   "outputs": [
    {
     "name": "stdout",
     "output_type": "stream",
     "text": [
      "f-1 score: 0.6494593651900942\n"
     ]
    }
   ],
   "source": [
    "lr = LogisticRegression(max_iter=1000, C=100, random_state=42)\n",
    "lr.fit(X_train, y_train)\n",
    "y_preds_lr = lr.predict(X_train)\n",
    "lr_summary = {\n",
    "    \"f1_score\": f1_score(y_train, y_preds_lr),\n",
    "    \"accuracy\": accuracy_score(y_train, y_preds_lr)\n",
    "    }\n",
    "print(f\"f-1 score: {lr_summary['f1_score']}\")"
   ]
  },
  {
   "cell_type": "markdown",
   "metadata": {},
   "source": []
  },
  {
   "cell_type": "markdown",
   "metadata": {},
   "source": [
    "<br><br>"
   ]
  },
  {
   "cell_type": "markdown",
   "metadata": {},
   "source": [
    "## 8. Different classifiers <a name=\"8\"></a>\n",
    "<hr>\n",
    "rubric={points:15}\n",
    "\n",
    "**Your tasks:**\n",
    "1. Try at least 3 other models aside from logistic regression. At least one of these models should be a tree-based ensemble model (e.g., lgbm, random forest, xgboost). \n",
    "2. Summarize your results. Can you beat logistic regression? "
   ]
  },
  {
   "attachments": {},
   "cell_type": "markdown",
   "metadata": {},
   "source": [
    "***\n",
    "#### **SOLUTION**\n",
    "\n",
    "I decided to use the following classifiers:\n",
    "- Random Forest\n",
    "- K nearest Neighbours\n",
    "- Support Vector Machines\n",
    "\n",
    "\n",
    "\n",
    "##### **Random Forest**"
   ]
  },
  {
   "cell_type": "code",
   "execution_count": 15,
   "metadata": {},
   "outputs": [
    {
     "data": {
      "text/html": [
       "<div>\n",
       "<style scoped>\n",
       "    .dataframe tbody tr th:only-of-type {\n",
       "        vertical-align: middle;\n",
       "    }\n",
       "\n",
       "    .dataframe tbody tr th {\n",
       "        vertical-align: top;\n",
       "    }\n",
       "\n",
       "    .dataframe thead th {\n",
       "        text-align: right;\n",
       "    }\n",
       "</style>\n",
       "<table border=\"1\" class=\"dataframe\">\n",
       "  <thead>\n",
       "    <tr style=\"text-align: right;\">\n",
       "      <th></th>\n",
       "      <th>test_f1</th>\n",
       "      <th>train_f1</th>\n",
       "      <th>test_accuracy</th>\n",
       "      <th>train_accuracy</th>\n",
       "    </tr>\n",
       "  </thead>\n",
       "  <tbody>\n",
       "    <tr>\n",
       "      <th>max_depth=5_std</th>\n",
       "      <td>0.014174</td>\n",
       "      <td>0.018304</td>\n",
       "      <td>0.005472</td>\n",
       "      <td>0.006328</td>\n",
       "    </tr>\n",
       "    <tr>\n",
       "      <th>max_depth=5_mean</th>\n",
       "      <td>0.660600</td>\n",
       "      <td>0.669705</td>\n",
       "      <td>0.821146</td>\n",
       "      <td>0.825556</td>\n",
       "    </tr>\n",
       "    <tr>\n",
       "      <th>max_depth=10_std</th>\n",
       "      <td>0.008291</td>\n",
       "      <td>0.001972</td>\n",
       "      <td>0.003923</td>\n",
       "      <td>0.000943</td>\n",
       "    </tr>\n",
       "    <tr>\n",
       "      <th>max_depth=10_mean</th>\n",
       "      <td>0.785503</td>\n",
       "      <td>0.822851</td>\n",
       "      <td>0.872700</td>\n",
       "      <td>0.893480</td>\n",
       "    </tr>\n",
       "    <tr>\n",
       "      <th>max_depth=15_std</th>\n",
       "      <td>0.005755</td>\n",
       "      <td>0.004848</td>\n",
       "      <td>0.002796</td>\n",
       "      <td>0.002929</td>\n",
       "    </tr>\n",
       "    <tr>\n",
       "      <th>max_depth=15_mean</th>\n",
       "      <td>0.813440</td>\n",
       "      <td>0.919291</td>\n",
       "      <td>0.885106</td>\n",
       "      <td>0.948877</td>\n",
       "    </tr>\n",
       "    <tr>\n",
       "      <th>max_depth=20_std</th>\n",
       "      <td>0.002391</td>\n",
       "      <td>0.002018</td>\n",
       "      <td>0.001530</td>\n",
       "      <td>0.001284</td>\n",
       "    </tr>\n",
       "    <tr>\n",
       "      <th>max_depth=20_mean</th>\n",
       "      <td>0.819404</td>\n",
       "      <td>0.982802</td>\n",
       "      <td>0.888414</td>\n",
       "      <td>0.988817</td>\n",
       "    </tr>\n",
       "  </tbody>\n",
       "</table>\n",
       "</div>"
      ],
      "text/plain": [
       "                    test_f1  train_f1  test_accuracy  train_accuracy\n",
       "max_depth=5_std    0.014174  0.018304       0.005472        0.006328\n",
       "max_depth=5_mean   0.660600  0.669705       0.821146        0.825556\n",
       "max_depth=10_std   0.008291  0.001972       0.003923        0.000943\n",
       "max_depth=10_mean  0.785503  0.822851       0.872700        0.893480\n",
       "max_depth=15_std   0.005755  0.004848       0.002796        0.002929\n",
       "max_depth=15_mean  0.813440  0.919291       0.885106        0.948877\n",
       "max_depth=20_std   0.002391  0.002018       0.001530        0.001284\n",
       "max_depth=20_mean  0.819404  0.982802       0.888414        0.988817"
      ]
     },
     "execution_count": 15,
     "metadata": {},
     "output_type": "execute_result"
    }
   ],
   "source": [
    "# RANDOM FOREST CLASSIFIER\n",
    "depths = [5, 10, 15, 20]\n",
    "rf_cv = cross_val_train(\"Random Forest\", params=depths, metrics=metrics)\n",
    "rf_cv"
   ]
  },
  {
   "attachments": {},
   "cell_type": "markdown",
   "metadata": {},
   "source": [
    "**OBSERVATIONS ON RANDOM FOREST**\n",
    "\n",
    "- Random forest is giving us much better results. The best seen f-1 score (of 0.819) is seen at max_depth=20. Its standard deviation is also low which means we can trust it. The downside of this model is that it seems to overfit "
   ]
  },
  {
   "attachments": {},
   "cell_type": "markdown",
   "metadata": {},
   "source": [
    "***\n",
    "##### **K NEAREST NEIGHBOUR**"
   ]
  },
  {
   "cell_type": "code",
   "execution_count": 16,
   "metadata": {},
   "outputs": [
    {
     "data": {
      "text/html": [
       "<div>\n",
       "<style scoped>\n",
       "    .dataframe tbody tr th:only-of-type {\n",
       "        vertical-align: middle;\n",
       "    }\n",
       "\n",
       "    .dataframe tbody tr th {\n",
       "        vertical-align: top;\n",
       "    }\n",
       "\n",
       "    .dataframe thead th {\n",
       "        text-align: right;\n",
       "    }\n",
       "</style>\n",
       "<table border=\"1\" class=\"dataframe\">\n",
       "  <thead>\n",
       "    <tr style=\"text-align: right;\">\n",
       "      <th></th>\n",
       "      <th>test_f1</th>\n",
       "      <th>train_f1</th>\n",
       "      <th>test_accuracy</th>\n",
       "      <th>train_accuracy</th>\n",
       "    </tr>\n",
       "  </thead>\n",
       "  <tbody>\n",
       "    <tr>\n",
       "      <th>k=2_std</th>\n",
       "      <td>0.012989</td>\n",
       "      <td>0.003763</td>\n",
       "      <td>0.005579</td>\n",
       "      <td>0.001808</td>\n",
       "    </tr>\n",
       "    <tr>\n",
       "      <th>k=2_mean</th>\n",
       "      <td>0.659712</td>\n",
       "      <td>0.823564</td>\n",
       "      <td>0.813357</td>\n",
       "      <td>0.901475</td>\n",
       "    </tr>\n",
       "    <tr>\n",
       "      <th>k=5_std</th>\n",
       "      <td>0.010211</td>\n",
       "      <td>0.002223</td>\n",
       "      <td>0.007338</td>\n",
       "      <td>0.001261</td>\n",
       "    </tr>\n",
       "    <tr>\n",
       "      <th>k=5_mean</th>\n",
       "      <td>0.689326</td>\n",
       "      <td>0.799843</td>\n",
       "      <td>0.806947</td>\n",
       "      <td>0.875146</td>\n",
       "    </tr>\n",
       "    <tr>\n",
       "      <th>k=10_std</th>\n",
       "      <td>0.007500</td>\n",
       "      <td>0.004896</td>\n",
       "      <td>0.005407</td>\n",
       "      <td>0.002549</td>\n",
       "    </tr>\n",
       "    <tr>\n",
       "      <th>k=10_mean</th>\n",
       "      <td>0.647926</td>\n",
       "      <td>0.717080</td>\n",
       "      <td>0.803432</td>\n",
       "      <td>0.840668</td>\n",
       "    </tr>\n",
       "    <tr>\n",
       "      <th>k=15_std</th>\n",
       "      <td>0.011060</td>\n",
       "      <td>0.001953</td>\n",
       "      <td>0.007663</td>\n",
       "      <td>0.001728</td>\n",
       "    </tr>\n",
       "    <tr>\n",
       "      <th>k=15_mean</th>\n",
       "      <td>0.649566</td>\n",
       "      <td>0.708168</td>\n",
       "      <td>0.797987</td>\n",
       "      <td>0.830674</td>\n",
       "    </tr>\n",
       "  </tbody>\n",
       "</table>\n",
       "</div>"
      ],
      "text/plain": [
       "            test_f1  train_f1  test_accuracy  train_accuracy\n",
       "k=2_std    0.012989  0.003763       0.005579        0.001808\n",
       "k=2_mean   0.659712  0.823564       0.813357        0.901475\n",
       "k=5_std    0.010211  0.002223       0.007338        0.001261\n",
       "k=5_mean   0.689326  0.799843       0.806947        0.875146\n",
       "k=10_std   0.007500  0.004896       0.005407        0.002549\n",
       "k=10_mean  0.647926  0.717080       0.803432        0.840668\n",
       "k=15_std   0.011060  0.001953       0.007663        0.001728\n",
       "k=15_mean  0.649566  0.708168       0.797987        0.830674"
      ]
     },
     "execution_count": 16,
     "metadata": {},
     "output_type": "execute_result"
    }
   ],
   "source": [
    "n_neighbours = [2,5,10,15]\n",
    "knn_cv = cross_val_train(\"KNN\", params=n_neighbours, metrics=metrics)\n",
    "knn_cv\n"
   ]
  },
  {
   "attachments": {},
   "cell_type": "markdown",
   "metadata": {},
   "source": [
    "**OBSERVATIONS ON KNN**\n",
    "\n",
    "- While knn is performing better than the baseline model, it is greatly outperformed by the random forest classifier. \n",
    "- This bad performance is not surprising since knn is not known to perform good in high dimensional datasets."
   ]
  },
  {
   "attachments": {},
   "cell_type": "markdown",
   "metadata": {},
   "source": [
    "***\n",
    "##### **SUPPORT VECTOR MACHINES**"
   ]
  },
  {
   "cell_type": "code",
   "execution_count": 17,
   "metadata": {},
   "outputs": [
    {
     "data": {
      "text/html": [
       "<div>\n",
       "<style scoped>\n",
       "    .dataframe tbody tr th:only-of-type {\n",
       "        vertical-align: middle;\n",
       "    }\n",
       "\n",
       "    .dataframe tbody tr th {\n",
       "        vertical-align: top;\n",
       "    }\n",
       "\n",
       "    .dataframe thead th {\n",
       "        text-align: right;\n",
       "    }\n",
       "</style>\n",
       "<table border=\"1\" class=\"dataframe\">\n",
       "  <thead>\n",
       "    <tr style=\"text-align: right;\">\n",
       "      <th></th>\n",
       "      <th>test_f1</th>\n",
       "      <th>train_f1</th>\n",
       "      <th>test_accuracy</th>\n",
       "      <th>train_accuracy</th>\n",
       "    </tr>\n",
       "  </thead>\n",
       "  <tbody>\n",
       "    <tr>\n",
       "      <th>C=0.1_std</th>\n",
       "      <td>0.014685</td>\n",
       "      <td>0.001635</td>\n",
       "      <td>0.004175</td>\n",
       "      <td>0.000477</td>\n",
       "    </tr>\n",
       "    <tr>\n",
       "      <th>C=0.1_mean</th>\n",
       "      <td>0.465280</td>\n",
       "      <td>0.465677</td>\n",
       "      <td>0.756013</td>\n",
       "      <td>0.755876</td>\n",
       "    </tr>\n",
       "    <tr>\n",
       "      <th>C=1_std</th>\n",
       "      <td>0.008024</td>\n",
       "      <td>0.003361</td>\n",
       "      <td>0.004786</td>\n",
       "      <td>0.001429</td>\n",
       "    </tr>\n",
       "    <tr>\n",
       "      <th>C=1_mean</th>\n",
       "      <td>0.627416</td>\n",
       "      <td>0.630421</td>\n",
       "      <td>0.792404</td>\n",
       "      <td>0.794042</td>\n",
       "    </tr>\n",
       "    <tr>\n",
       "      <th>C=10_std</th>\n",
       "      <td>0.006387</td>\n",
       "      <td>0.001890</td>\n",
       "      <td>0.003399</td>\n",
       "      <td>0.001666</td>\n",
       "    </tr>\n",
       "    <tr>\n",
       "      <th>C=10_mean</th>\n",
       "      <td>0.669110</td>\n",
       "      <td>0.676110</td>\n",
       "      <td>0.808119</td>\n",
       "      <td>0.812013</td>\n",
       "    </tr>\n",
       "  </tbody>\n",
       "</table>\n",
       "</div>"
      ],
      "text/plain": [
       "             test_f1  train_f1  test_accuracy  train_accuracy\n",
       "C=0.1_std   0.014685  0.001635       0.004175        0.000477\n",
       "C=0.1_mean  0.465280  0.465677       0.756013        0.755876\n",
       "C=1_std     0.008024  0.003361       0.004786        0.001429\n",
       "C=1_mean    0.627416  0.630421       0.792404        0.794042\n",
       "C=10_std    0.006387  0.001890       0.003399        0.001666\n",
       "C=10_mean   0.669110  0.676110       0.808119        0.812013"
      ]
     },
     "execution_count": 17,
     "metadata": {},
     "output_type": "execute_result"
    }
   ],
   "source": [
    "svm_pars = [0.1, 1, 10]\n",
    "svm_cv = cross_val_train(\"SVM\",params=svm_pars,metrics=metrics)\n",
    "svm_cv"
   ]
  },
  {
   "attachments": {},
   "cell_type": "markdown",
   "metadata": {},
   "source": [
    "**OBSERVATIONS ON SVM**\n",
    "\n",
    "- Just as KNN, SVM failed to outperform Random forest. However, SVM is not overfitting as much as the other models.\n",
    "\n",
    "\n",
    "### FINAL SUMMARY ON DIFFERENT CLASSIFIERS!\n",
    "- Random forest beat logistic regression on performance.\n",
    "**RANDOM FOREST WON!!**"
   ]
  },
  {
   "cell_type": "markdown",
   "metadata": {},
   "source": [
    "<br><br>"
   ]
  },
  {
   "cell_type": "markdown",
   "metadata": {},
   "source": [
    "## (Optional) 9. Feature selection <a name=\"9\"></a>\n",
    "<hr>\n",
    "rubric={points:1}\n",
    "\n",
    "**Your tasks:**\n",
    "\n",
    "Make some attempts to select relevant features. You may try `RFECV` or forward selection. Do the results improve with feature selection? Summarize your results. If you see improvements in the results, keep feature selection in your pipeline. If not, you may abandon it in the next exercises. "
   ]
  },
  {
   "cell_type": "markdown",
   "metadata": {},
   "source": [
    "<br><br>"
   ]
  },
  {
   "cell_type": "markdown",
   "metadata": {},
   "source": [
    "## 10. Hyperparameter optimization <a name=\"10\"></a>\n",
    "<hr>\n",
    "rubric={points:15}\n",
    "\n",
    "**Your tasks:**\n",
    "\n",
    "Make some attempts to optimize hyperparameters for the models you've tried and summarize your results. You may pick one of the best performing models from the previous exercise and tune hyperparameters only for that model. You may use `sklearn`'s methods for hyperparameter optimization or fancier Bayesian optimization methods. \n",
    "  - [GridSearchCV](http://scikit-learn.org/stable/modules/generated/sklearn.model_selection.GridSearchCV.html)   \n",
    "  - [RandomizedSearchCV](http://scikit-learn.org/stable/modules/generated/sklearn.model_selection.RandomizedSearchCV.html)\n",
    "  - [scikit-optimize](https://github.com/scikit-optimize/scikit-optimize)"
   ]
  },
  {
   "attachments": {},
   "cell_type": "markdown",
   "metadata": {},
   "source": [
    "#### SOLUTION\n",
    "Since random forest gave me the best validation f1 score, I will use it here. \n",
    "In the code cell below, I perform a grid search cross validation using a randomforest classifier.\n",
    "\n",
    "The parameters I chose to tune are the max_depth and the max_features\n"
   ]
  },
  {
   "cell_type": "code",
   "execution_count": 18,
   "metadata": {},
   "outputs": [
    {
     "name": "stdout",
     "output_type": "stream",
     "text": [
      "Best GridSearch Score: 0.822\n"
     ]
    }
   ],
   "source": [
    "# SETTING PARAMETER GRID\n",
    "param_grid = {'max_depth': [18, 20, 30, 40], \n",
    "            'max_features': ['sqrt', 'log2', 5, 10]} \n",
    "\n",
    "# INITIALIZING THE GRID SEARCH\n",
    "grid_search = GridSearchCV(estimator=RandomForestClassifier(random_state=42), param_grid=param_grid, \n",
    "                        scoring=\"f1\", n_jobs=-1)\n",
    "\n",
    "# FITTING GRID SEARCH ON TRAIN SETS\n",
    "grid_search.fit(X_train, y_train)\n",
    "\n",
    "# OBTAINING THE BEST SCORE\n",
    "grid_search_score = grid_search.best_score_\n",
    "print(f\"Best GridSearch Score: {grid_search_score:.3f}\")"
   ]
  },
  {
   "attachments": {},
   "cell_type": "markdown",
   "metadata": {},
   "source": [
    "**OBSERVATIONS**\n",
    "\n",
    "As we see above, the best model gave us an f-score of 0.822 which is really good, especially when compared to the baseline model which gave us a pathetic f-1 score of 0. \n",
    "***"
   ]
  },
  {
   "cell_type": "markdown",
   "metadata": {},
   "source": [
    "<br><br>"
   ]
  },
  {
   "cell_type": "markdown",
   "metadata": {},
   "source": [
    "## 11. Interpretation and feature importances <a name=\"1\"></a>\n",
    "<hr>\n",
    "rubric={points:15}\n",
    "\n",
    "**Your tasks:**\n",
    "\n",
    "1. Use the methods we saw in class (e.g., `eli5`, `shap`) (or any other methods of your choice) to explain feature importances of one of the best performing models. Summarize your observations. "
   ]
  },
  {
   "attachments": {},
   "cell_type": "markdown",
   "metadata": {},
   "source": [
    "#### SOLUTION\n",
    "There are several methods to check for important features. I will use the feature_importance_ attribute of the random forest classifier to obtain the feature importances. \n",
    "\n",
    "This attribute calculates feature importance based on impurity(which is what determines how trees split in a random forest model).\n",
    "\n",
    "In the code cell below, I display the colums alongside their levels of importance in the model. The rows are sorted from the most important features to the least important\n"
   ]
  },
  {
   "cell_type": "code",
   "execution_count": 19,
   "metadata": {},
   "outputs": [
    {
     "data": {
      "text/html": [
       "<div>\n",
       "<style scoped>\n",
       "    .dataframe tbody tr th:only-of-type {\n",
       "        vertical-align: middle;\n",
       "    }\n",
       "\n",
       "    .dataframe tbody tr th {\n",
       "        vertical-align: top;\n",
       "    }\n",
       "\n",
       "    .dataframe thead th {\n",
       "        text-align: right;\n",
       "    }\n",
       "</style>\n",
       "<table border=\"1\" class=\"dataframe\">\n",
       "  <thead>\n",
       "    <tr style=\"text-align: right;\">\n",
       "      <th></th>\n",
       "      <th>Importance</th>\n",
       "    </tr>\n",
       "  </thead>\n",
       "  <tbody>\n",
       "    <tr>\n",
       "      <th>no_of_adults</th>\n",
       "      <td>0.345845</td>\n",
       "    </tr>\n",
       "    <tr>\n",
       "      <th>no_of_weekend_nights</th>\n",
       "      <td>0.124086</td>\n",
       "    </tr>\n",
       "    <tr>\n",
       "      <th>no_of_children</th>\n",
       "      <td>0.110657</td>\n",
       "    </tr>\n",
       "    <tr>\n",
       "      <th>cost</th>\n",
       "      <td>0.091310</td>\n",
       "    </tr>\n",
       "    <tr>\n",
       "      <th>no_of_previous_cancellations</th>\n",
       "      <td>0.069912</td>\n",
       "    </tr>\n",
       "    <tr>\n",
       "      <th>market_segment_type</th>\n",
       "      <td>0.069034</td>\n",
       "    </tr>\n",
       "    <tr>\n",
       "      <th>repeated_guest</th>\n",
       "      <td>0.067387</td>\n",
       "    </tr>\n",
       "    <tr>\n",
       "      <th>room_type_reserved</th>\n",
       "      <td>0.042455</td>\n",
       "    </tr>\n",
       "    <tr>\n",
       "      <th>required_car_parking_space</th>\n",
       "      <td>0.032207</td>\n",
       "    </tr>\n",
       "    <tr>\n",
       "      <th>lead_time</th>\n",
       "      <td>0.013294</td>\n",
       "    </tr>\n",
       "    <tr>\n",
       "      <th>no_of_week_nights</th>\n",
       "      <td>0.011178</td>\n",
       "    </tr>\n",
       "    <tr>\n",
       "      <th>arrival_date</th>\n",
       "      <td>0.010446</td>\n",
       "    </tr>\n",
       "    <tr>\n",
       "      <th>arrival_month</th>\n",
       "      <td>0.007178</td>\n",
       "    </tr>\n",
       "    <tr>\n",
       "      <th>type_of_meal_plan</th>\n",
       "      <td>0.003446</td>\n",
       "    </tr>\n",
       "    <tr>\n",
       "      <th>no_of_previous_bookings_not_canceled</th>\n",
       "      <td>0.000811</td>\n",
       "    </tr>\n",
       "    <tr>\n",
       "      <th>no_of_special_requests</th>\n",
       "      <td>0.000445</td>\n",
       "    </tr>\n",
       "    <tr>\n",
       "      <th>avg_price_per_room</th>\n",
       "      <td>0.000310</td>\n",
       "    </tr>\n",
       "  </tbody>\n",
       "</table>\n",
       "</div>"
      ],
      "text/plain": [
       "                                      Importance\n",
       "no_of_adults                            0.345845\n",
       "no_of_weekend_nights                    0.124086\n",
       "no_of_children                          0.110657\n",
       "cost                                    0.091310\n",
       "no_of_previous_cancellations            0.069912\n",
       "market_segment_type                     0.069034\n",
       "repeated_guest                          0.067387\n",
       "room_type_reserved                      0.042455\n",
       "required_car_parking_space              0.032207\n",
       "lead_time                               0.013294\n",
       "no_of_week_nights                       0.011178\n",
       "arrival_date                            0.010446\n",
       "arrival_month                           0.007178\n",
       "type_of_meal_plan                       0.003446\n",
       "no_of_previous_bookings_not_canceled    0.000811\n",
       "no_of_special_requests                  0.000445\n",
       "avg_price_per_room                      0.000310"
      ]
     },
     "execution_count": 19,
     "metadata": {},
     "output_type": "execute_result"
    }
   ],
   "source": [
    "importances = dict()\n",
    "added = 0\n",
    "for column, importance in zip(add_cost(data.drop([\"arrival_year\", \"booking_status\"], axis=1)).columns, grid_search.best_estimator_.feature_importances_):\n",
    "    importances[column]= [importance]\n",
    "importances = pd.DataFrame(importances).T.rename(columns={0:\"Importance\"}).sort_values(by=\"Importance\", ascending=False)\n",
    "importances\n"
   ]
  },
  {
   "cell_type": "markdown",
   "metadata": {},
   "source": [
    "<br><br>"
   ]
  },
  {
   "attachments": {},
   "cell_type": "markdown",
   "metadata": {},
   "source": [
    "To better picture these importances, below is a plot of the importances of the columns in the random forest model."
   ]
  },
  {
   "cell_type": "code",
   "execution_count": 20,
   "metadata": {},
   "outputs": [
    {
     "data": {
      "image/png": "[encoded data removed]",
      "text/plain": [
       "<Figure size 640x480 with 1 Axes>"
      ]
     },
     "metadata": {},
     "output_type": "display_data"
    }
   ],
   "source": [
    "importances.plot(kind=\"bar\") \n",
    "plt.title(\"Feature Importance Per Column\")\n",
    "plt.ylabel(\"Importance\")\n",
    "plt.xlabel(\"Feature\")\n",
    "plt.grid();\n"
   ]
  },
  {
   "attachments": {},
   "cell_type": "markdown",
   "metadata": {},
   "source": [
    "**OBSERVATIONS ON FEATURE IMPORTANCE**\n",
    "- Number of adults is the most important feature in predicting whether or not a booking is cancelled\n",
    "- Cost, the column that we added, ended up being more important than the average price per room to our model."
   ]
  },
  {
   "cell_type": "markdown",
   "metadata": {},
   "source": [
    "## 12. Results on the test set <a name=\"12\"></a>\n",
    "<hr>\n",
    "\n",
    "rubric={points:5}\n",
    "\n",
    "**Your tasks:**\n",
    "\n",
    "1. Try your best performing model on the test data and report test scores. \n",
    "2. Do the test scores agree with the validation scores from before? To what extent do you trust your results? Do you think you've had issues with optimization bias? "
   ]
  },
  {
   "cell_type": "code",
   "execution_count": 21,
   "metadata": {},
   "outputs": [
    {
     "name": "stdout",
     "output_type": "stream",
     "text": [
      "Score On Test Data: 0.81\n"
     ]
    }
   ],
   "source": [
    "grid_score = grid_search.score(X_test, y_test)\n",
    "print(f\"Score On Test Data: {grid_score:.2f}\")"
   ]
  },
  {
   "attachments": {},
   "cell_type": "markdown",
   "metadata": {},
   "source": [
    "**OBSERVATION ON BEST MODEL**\n",
    "- The score on test data is 0.81. This matches our validation scores. From our validations scores, we saw that on average, the best score was 0.891 which makes sence.\n"
   ]
  },
  {
   "cell_type": "markdown",
   "metadata": {},
   "source": [
    "<br><br>"
   ]
  },
  {
   "cell_type": "markdown",
   "metadata": {},
   "source": [
    "## (Optional) 13. Explaining predictions \n",
    "rubric={points:1}\n",
    "\n",
    "**Your tasks**\n",
    "\n",
    "1. Take one or two test predictions and explain them with SHAP force plots.  "
   ]
  },
  {
   "cell_type": "markdown",
   "metadata": {},
   "source": [
    "<br><br>"
   ]
  },
  {
   "cell_type": "markdown",
   "metadata": {},
   "source": [
    "## 14. Summary of results <a name=\"13\"></a>\n",
    "<hr>\n",
    "rubric={points:10}\n",
    "\n",
    "**Your tasks:**\n",
    "\n",
    "1. Report your final test score along with the metric you used. \n",
    "2. Write concluding remarks.\n",
    "3. Discuss other ideas that you did not try but could potentially improve the performance/interpretability . "
   ]
  },
  {
   "attachments": {},
   "cell_type": "markdown",
   "metadata": {},
   "source": [
    "***\n",
    "##### SOLUTION\n",
    "\n",
    "- My final score was an f-1 score of 0.81. This was better than the other models and significantly better than the baseline model\n",
    "- Other methods that could be important are:\n",
    "   - Trying boosting methods such as XGBOOST and adaboost\n",
    "   - Trying a neural network. The downside of this is that it is not easy to interpret.\n",
    "   - Trying more hyper-parameters, such as more C values on SVM\n",
    "   - Combatting class imbalance with methods such as oversampling"
   ]
  },
  {
   "cell_type": "markdown",
   "metadata": {},
   "source": [
    "<br><br><br><br>"
   ]
  },
  {
   "cell_type": "markdown",
   "metadata": {},
   "source": [
    "## Submission instructions \n",
    "\n",
    "**PLEASE READ:** When you are ready to submit your assignment do the following:\n",
    "\n",
    "1. Run all cells in your notebook to make sure there are no errors by doing `Kernel -> Restart Kernel and Clear All Outputs` and then `Run -> Run All Cells`. \n",
    "2. Notebooks with cell execution numbers out of order or not starting from “1” will have marks deducted. Notebooks without the output displayed may not be graded at all (because we need to see the output in order to grade your work).\n",
    "3. Upload the assignment using Gradescope's drag and drop tool. Check out this [Gradescope Student Guide](https://lthub.ubc.ca/guides/gradescope-student-guide/) if you need help with Gradescope submission. "
   ]
  },
  {
   "cell_type": "markdown",
   "metadata": {},
   "source": []
  }
 ],
 "metadata": {
  "kernelspec": {
   "display_name": "Python 3.9.7 ('base')",
   "language": "python",
   "name": "python3"
  },
  "language_info": {
   "codemirror_mode": {
    "name": "ipython",
    "version": 3
   },
   "file_extension": ".py",
   "mimetype": "text/x-python",
   "name": "python",
   "nbconvert_exporter": "python",
   "pygments_lexer": "ipython3",
   "version": "3.9.13"
  },
  "vscode": {
   "interpreter": {
    "hash": "40d3a090f54c6569ab1632332b64b2c03c39dcf918b08424e98f38b5ae0af88f"
   }
  }
 },
 "nbformat": 4,
 "nbformat_minor": 4
}
